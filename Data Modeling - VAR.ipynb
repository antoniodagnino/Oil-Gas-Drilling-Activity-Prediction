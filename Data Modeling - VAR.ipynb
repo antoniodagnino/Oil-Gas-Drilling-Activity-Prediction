{
 "cells": [
  {
   "cell_type": "markdown",
   "id": "2c1e6b5a",
   "metadata": {},
   "source": [
    "# Drilling Activity Prediction: Data Modeling - VAR\n",
    "\n",
    "- Load datasets and resample to monthly frequency\n",
    "- Use oil dataset to make predictions in oil rig count variable:\n",
    "    - Train/test split\n",
    "    - VAR Model Hyperparameter selection\n",
    "    - Fit the model\n",
    "    - Invert Transformation\n",
    "    - Generate forecast values and plot results\n",
    "    - Evaluation Metrics\n",
    "    - Fit the model again but with 100% of the data\n",
    "    - Forecast real future values\n",
    "\n",
    "\n",
    "- Create Model with Gas dataset to make predictions in Gas Rig Counts"
   ]
  },
  {
   "cell_type": "code",
   "execution_count": 1,
   "id": "c10c5e7f",
   "metadata": {},
   "outputs": [],
   "source": [
    "import numpy as np\n",
    "import pandas as pd\n",
    "import matplotlib.pyplot as plt\n",
    "import seaborn as sns\n",
    "\n",
    "# Load specific forecasting tools\n",
    "from statsmodels.tsa.api import VAR\n",
    "from statsmodels.tsa.stattools import adfuller, grangercausalitytests\n",
    "from statsmodels.tools.eval_measures import rmse, mse, meanabs\n",
    "\n",
    "# Ignore harmless warnings\n",
    "import warnings\n",
    "warnings.filterwarnings(\"ignore\")"
   ]
  },
  {
   "cell_type": "code",
   "execution_count": 2,
   "id": "385f729c",
   "metadata": {},
   "outputs": [],
   "source": [
    "dfoil = pd.read_csv('dfoil.csv',index_col=0,parse_dates=True)\n",
    "dfoil = dfoil.resample('M').mean()\n",
    "dfoil.index.freq = 'M'\n",
    "dfoil_transformed = pd.read_csv('dfoil_transformed.csv',index_col=0,parse_dates=True)\n",
    "dfoil_transformed = dfoil_transformed.resample('M').mean()\n",
    "dfoil_transformed.index.freq = 'M'\n",
    "\n",
    "\n",
    "dfgas = pd.read_csv('dfgas.csv',index_col=0,parse_dates=True)\n",
    "dfgas = dfgas.resample('M').mean()\n",
    "dfgas.index.freq = 'M'\n",
    "dfgas_transformed = pd.read_csv('dfgas_transformed.csv',index_col=0,parse_dates=True)\n",
    "dfgas_transformed = dfgas_transformed.resample('M').mean()\n",
    "dfgas_transformed.index.freq = 'M'"
   ]
  },
  {
   "cell_type": "markdown",
   "id": "bee50657",
   "metadata": {},
   "source": [
    "A $K$-dimensional VAR model of order $p$, denoted <strong>VAR(p)</strong>, considers each variable $y_K$ in the system.<br>\n",
    "\n",
    "For example, The system of equations for a 2-dimensional VAR(1) model is:\n",
    "\n",
    "&nbsp;&nbsp;&nbsp;&nbsp;$y_{1,t} = c_1 + \\phi_{11,1}y_{1,t-1} + \\phi_{12,1}y_{2,t-1} + \\varepsilon_{1,t}$<br>\n",
    "&nbsp;&nbsp;&nbsp;&nbsp;$y_{2,t} = c_2 + \\phi_{21,1}y_{1,t-1} + \\phi_{22,1}y_{2,t-1} + \\varepsilon_{2,t}$\n",
    "\n",
    "where the coefficient $\\phi_{ii,l}$ captures the influence of the $l$th lag of variable $y_i$ on itself,<br>\n",
    "the coefficient $\\phi_{ij,l}$ captures the influence of the $l$th lag of variable $y_j$ on $y_i$,<br>\n",
    "and $\\varepsilon_{1,t}$ and $\\varepsilon_{2,t}$ are white noise processes that may be correlated.<br>\n",
    "\n",
    "Carrying this further, the system of equations for a 2-dimensional VAR(3) model is:\n",
    "\n",
    "&nbsp;&nbsp;&nbsp;&nbsp;$y_{1,t} = c_1 + \\phi_{11,1}y_{1,t-1} + \\phi_{12,1}y_{2,t-1} + \\phi_{11,2}y_{1,t-2} + \\phi_{12,2}y_{2,t-2} + \\phi_{11,3}y_{1,t-3} + \\phi_{12,3}y_{2,t-3} + \\varepsilon_{1,t}$<br>\n",
    "&nbsp;&nbsp;&nbsp;&nbsp;$y_{2,t} = c_2 + \\phi_{21,1}y_{1,t-1} + \\phi_{22,1}y_{2,t-1} + \\phi_{21,2}y_{1,t-2} + \\phi_{22,2}y_{2,t-2} + \\phi_{21,3}y_{1,t-3} + \\phi_{22,3}y_{2,t-3} + \\varepsilon_{2,t}$<br><br>\n",
    "\n",
    "and the system of equations for a 3-dimensional VAR(2) model is:\n",
    "\n",
    "&nbsp;&nbsp;&nbsp;&nbsp;$y_{1,t} = c_1 + \\phi_{11,1}y_{1,t-1} + \\phi_{12,1}y_{2,t-1} + \\phi_{13,1}y_{3,t-1} + \\phi_{11,2}y_{1,t-2} + \\phi_{12,2}y_{2,t-2} + \\phi_{13,2}y_{3,t-2} + \\varepsilon_{1,t}$<br>\n",
    "&nbsp;&nbsp;&nbsp;&nbsp;$y_{2,t} = c_2 + \\phi_{21,1}y_{1,t-1} + \\phi_{22,1}y_{2,t-1} + \\phi_{23,1}y_{3,t-1} + \\phi_{21,2}y_{1,t-2} + \\phi_{22,2}y_{2,t-2} + \\phi_{23,2}y_{3,t-2} + \\varepsilon_{2,t}$<br>\n",
    "&nbsp;&nbsp;&nbsp;&nbsp;$y_{3,t} = c_3 + \\phi_{31,1}y_{1,t-1} + \\phi_{32,1}y_{2,t-1} + \\phi_{33,1}y_{3,t-1} + \\phi_{31,2}y_{1,t-2} + \\phi_{32,2}y_{2,t-2} + \\phi_{33,2}y_{3,t-2} + \\varepsilon_{3,t}$<br><br>"
   ]
  },
  {
   "cell_type": "markdown",
   "id": "1460916c",
   "metadata": {},
   "source": [
    "#### Train/test split\n",
    "\n",
    "- We will evaluate the model forecasting 12 months ahead (1 year)\n",
    "- Train test split. Test df will have 12 data points"
   ]
  },
  {
   "cell_type": "code",
   "execution_count": 3,
   "id": "71e950fb",
   "metadata": {},
   "outputs": [],
   "source": [
    "\"\"\"\n",
    "nobs is the variable that will be used to determine the number of months to predict.\n",
    "\"\"\"\n",
    "\n",
    "nobs=12\n",
    "train, test = dfoil_transformed[0:-nobs], dfoil_transformed[-nobs:]"
   ]
  },
  {
   "cell_type": "markdown",
   "id": "974607b5",
   "metadata": {},
   "source": [
    "#### Fit VAR model and hyperparameter selection"
   ]
  },
  {
   "cell_type": "code",
   "execution_count": 4,
   "id": "791c84fe",
   "metadata": {},
   "outputs": [],
   "source": [
    "oil_model = VAR(train)"
   ]
  },
  {
   "cell_type": "code",
   "execution_count": 5,
   "id": "ebf9460d",
   "metadata": {},
   "outputs": [
    {
     "name": "stdout",
     "output_type": "stream",
     "text": [
      "Order = 0\n",
      "AIC:  25.860983762346187\n",
      "BIC:  25.924899703094788\n",
      "\n",
      "Order = 1\n",
      "AIC:  24.597636353860544\n",
      "BIC:  24.98210889915198\n",
      "\n",
      "Order = 2\n",
      "AIC:  24.52636927281152\n",
      "BIC:  25.23303681893429\n",
      "\n",
      "Order = 3\n",
      "AIC:  24.467630958615732\n",
      "BIC:  25.49814598268449\n",
      "\n",
      "Order = 4\n",
      "AIC:  24.429122561424123\n",
      "BIC:  25.78515178996491\n",
      "\n",
      "Order = 5\n",
      "AIC:  24.481616590770667\n",
      "BIC:  26.16484117088948\n",
      "\n",
      "Order = 6\n",
      "AIC:  24.529688580817023\n",
      "BIC:  26.541804254\n",
      "\n",
      "Order = 7\n",
      "AIC:  24.592321502733032\n",
      "BIC:  26.935038781327464\n",
      "\n",
      "Order = 8\n",
      "AIC:  24.68548267419674\n",
      "BIC:  27.36052702062329\n",
      "\n",
      "Order = 9\n",
      "AIC:  24.60394326777575\n",
      "BIC:  27.61305527652336\n",
      "\n"
     ]
    }
   ],
   "source": [
    "for i in range(10):\n",
    "    oil_results = oil_model.fit(i)\n",
    "    print('Order =', i)\n",
    "    print('AIC: ', oil_results.aic)\n",
    "    print('BIC: ', oil_results.bic)\n",
    "    print()"
   ]
  },
  {
   "cell_type": "code",
   "execution_count": 6,
   "id": "5fa33501",
   "metadata": {},
   "outputs": [],
   "source": [
    "\"\"\"\n",
    "Choose best AIC based on test done before\n",
    "\"\"\"\n",
    "\n",
    "oil_results = oil_model.fit(4)"
   ]
  },
  {
   "cell_type": "code",
   "execution_count": 7,
   "id": "15badd82",
   "metadata": {},
   "outputs": [
    {
     "data": {
      "text/plain": [
       "['oilrig_count', 'oil_price', 'oilconsumption', 'oilproduction', 'oilstorage']"
      ]
     },
     "execution_count": 7,
     "metadata": {},
     "output_type": "execute_result"
    }
   ],
   "source": [
    "oil_model.endog_names"
   ]
  },
  {
   "cell_type": "code",
   "execution_count": 8,
   "id": "8f76a9b3",
   "metadata": {},
   "outputs": [
    {
     "data": {
      "text/plain": [
       "  Summary of Regression Results   \n",
       "==================================\n",
       "Model:                         VAR\n",
       "Method:                        OLS\n",
       "Date:           Mon, 08, Nov, 2021\n",
       "Time:                     10:22:10\n",
       "--------------------------------------------------------------------\n",
       "No. of Equations:         5.00000    BIC:                    25.7852\n",
       "Nobs:                     282.000    HQIC:                   24.9729\n",
       "Log likelihood:          -5340.21    FPE:                4.07411e+10\n",
       "AIC:                      24.4291    Det(Omega_mle):     2.84489e+10\n",
       "--------------------------------------------------------------------\n",
       "Results for equation oilrig_count\n",
       "====================================================================================\n",
       "                       coefficient       std. error           t-stat            prob\n",
       "------------------------------------------------------------------------------------\n",
       "const                    -0.004239         0.088716           -0.048           0.962\n",
       "L1.oilrig_count           0.868877         0.066624           13.041           0.000\n",
       "L1.oil_price              0.968637         0.250528            3.866           0.000\n",
       "L1.oilconsumption         0.001506         0.002387            0.631           0.528\n",
       "L1.oilproduction         -0.008501         0.007000           -1.214           0.225\n",
       "L1.oilstorage            -0.000201         0.000121           -1.652           0.099\n",
       "L2.oilrig_count          -0.326320         0.086814           -3.759           0.000\n",
       "L2.oil_price              0.758425         0.259613            2.921           0.003\n",
       "L2.oilconsumption        -0.003653         0.002544           -1.436           0.151\n",
       "L2.oilproduction         -0.007841         0.006842           -1.146           0.252\n",
       "L2.oilstorage             0.000165         0.000123            1.337           0.181\n",
       "L3.oilrig_count           0.151846         0.086503            1.755           0.079\n",
       "L3.oil_price              0.450234         0.263151            1.711           0.087\n",
       "L3.oilconsumption         0.000731         0.002540            0.288           0.773\n",
       "L3.oilproduction          0.003383         0.006743            0.502           0.616\n",
       "L3.oilstorage             0.000058         0.000125            0.467           0.640\n",
       "L4.oilrig_count           0.009282         0.062279            0.149           0.882\n",
       "L4.oil_price             -0.022142         0.254116           -0.087           0.931\n",
       "L4.oilconsumption         0.002843         0.002311            1.230           0.219\n",
       "L4.oilproduction         -0.002727         0.006813           -0.400           0.689\n",
       "L4.oilstorage            -0.000047         0.000125           -0.373           0.709\n",
       "====================================================================================\n",
       "\n",
       "Results for equation oil_price\n",
       "====================================================================================\n",
       "                       coefficient       std. error           t-stat            prob\n",
       "------------------------------------------------------------------------------------\n",
       "const                    -0.003182         0.023173           -0.137           0.891\n",
       "L1.oilrig_count          -0.007738         0.017402           -0.445           0.657\n",
       "L1.oil_price              0.253110         0.065438            3.868           0.000\n",
       "L1.oilconsumption         0.000309         0.000623            0.496           0.620\n",
       "L1.oilproduction         -0.000136         0.001828           -0.074           0.941\n",
       "L1.oilstorage            -0.000003         0.000032           -0.096           0.924\n",
       "L2.oilrig_count          -0.026255         0.022676           -1.158           0.247\n",
       "L2.oil_price              0.092557         0.067811            1.365           0.172\n",
       "L2.oilconsumption        -0.000195         0.000664           -0.293           0.769\n",
       "L2.oilproduction          0.002065         0.001787            1.156           0.248\n",
       "L2.oilstorage             0.000039         0.000032            1.224           0.221\n",
       "L3.oilrig_count           0.016113         0.022595            0.713           0.476\n",
       "L3.oil_price             -0.011742         0.068735           -0.171           0.864\n",
       "L3.oilconsumption        -0.000226         0.000663           -0.341           0.733\n",
       "L3.oilproduction          0.002399         0.001761            1.362           0.173\n",
       "L3.oilstorage            -0.000012         0.000033           -0.382           0.702\n",
       "L4.oilrig_count           0.004495         0.016267            0.276           0.782\n",
       "L4.oil_price              0.004108         0.066375            0.062           0.951\n",
       "L4.oilconsumption        -0.000270         0.000604           -0.448           0.654\n",
       "L4.oilproduction         -0.002228         0.001780           -1.252           0.210\n",
       "L4.oilstorage             0.000018         0.000033            0.542           0.588\n",
       "====================================================================================\n",
       "\n",
       "Results for equation oilconsumption\n",
       "====================================================================================\n",
       "                       coefficient       std. error           t-stat            prob\n",
       "------------------------------------------------------------------------------------\n",
       "const                    -0.631277         2.339534           -0.270           0.787\n",
       "L1.oilrig_count           1.616613         1.756942            0.920           0.358\n",
       "L1.oil_price              3.070040         6.606670            0.465           0.642\n",
       "L1.oilconsumption        -0.458079         0.062947           -7.277           0.000\n",
       "L1.oilproduction          0.328186         0.184604            1.778           0.075\n",
       "L1.oilstorage            -0.011901         0.003204           -3.715           0.000\n",
       "L2.oilrig_count          -3.520688         2.289373           -1.538           0.124\n",
       "L2.oil_price              5.094881         6.846260            0.744           0.457\n",
       "L2.oilconsumption        -0.342884         0.067080           -5.112           0.000\n",
       "L2.oilproduction          0.057527         0.180438            0.319           0.750\n",
       "L2.oilstorage            -0.000936         0.003252           -0.288           0.773\n",
       "L3.oilrig_count           2.518371         2.281162            1.104           0.270\n",
       "L3.oil_price             -1.620052         6.939549           -0.233           0.815\n",
       "L3.oilconsumption        -0.188056         0.066970           -2.808           0.005\n",
       "L3.oilproduction         -0.082228         0.177816           -0.462           0.644\n",
       "L3.oilstorage             0.009281         0.003287            2.823           0.005\n",
       "L4.oilrig_count           0.593823         1.642366            0.362           0.718\n",
       "L4.oil_price              7.294443         6.701277            1.089           0.276\n",
       "L4.oilconsumption        -0.089410         0.060943           -1.467           0.142\n",
       "L4.oilproduction         -0.480897         0.179672           -2.677           0.007\n",
       "L4.oilstorage             0.012620         0.003301            3.823           0.000\n",
       "====================================================================================\n",
       "\n",
       "Results for equation oilproduction\n",
       "====================================================================================\n",
       "                       coefficient       std. error           t-stat            prob\n",
       "------------------------------------------------------------------------------------\n",
       "const                     1.728948         0.792665            2.181           0.029\n",
       "L1.oilrig_count           0.991359         0.595275            1.665           0.096\n",
       "L1.oil_price             -0.654229         2.238427           -0.292           0.770\n",
       "L1.oilconsumption         0.033474         0.021327            1.570           0.117\n",
       "L1.oilproduction         -0.161057         0.062546           -2.575           0.010\n",
       "L1.oilstorage            -0.000103         0.001085           -0.095           0.924\n",
       "L2.oilrig_count           0.322327         0.775670            0.416           0.678\n",
       "L2.oil_price             -1.252623         2.319603           -0.540           0.589\n",
       "L2.oilconsumption        -0.023229         0.022728           -1.022           0.307\n",
       "L2.oilproduction         -0.020903         0.061135           -0.342           0.732\n",
       "L2.oilstorage            -0.003621         0.001102           -3.287           0.001\n",
       "L3.oilrig_count          -1.175841         0.772888           -1.521           0.128\n",
       "L3.oil_price             -1.538217         2.351210           -0.654           0.513\n",
       "L3.oilconsumption        -0.024136         0.022690           -1.064           0.287\n",
       "L3.oilproduction          0.177192         0.060246            2.941           0.003\n",
       "L3.oilstorage            -0.002223         0.001114           -1.996           0.046\n",
       "L4.oilrig_count           0.613062         0.556455            1.102           0.271\n",
       "L4.oil_price             -6.307282         2.270481           -2.778           0.005\n",
       "L4.oilconsumption         0.002548         0.020648            0.123           0.902\n",
       "L4.oilproduction         -0.007057         0.060875           -0.116           0.908\n",
       "L4.oilstorage            -0.002374         0.001119           -2.122           0.034\n",
       "====================================================================================\n",
       "\n",
       "Results for equation oilstorage\n",
       "====================================================================================\n",
       "                       coefficient       std. error           t-stat            prob\n",
       "------------------------------------------------------------------------------------\n",
       "const                    69.360238        46.224280            1.501           0.133\n",
       "L1.oilrig_count         -17.779632        34.713474           -0.512           0.609\n",
       "L1.oil_price           -146.042884       130.533906           -1.119           0.263\n",
       "L1.oilconsumption        -3.807730         1.243695           -3.062           0.002\n",
       "L1.oilproduction          0.935268         3.647387            0.256           0.798\n",
       "L1.oilstorage             0.136198         0.063297            2.152           0.031\n",
       "L2.oilrig_count         -32.223970        45.233198           -0.712           0.476\n",
       "L2.oil_price           -127.580413       135.267703           -0.943           0.346\n",
       "L2.oilconsumption        -1.987283         1.325358           -1.499           0.134\n",
       "L2.oilproduction         -2.745692         3.565073           -0.770           0.441\n",
       "L2.oilstorage            -0.094846         0.064251           -1.476           0.140\n",
       "L3.oilrig_count         -25.783322        45.070972           -0.572           0.567\n",
       "L3.oil_price            124.412820       137.110884            0.907           0.364\n",
       "L3.oilconsumption         0.194556         1.323193            0.147           0.883\n",
       "L3.oilproduction          4.128691         3.513267            1.175           0.240\n",
       "L3.oilstorage            -0.008806         0.064952           -0.136           0.892\n",
       "L4.oilrig_count          37.766865        32.449698            1.164           0.244\n",
       "L4.oil_price           -291.316758       132.403143           -2.200           0.028\n",
       "L4.oilconsumption        -1.345975         1.204108           -1.118           0.264\n",
       "L4.oilproduction          2.688825         3.549946            0.757           0.449\n",
       "L4.oilstorage            -0.164605         0.065229           -2.523           0.012\n",
       "====================================================================================\n",
       "\n",
       "Correlation matrix of residuals\n",
       "                  oilrig_count  oil_price  oilconsumption  oilproduction  oilstorage\n",
       "oilrig_count          1.000000   0.278937        0.255925       0.086554   -0.201238\n",
       "oil_price             0.278937   1.000000        0.019158      -0.094203   -0.210096\n",
       "oilconsumption        0.255925   0.019158        1.000000       0.251347   -0.156062\n",
       "oilproduction         0.086554  -0.094203        0.251347       1.000000    0.040600\n",
       "oilstorage           -0.201238  -0.210096       -0.156062       0.040600    1.000000\n",
       "\n"
      ]
     },
     "execution_count": 8,
     "metadata": {},
     "output_type": "execute_result"
    }
   ],
   "source": [
    "oil_results.summary()"
   ]
  },
  {
   "cell_type": "code",
   "execution_count": 9,
   "id": "ebf1323f",
   "metadata": {},
   "outputs": [
    {
     "data": {
      "text/plain": [
       "4"
      ]
     },
     "execution_count": 9,
     "metadata": {},
     "output_type": "execute_result"
    }
   ],
   "source": [
    "lag_order = oil_results.k_ar\n",
    "lag_order"
   ]
  },
  {
   "cell_type": "markdown",
   "id": "efd100ba",
   "metadata": {},
   "source": [
    "#### Generate Forecast values and plot results\n",
    "\n",
    "- Create forecasts of differenced dataframe\n",
    "- Transform forecast results into dataframe\n",
    "- Add datetime index to forecast dataframe\n",
    "- Invert dataframe transformation\n",
    "- Plot results and compare Forecasted values Vs Test set"
   ]
  },
  {
   "cell_type": "code",
   "execution_count": 10,
   "id": "4315bff0",
   "metadata": {},
   "outputs": [],
   "source": [
    "\"\"\"\n",
    "y: Grab the last 4 values (lagged values) before the test set starts in format p x k (series).\n",
    "steps: amount of steps you want to forecast\n",
    "\"\"\"\n",
    "\n",
    "z = oil_results.forecast(y=train.values[-lag_order:], steps=nobs)"
   ]
  },
  {
   "cell_type": "code",
   "execution_count": 11,
   "id": "6774ba3d",
   "metadata": {},
   "outputs": [
    {
     "data": {
      "text/plain": [
       "Timestamp('2020-11-30 00:00:00', freq='M')"
      ]
     },
     "execution_count": 11,
     "metadata": {},
     "output_type": "execute_result"
    }
   ],
   "source": [
    "test.index.min()"
   ]
  },
  {
   "cell_type": "code",
   "execution_count": 12,
   "id": "40b1ab3a",
   "metadata": {},
   "outputs": [],
   "source": [
    "idx = pd.date_range(test.index.min(), periods=nobs, freq='M')\n",
    "dfoil_forecast = pd.DataFrame(z, index=idx, columns=['oilrig_count2d', 'oil_price2d', 'oilconsumption2d', 'oilproduction2d',\n",
    "       'oilstorage2d'])"
   ]
  },
  {
   "cell_type": "code",
   "execution_count": 13,
   "id": "b051f108",
   "metadata": {},
   "outputs": [],
   "source": [
    "dfoil_forecast['oilrig_count1d'] = (dfoil['oilrig_count'].iloc[-nobs-1]-dfoil['oilrig_count'].iloc[-nobs-2])+dfoil_forecast['oilrig_count2d'].cumsum()\n",
    "dfoil_forecast['oilrig_forecast'] = dfoil['oilrig_count'].iloc[-nobs-1] + dfoil_forecast['oilrig_count1d'].cumsum()"
   ]
  },
  {
   "cell_type": "code",
   "execution_count": 14,
   "id": "5e055020",
   "metadata": {},
   "outputs": [
    {
     "data": {
      "text/plain": [
       "<AxesSubplot:title={'center':'Oil Rig Count Prediction: FORECAST vs TEST Set'}>"
      ]
     },
     "execution_count": 14,
     "metadata": {},
     "output_type": "execute_result"
    },
    {
     "data": {
      "image/png": "[encoded data removed]",
      "text/plain": [
       "<Figure size 864x432 with 1 Axes>"
      ]
     },
     "metadata": {
      "needs_background": "light"
     },
     "output_type": "display_data"
    }
   ],
   "source": [
    "dfoil['oilrig_count'].loc['2015':].plot(figsize=(12,6),legend=True)\n",
    "dfoil_forecast['oilrig_forecast'].plot(legend=True,linewidth=4,title='Oil Rig Count Prediction: FORECAST vs TEST Set')"
   ]
  },
  {
   "cell_type": "markdown",
   "id": "08c3ad38",
   "metadata": {},
   "source": [
    "#### Evaluation Metrics"
   ]
  },
  {
   "cell_type": "code",
   "execution_count": 15,
   "id": "bc7d8e96",
   "metadata": {},
   "outputs": [
    {
     "name": "stdout",
     "output_type": "stream",
     "text": [
      "Oil Rig VAR(4) RMSE: 50.464\n",
      "Oil Rig VAR(4) MSE: 2546.574\n",
      "Oil Rig VAR(4) MAE: 37.673\n",
      "\n",
      "Oil Rig Mean Value: 345.055\n",
      "Oil Rig std Value: 54.791\n",
      "Oil Rig Percent Change: 14.625%\n"
     ]
    }
   ],
   "source": [
    "RMSE1 = rmse(dfoil['oilrig_count'].loc[test.index.min():],dfoil_forecast['oilrig_forecast'])\n",
    "MSE1 = mse(dfoil['oilrig_count'].loc[test.index.min():],dfoil_forecast['oilrig_forecast'])\n",
    "MAE1 = meanabs(dfoil['oilrig_count'].loc[test.index.min():],dfoil_forecast['oilrig_forecast'])\n",
    "\n",
    "print(f\"\"\"Oil Rig VAR(4) RMSE: {RMSE1:.3f}\n",
    "Oil Rig VAR(4) MSE: {MSE1:.3f}\n",
    "Oil Rig VAR(4) MAE: {MAE1:.3f}\\n\n",
    "Oil Rig Mean Value: {dfoil['oilrig_count'][-nobs:].mean():.3f}\n",
    "Oil Rig std Value: {dfoil['oilrig_count'][-nobs:].std():.3f}\n",
    "Oil Rig Percent Change: {RMSE1/dfoil['oilrig_count'][-nobs:].mean()*100:.3f}%\"\"\")"
   ]
  },
  {
   "cell_type": "markdown",
   "id": "a9918d5d",
   "metadata": {},
   "source": [
    "#### Fit Model with 100% of Data and forecast Real Future"
   ]
  },
  {
   "cell_type": "code",
   "execution_count": 16,
   "id": "d50b5fff",
   "metadata": {},
   "outputs": [],
   "source": [
    "oil_model = VAR(dfoil_transformed)\n",
    "oil_results = oil_model.fit(4)\n",
    "z = oil_results.forecast(y=dfoil_transformed.values, steps=nobs)\n",
    "idx = pd.date_range(dfoil_transformed.index.max(), periods=nobs, freq='M')\n",
    "dfoil_forecast = pd.DataFrame(z, index=idx, columns=['oilrig_count2d', 'oil_price2d', 'oilconsumption2d', 'oilproduction2d',\n",
    "       'oilstorage2d'])\n",
    "dfoil_forecast['oilrig_count1d'] = (dfoil['oilrig_count'].iloc[-1]-dfoil['oilrig_count'].iloc[-2])+dfoil_forecast['oilrig_count2d'].cumsum()\n",
    "dfoil_forecast['oilrig_forecast'] = dfoil['oilrig_count'].iloc[-1] + dfoil_forecast['oilrig_count1d'].cumsum()"
   ]
  },
  {
   "cell_type": "code",
   "execution_count": 17,
   "id": "096d4d71",
   "metadata": {},
   "outputs": [
    {
     "data": {
      "text/plain": [
       "<AxesSubplot:title={'center':'Oil Rig Count Prediction: REAL FORECAST'}>"
      ]
     },
     "execution_count": 17,
     "metadata": {},
     "output_type": "execute_result"
    },
    {
     "data": {
      "image/png": "[encoded data removed]",
      "text/plain": [
       "<Figure size 864x432 with 1 Axes>"
      ]
     },
     "metadata": {
      "needs_background": "light"
     },
     "output_type": "display_data"
    }
   ],
   "source": [
    "dfoil['oilrig_count'].loc['2015':].plot(figsize=(12,6),legend=True)\n",
    "dfoil_forecast['oilrig_forecast'].plot(legend=True,linewidth=3,title='Oil Rig Count Prediction: REAL FORECAST')"
   ]
  },
  {
   "cell_type": "markdown",
   "id": "0b01af52",
   "metadata": {},
   "source": [
    "#### Create model with Gas Rig Counts"
   ]
  },
  {
   "cell_type": "code",
   "execution_count": 18,
   "id": "8adeb37d",
   "metadata": {},
   "outputs": [
    {
     "data": {
      "text/plain": [
       "Index(['gasrig_count', 'gas_price', 'gaswell_count', 'gasimports_amount',\n",
       "       'gasconsumption_amount'],\n",
       "      dtype='object')"
      ]
     },
     "execution_count": 18,
     "metadata": {},
     "output_type": "execute_result"
    }
   ],
   "source": [
    "dfgas.columns"
   ]
  },
  {
   "cell_type": "code",
   "execution_count": 19,
   "id": "cc070932",
   "metadata": {},
   "outputs": [],
   "source": [
    "train, test = dfgas_transformed[0:-nobs], dfgas_transformed[-nobs:]\n",
    "gas_model = VAR(train)\n",
    "gas_results = gas_model.fit(4)\n",
    "z2 = gas_results.forecast(y=train.values, steps=nobs)\n",
    "idx2 = pd.date_range(test.index.min(), periods=nobs, freq='M')\n",
    "dfgas_forecast = pd.DataFrame(z2, index=idx2, columns=['gasrig_count2d', 'gas_price2d', 'gaswell_count2d', 'gasimports_amount2d',\n",
    "       'gasconsumption_amount2d'])\n",
    "dfgas_forecast['gasrig_count1d'] = (dfgas['gasrig_count'].iloc[-nobs-1]-dfgas['gasrig_count'].iloc[-nobs-2])+dfgas_forecast['gasrig_count2d'].cumsum()\n",
    "dfgas_forecast['gasrig_forecast'] = dfgas['gasrig_count'].iloc[-nobs-1] + dfgas_forecast['gasrig_count1d'].cumsum()"
   ]
  },
  {
   "cell_type": "code",
   "execution_count": 20,
   "id": "628daf36",
   "metadata": {},
   "outputs": [
    {
     "data": {
      "text/plain": [
       "<AxesSubplot:title={'center':'Gas Rig Count Prediction: FORECAST vs TEST Set'}>"
      ]
     },
     "execution_count": 20,
     "metadata": {},
     "output_type": "execute_result"
    },
    {
     "data": {
      "image/png": "[encoded data removed]",
      "text/plain": [
       "<Figure size 864x432 with 1 Axes>"
      ]
     },
     "metadata": {
      "needs_background": "light"
     },
     "output_type": "display_data"
    }
   ],
   "source": [
    "dfgas['gasrig_count'].loc['2015':].plot(figsize=(12,6),legend=True)\n",
    "dfgas_forecast['gasrig_forecast'].plot(legend=True,linewidth=4,title='Gas Rig Count Prediction: FORECAST vs TEST Set')"
   ]
  },
  {
   "cell_type": "code",
   "execution_count": 21,
   "id": "b448c234",
   "metadata": {},
   "outputs": [
    {
     "name": "stdout",
     "output_type": "stream",
     "text": [
      "Gas Rig VAR(4) RMSE: 11.121\n",
      "Gas Rig VAR(4) MSE: 123.684\n",
      "Gas Rig VAR(4) MAE: 10.581\n",
      "\n",
      "Gas Rig Mean Value: 94.254\n",
      "Gas Rig std Value: 7.984\n",
      "Gas Rig Percent Change: 11.799%\n"
     ]
    }
   ],
   "source": [
    "RMSE2 = rmse(dfgas['gasrig_count'].loc[test.index.min():],dfgas_forecast['gasrig_forecast'])\n",
    "MSE2 = mse(dfgas['gasrig_count'].loc[test.index.min():],dfgas_forecast['gasrig_forecast'])\n",
    "MAE2 = meanabs(dfgas['gasrig_count'].loc[test.index.min():],dfgas_forecast['gasrig_forecast'])\n",
    "\n",
    "print(f\"\"\"Gas Rig VAR(4) RMSE: {RMSE2:.3f}\n",
    "Gas Rig VAR(4) MSE: {MSE2:.3f}\n",
    "Gas Rig VAR(4) MAE: {MAE2:.3f}\\n\n",
    "Gas Rig Mean Value: {dfgas['gasrig_count'][-nobs:].mean():.3f}\n",
    "Gas Rig std Value: {dfgas['gasrig_count'][-nobs:].std():.3f}\n",
    "Gas Rig Percent Change: {RMSE2/dfgas['gasrig_count'][-nobs:].mean()*100:.3f}%\"\"\")"
   ]
  },
  {
   "cell_type": "markdown",
   "id": "1d902d90",
   "metadata": {},
   "source": [
    "RE-Fit model with 100% of data for TRUE Forecasting"
   ]
  },
  {
   "cell_type": "code",
   "execution_count": 22,
   "id": "2b45937a",
   "metadata": {},
   "outputs": [],
   "source": [
    "gas_model = VAR(dfgas_transformed)\n",
    "gas_results = gas_model.fit(4)\n",
    "z = gas_results.forecast(y=dfgas_transformed.values, steps=nobs)\n",
    "idx = pd.date_range(dfgas_transformed.index.max(), periods=nobs, freq='M')\n",
    "dfgas_forecast = pd.DataFrame(z, index=idx, columns=['gasrig_count2d', 'gas_price2d', 'gaswell_count2d', 'gasimports_amount2d',\n",
    "       'gasconsumption_amount2d'])\n",
    "dfgas_forecast['gasrig_count1d'] = (dfgas['gasrig_count'].iloc[-1]-dfgas['gasrig_count'].iloc[-2])+dfgas_forecast['gasrig_count2d'].cumsum()\n",
    "dfgas_forecast['gasrig_forecast'] = dfgas['gasrig_count'].iloc[-1] + dfgas_forecast['gasrig_count1d'].cumsum()"
   ]
  },
  {
   "cell_type": "code",
   "execution_count": 23,
   "id": "a9374216",
   "metadata": {},
   "outputs": [
    {
     "data": {
      "text/plain": [
       "<AxesSubplot:title={'center':'Gas Rig Count Prediction: REAL FORECAST'}>"
      ]
     },
     "execution_count": 23,
     "metadata": {},
     "output_type": "execute_result"
    },
    {
     "data": {
      "image/png": "[encoded data removed]",
      "text/plain": [
       "<Figure size 864x432 with 1 Axes>"
      ]
     },
     "metadata": {
      "needs_background": "light"
     },
     "output_type": "display_data"
    }
   ],
   "source": [
    "dfgas['gasrig_count'].loc['2015':].plot(figsize=(12,6),legend=True)\n",
    "dfgas_forecast['gasrig_forecast'].plot(legend=True,linewidth=4,title='Gas Rig Count Prediction: REAL FORECAST')"
   ]
  }
 ],
 "metadata": {
  "kernelspec": {
   "display_name": "Python 3 (ipykernel)",
   "language": "python",
   "name": "python3"
  },
  "language_info": {
   "codemirror_mode": {
    "name": "ipython",
    "version": 3
   },
   "file_extension": ".py",
   "mimetype": "text/x-python",
   "name": "python",
   "nbconvert_exporter": "python",
   "pygments_lexer": "ipython3",
   "version": "3.9.6"
  }
 },
 "nbformat": 4,
 "nbformat_minor": 5
}
