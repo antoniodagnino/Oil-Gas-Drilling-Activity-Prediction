{
 "cells": [
  {
   "cell_type": "markdown",
   "metadata": {},
   "source": [
    "# Drilling Activity Prediction"
   ]
  },
  {
   "cell_type": "markdown",
   "metadata": {},
   "source": [
    "## Content\n",
    "- Obtain data from EIA (Energy Information Administration)\n",
    "- Build DataFrame with data obtained from EIA"
   ]
  },
  {
   "cell_type": "markdown",
   "metadata": {},
   "source": [
    "## Obtain data from EIA (Energy Information Administration)"
   ]
  },
  {
   "cell_type": "code",
   "execution_count": 1,
   "metadata": {},
   "outputs": [],
   "source": [
    "import numpy as np\n",
    "import pandas as pd\n",
    "import matplotlib.pyplot as plt\n",
    "import seaborn as sns\n",
    "import requests"
   ]
  },
  {
   "cell_type": "markdown",
   "metadata": {},
   "source": [
    "API Overview"
   ]
  },
  {
   "cell_type": "code",
   "execution_count": 2,
   "metadata": {},
   "outputs": [],
   "source": [
    "EIA_key = \"YOURKEYHERE\"\n",
    "url = \"http://api.eia.gov/category/?api_key=\"+EIA_key+\"&category_id=371\"\n",
    "response = requests.get(url)\n",
    "data_raw = response.json()"
   ]
  },
  {
   "cell_type": "code",
   "execution_count": 3,
   "metadata": {},
   "outputs": [
    {
     "data": {
      "text/plain": [
       "{'request': {'category_id': 371, 'command': 'category'},\n",
       " 'category': {'category_id': '371',\n",
       "  'parent_category_id': None,\n",
       "  'name': 'EIA Data Sets',\n",
       "  'notes': '',\n",
       "  'childcategories': [{'category_id': 0, 'name': 'Electricity'},\n",
       "   {'category_id': 40203, 'name': 'State Energy Data System (SEDS)'},\n",
       "   {'category_id': 714755, 'name': 'Petroleum'},\n",
       "   {'category_id': 714804, 'name': 'Natural Gas'},\n",
       "   {'category_id': 711224, 'name': 'Total Energy'},\n",
       "   {'category_id': 717234, 'name': 'Coal'},\n",
       "   {'category_id': 829714, 'name': 'Short-Term Energy Outlook'},\n",
       "   {'category_id': 964164, 'name': 'Annual Energy Outlook'},\n",
       "   {'category_id': 1292190, 'name': 'Crude Oil Imports'},\n",
       "   {'category_id': 2123635, 'name': 'U.S. Electric System Operating Data'},\n",
       "   {'category_id': 2134384, 'name': 'International Energy Data'},\n",
       "   {'category_id': 2251604, 'name': 'CO2 Emissions'},\n",
       "   {'category_id': 2631064, 'name': 'International Energy Outlook'},\n",
       "   {'category_id': 2889994, 'name': 'U.S. Nuclear Outages'}],\n",
       "  'childseries': []}}"
      ]
     },
     "execution_count": 3,
     "metadata": {},
     "output_type": "execute_result"
    }
   ],
   "source": [
    "data_raw"
   ]
  },
  {
   "cell_type": "markdown",
   "metadata": {},
   "source": [
    "API Data download Example: Obtain Oil Price in USD/bbl in time"
   ]
  },
  {
   "cell_type": "code",
   "execution_count": 4,
   "metadata": {},
   "outputs": [],
   "source": [
    "seriesid = 'PET.RWTC.D'\n",
    "response2 = requests.get('http://api.eia.gov/series/?api_key='+EIA_key+'&series_id='+seriesid)\n",
    "API_data = response2.json()"
   ]
  },
  {
   "cell_type": "code",
   "execution_count": 5,
   "metadata": {},
   "outputs": [
    {
     "name": "stdout",
     "output_type": "stream",
     "text": [
      "name:      Cushing, OK WTI Spot Price FOB, Daily\n",
      "description:      Cushing, OK WTI Spot Price FOB\n",
      "units:      Dollars per Barrel\n",
      "source:      Thomson-Reuters\n",
      "start:      19860102\n",
      "end:      20211025\n",
      "updated:      2021-10-27T13:11:19-0400\n"
     ]
    }
   ],
   "source": [
    "for key in ['name','description','units','source','start','end','updated']:\n",
    "    print(key+\":     \", API_data['series'][0].get(key))"
   ]
  },
  {
   "cell_type": "code",
   "execution_count": 6,
   "metadata": {},
   "outputs": [
    {
     "data": {
      "text/plain": [
       "[['20211025', 84.64],\n",
       " ['20211022', 84.53],\n",
       " ['20211021', 82.64],\n",
       " ['20211020', 84.4],\n",
       " ['20211019', 83.19],\n",
       " ['20211018', 82.62],\n",
       " ['20211015', 82.39],\n",
       " ['20211014', 81.43],\n",
       " ['20211013', 80.67],\n",
       " ['20211012', 80.75]]"
      ]
     },
     "execution_count": 6,
     "metadata": {},
     "output_type": "execute_result"
    }
   ],
   "source": [
    "API_data['series'][0]['data'][:10]"
   ]
  },
  {
   "cell_type": "code",
   "execution_count": 7,
   "metadata": {},
   "outputs": [
    {
     "data": {
      "text/html": [
       "<div>\n",
       "<style scoped>\n",
       "    .dataframe tbody tr th:only-of-type {\n",
       "        vertical-align: middle;\n",
       "    }\n",
       "\n",
       "    .dataframe tbody tr th {\n",
       "        vertical-align: top;\n",
       "    }\n",
       "\n",
       "    .dataframe thead th {\n",
       "        text-align: right;\n",
       "    }\n",
       "</style>\n",
       "<table border=\"1\" class=\"dataframe\">\n",
       "  <thead>\n",
       "    <tr style=\"text-align: right;\">\n",
       "      <th></th>\n",
       "      <th>date</th>\n",
       "      <th>oil_price</th>\n",
       "    </tr>\n",
       "  </thead>\n",
       "  <tbody>\n",
       "    <tr>\n",
       "      <th>0</th>\n",
       "      <td>2021-10-25</td>\n",
       "      <td>84.64</td>\n",
       "    </tr>\n",
       "    <tr>\n",
       "      <th>1</th>\n",
       "      <td>2021-10-22</td>\n",
       "      <td>84.53</td>\n",
       "    </tr>\n",
       "    <tr>\n",
       "      <th>2</th>\n",
       "      <td>2021-10-21</td>\n",
       "      <td>82.64</td>\n",
       "    </tr>\n",
       "    <tr>\n",
       "      <th>3</th>\n",
       "      <td>2021-10-20</td>\n",
       "      <td>84.40</td>\n",
       "    </tr>\n",
       "    <tr>\n",
       "      <th>4</th>\n",
       "      <td>2021-10-19</td>\n",
       "      <td>83.19</td>\n",
       "    </tr>\n",
       "  </tbody>\n",
       "</table>\n",
       "</div>"
      ],
      "text/plain": [
       "        date  oil_price\n",
       "0 2021-10-25      84.64\n",
       "1 2021-10-22      84.53\n",
       "2 2021-10-21      82.64\n",
       "3 2021-10-20      84.40\n",
       "4 2021-10-19      83.19"
      ]
     },
     "execution_count": 7,
     "metadata": {},
     "output_type": "execute_result"
    }
   ],
   "source": [
    "oil = pd.DataFrame(\n",
    "    columns=['date','oil_price'],\n",
    "    data=np.array([API_data['series'][0]['data']][0])\n",
    ")\n",
    "oil['date'] = pd.to_datetime(oil['date'],format='%Y%m%d')\n",
    "oil['oil_price'] = oil['oil_price'].astype('float')\n",
    "oil.head()"
   ]
  },
  {
   "cell_type": "markdown",
   "metadata": {},
   "source": [
    "Function to download tables from API and convert into pandas data frames"
   ]
  },
  {
   "cell_type": "code",
   "execution_count": 8,
   "metadata": {},
   "outputs": [],
   "source": [
    "def download_convert(seriesid='',timeformat='%Y%m%d',column1='col1',column2='col2'):\n",
    "    data = requests.get('http://api.eia.gov/series/?api_key='+EIA_key+'&series_id='+seriesid).json()\n",
    "    for key in ['name','description','units','source','start','end','updated']:\n",
    "        print(key+\":     \", data['series'][0].get(key))\n",
    "    df = pd.DataFrame(\n",
    "        columns=[column1,column2],\n",
    "        data=np.array([data['series'][0]['data']][0]))\n",
    "    df[column1] = pd.to_datetime(df[column1],format=timeformat)\n",
    "    df[column2] = df[column2].replace({'NA':np.nan}) if df[(df[column2] == 'NA')][column2].count() > 0 else df[column2]\n",
    "    df[column2] = df[column2].astype('float')    \n",
    "    return(df)"
   ]
  },
  {
   "cell_type": "markdown",
   "metadata": {},
   "source": [
    "Obtain Gas Price in USD/MMBTU cubic feet in time"
   ]
  },
  {
   "cell_type": "code",
   "execution_count": 9,
   "metadata": {},
   "outputs": [
    {
     "name": "stdout",
     "output_type": "stream",
     "text": [
      "name:      Henry Hub Natural Gas Spot Price, Daily\n",
      "description:      Henry Hub Natural Gas Spot Price\n",
      "units:      Dollars per Million Btu\n",
      "source:      Thomson-Reuters\n",
      "start:      19970107\n",
      "end:      20211026\n",
      "updated:      2021-10-27T13:11:19-0400\n"
     ]
    },
    {
     "data": {
      "text/html": [
       "<div>\n",
       "<style scoped>\n",
       "    .dataframe tbody tr th:only-of-type {\n",
       "        vertical-align: middle;\n",
       "    }\n",
       "\n",
       "    .dataframe tbody tr th {\n",
       "        vertical-align: top;\n",
       "    }\n",
       "\n",
       "    .dataframe thead th {\n",
       "        text-align: right;\n",
       "    }\n",
       "</style>\n",
       "<table border=\"1\" class=\"dataframe\">\n",
       "  <thead>\n",
       "    <tr style=\"text-align: right;\">\n",
       "      <th></th>\n",
       "      <th>date</th>\n",
       "      <th>gas_price</th>\n",
       "    </tr>\n",
       "  </thead>\n",
       "  <tbody>\n",
       "    <tr>\n",
       "      <th>0</th>\n",
       "      <td>2021-10-26</td>\n",
       "      <td>5.59</td>\n",
       "    </tr>\n",
       "    <tr>\n",
       "      <th>1</th>\n",
       "      <td>2021-10-25</td>\n",
       "      <td>5.72</td>\n",
       "    </tr>\n",
       "    <tr>\n",
       "      <th>2</th>\n",
       "      <td>2021-10-22</td>\n",
       "      <td>5.10</td>\n",
       "    </tr>\n",
       "    <tr>\n",
       "      <th>3</th>\n",
       "      <td>2021-10-21</td>\n",
       "      <td>4.94</td>\n",
       "    </tr>\n",
       "    <tr>\n",
       "      <th>4</th>\n",
       "      <td>2021-10-20</td>\n",
       "      <td>4.87</td>\n",
       "    </tr>\n",
       "  </tbody>\n",
       "</table>\n",
       "</div>"
      ],
      "text/plain": [
       "        date  gas_price\n",
       "0 2021-10-26       5.59\n",
       "1 2021-10-25       5.72\n",
       "2 2021-10-22       5.10\n",
       "3 2021-10-21       4.94\n",
       "4 2021-10-20       4.87"
      ]
     },
     "execution_count": 9,
     "metadata": {},
     "output_type": "execute_result"
    }
   ],
   "source": [
    "gas = download_convert('NG.RNGWHHD.D',timeformat='%Y%m%d',column1='date',column2='gas_price')\n",
    "gas.rename(columns={'var1':'gas_date', 'var2':'gas_price'},inplace=True)\n",
    "gas.head()"
   ]
  },
  {
   "cell_type": "markdown",
   "metadata": {},
   "source": [
    "Rotary Rig Count in time"
   ]
  },
  {
   "cell_type": "code",
   "execution_count": 10,
   "metadata": {},
   "outputs": [
    {
     "name": "stdout",
     "output_type": "stream",
     "text": [
      "name:      Crude Oil Rotary Rigs in Operation, Monthly\n",
      "description:      None\n",
      "units:      Number of Rigs\n",
      "source:      None\n",
      "start:      197301\n",
      "end:      202109\n",
      "updated:      2021-10-26T09:57:35-0400\n"
     ]
    },
    {
     "data": {
      "text/html": [
       "<div>\n",
       "<style scoped>\n",
       "    .dataframe tbody tr th:only-of-type {\n",
       "        vertical-align: middle;\n",
       "    }\n",
       "\n",
       "    .dataframe tbody tr th {\n",
       "        vertical-align: top;\n",
       "    }\n",
       "\n",
       "    .dataframe thead th {\n",
       "        text-align: right;\n",
       "    }\n",
       "</style>\n",
       "<table border=\"1\" class=\"dataframe\">\n",
       "  <thead>\n",
       "    <tr style=\"text-align: right;\">\n",
       "      <th></th>\n",
       "      <th>date</th>\n",
       "      <th>oilrig_count</th>\n",
       "    </tr>\n",
       "  </thead>\n",
       "  <tbody>\n",
       "    <tr>\n",
       "      <th>0</th>\n",
       "      <td>2021-09-01</td>\n",
       "      <td>407.0</td>\n",
       "    </tr>\n",
       "    <tr>\n",
       "      <th>1</th>\n",
       "      <td>2021-08-01</td>\n",
       "      <td>400.0</td>\n",
       "    </tr>\n",
       "    <tr>\n",
       "      <th>2</th>\n",
       "      <td>2021-07-01</td>\n",
       "      <td>381.0</td>\n",
       "    </tr>\n",
       "    <tr>\n",
       "      <th>3</th>\n",
       "      <td>2021-06-01</td>\n",
       "      <td>367.0</td>\n",
       "    </tr>\n",
       "    <tr>\n",
       "      <th>4</th>\n",
       "      <td>2021-05-01</td>\n",
       "      <td>353.0</td>\n",
       "    </tr>\n",
       "  </tbody>\n",
       "</table>\n",
       "</div>"
      ],
      "text/plain": [
       "        date  oilrig_count\n",
       "0 2021-09-01         407.0\n",
       "1 2021-08-01         400.0\n",
       "2 2021-07-01         381.0\n",
       "3 2021-06-01         367.0\n",
       "4 2021-05-01         353.0"
      ]
     },
     "execution_count": 10,
     "metadata": {},
     "output_type": "execute_result"
    }
   ],
   "source": [
    "OilRig = download_convert(seriesid='TOTAL.PANRPUS.M',timeformat='%Y%m',column1='date',column2='oilrig_count')\n",
    "OilRig.head()"
   ]
  },
  {
   "cell_type": "code",
   "execution_count": 11,
   "metadata": {},
   "outputs": [
    {
     "name": "stdout",
     "output_type": "stream",
     "text": [
      "name:      Natural Gas Rotary Rigs in Operation, Monthly\n",
      "description:      None\n",
      "units:      Number of Rigs\n",
      "source:      None\n",
      "start:      197301\n",
      "end:      202109\n",
      "updated:      2021-10-26T09:57:35-0400\n"
     ]
    },
    {
     "data": {
      "text/html": [
       "<div>\n",
       "<style scoped>\n",
       "    .dataframe tbody tr th:only-of-type {\n",
       "        vertical-align: middle;\n",
       "    }\n",
       "\n",
       "    .dataframe tbody tr th {\n",
       "        vertical-align: top;\n",
       "    }\n",
       "\n",
       "    .dataframe thead th {\n",
       "        text-align: right;\n",
       "    }\n",
       "</style>\n",
       "<table border=\"1\" class=\"dataframe\">\n",
       "  <thead>\n",
       "    <tr style=\"text-align: right;\">\n",
       "      <th></th>\n",
       "      <th>date</th>\n",
       "      <th>gasrig_count</th>\n",
       "    </tr>\n",
       "  </thead>\n",
       "  <tbody>\n",
       "    <tr>\n",
       "      <th>0</th>\n",
       "      <td>2021-09-01</td>\n",
       "      <td>101.0</td>\n",
       "    </tr>\n",
       "    <tr>\n",
       "      <th>1</th>\n",
       "      <td>2021-08-01</td>\n",
       "      <td>100.0</td>\n",
       "    </tr>\n",
       "    <tr>\n",
       "      <th>2</th>\n",
       "      <td>2021-07-01</td>\n",
       "      <td>102.0</td>\n",
       "    </tr>\n",
       "    <tr>\n",
       "      <th>3</th>\n",
       "      <td>2021-06-01</td>\n",
       "      <td>97.0</td>\n",
       "    </tr>\n",
       "    <tr>\n",
       "      <th>4</th>\n",
       "      <td>2021-05-01</td>\n",
       "      <td>100.0</td>\n",
       "    </tr>\n",
       "  </tbody>\n",
       "</table>\n",
       "</div>"
      ],
      "text/plain": [
       "        date  gasrig_count\n",
       "0 2021-09-01         101.0\n",
       "1 2021-08-01         100.0\n",
       "2 2021-07-01         102.0\n",
       "3 2021-06-01          97.0\n",
       "4 2021-05-01         100.0"
      ]
     },
     "execution_count": 11,
     "metadata": {},
     "output_type": "execute_result"
    }
   ],
   "source": [
    "GasRig = download_convert(seriesid='TOTAL.NGNRPUS.M',timeformat='%Y%m',column1='date',column2='gasrig_count')\n",
    "GasRig.head()"
   ]
  },
  {
   "cell_type": "code",
   "execution_count": 12,
   "metadata": {},
   "outputs": [
    {
     "name": "stdout",
     "output_type": "stream",
     "text": [
      "name:      Crude Oil and Natural Gas Rotary Rigs in Operation, Onshore, Monthly\n",
      "description:      None\n",
      "units:      Number of Rigs\n",
      "source:      None\n",
      "start:      197301\n",
      "end:      202109\n",
      "updated:      2021-10-26T09:57:35-0400\n"
     ]
    },
    {
     "data": {
      "text/html": [
       "<div>\n",
       "<style scoped>\n",
       "    .dataframe tbody tr th:only-of-type {\n",
       "        vertical-align: middle;\n",
       "    }\n",
       "\n",
       "    .dataframe tbody tr th {\n",
       "        vertical-align: top;\n",
       "    }\n",
       "\n",
       "    .dataframe thead th {\n",
       "        text-align: right;\n",
       "    }\n",
       "</style>\n",
       "<table border=\"1\" class=\"dataframe\">\n",
       "  <thead>\n",
       "    <tr style=\"text-align: right;\">\n",
       "      <th></th>\n",
       "      <th>date</th>\n",
       "      <th>onshore_count</th>\n",
       "    </tr>\n",
       "  </thead>\n",
       "  <tbody>\n",
       "    <tr>\n",
       "      <th>0</th>\n",
       "      <td>2021-09-01</td>\n",
       "      <td>502.0</td>\n",
       "    </tr>\n",
       "    <tr>\n",
       "      <th>1</th>\n",
       "      <td>2021-08-01</td>\n",
       "      <td>486.0</td>\n",
       "    </tr>\n",
       "    <tr>\n",
       "      <th>2</th>\n",
       "      <td>2021-07-01</td>\n",
       "      <td>468.0</td>\n",
       "    </tr>\n",
       "    <tr>\n",
       "      <th>3</th>\n",
       "      <td>2021-06-01</td>\n",
       "      <td>451.0</td>\n",
       "    </tr>\n",
       "    <tr>\n",
       "      <th>4</th>\n",
       "      <td>2021-05-01</td>\n",
       "      <td>439.0</td>\n",
       "    </tr>\n",
       "  </tbody>\n",
       "</table>\n",
       "</div>"
      ],
      "text/plain": [
       "        date  onshore_count\n",
       "0 2021-09-01          502.0\n",
       "1 2021-08-01          486.0\n",
       "2 2021-07-01          468.0\n",
       "3 2021-06-01          451.0\n",
       "4 2021-05-01          439.0"
      ]
     },
     "execution_count": 12,
     "metadata": {},
     "output_type": "execute_result"
    }
   ],
   "source": [
    "OnshoreRig = download_convert(seriesid='TOTAL.OGNRPON.M',timeformat='%Y%m',column1='date',column2='onshore_count')\n",
    "OnshoreRig.head()"
   ]
  },
  {
   "cell_type": "code",
   "execution_count": 13,
   "metadata": {},
   "outputs": [
    {
     "name": "stdout",
     "output_type": "stream",
     "text": [
      "name:      Crude Oil and Natural Gas Rotary Rigs in Operation, Offshore, Monthly\n",
      "description:      None\n",
      "units:      Number of Rigs\n",
      "source:      None\n",
      "start:      197301\n",
      "end:      202109\n",
      "updated:      2021-10-26T09:57:35-0400\n"
     ]
    },
    {
     "data": {
      "text/html": [
       "<div>\n",
       "<style scoped>\n",
       "    .dataframe tbody tr th:only-of-type {\n",
       "        vertical-align: middle;\n",
       "    }\n",
       "\n",
       "    .dataframe tbody tr th {\n",
       "        vertical-align: top;\n",
       "    }\n",
       "\n",
       "    .dataframe thead th {\n",
       "        text-align: right;\n",
       "    }\n",
       "</style>\n",
       "<table border=\"1\" class=\"dataframe\">\n",
       "  <thead>\n",
       "    <tr style=\"text-align: right;\">\n",
       "      <th></th>\n",
       "      <th>date</th>\n",
       "      <th>offshore_count</th>\n",
       "    </tr>\n",
       "  </thead>\n",
       "  <tbody>\n",
       "    <tr>\n",
       "      <th>0</th>\n",
       "      <td>2021-09-01</td>\n",
       "      <td>6.0</td>\n",
       "    </tr>\n",
       "    <tr>\n",
       "      <th>1</th>\n",
       "      <td>2021-08-01</td>\n",
       "      <td>15.0</td>\n",
       "    </tr>\n",
       "    <tr>\n",
       "      <th>2</th>\n",
       "      <td>2021-07-01</td>\n",
       "      <td>16.0</td>\n",
       "    </tr>\n",
       "    <tr>\n",
       "      <th>3</th>\n",
       "      <td>2021-06-01</td>\n",
       "      <td>13.0</td>\n",
       "    </tr>\n",
       "    <tr>\n",
       "      <th>4</th>\n",
       "      <td>2021-05-01</td>\n",
       "      <td>14.0</td>\n",
       "    </tr>\n",
       "  </tbody>\n",
       "</table>\n",
       "</div>"
      ],
      "text/plain": [
       "        date  offshore_count\n",
       "0 2021-09-01             6.0\n",
       "1 2021-08-01            15.0\n",
       "2 2021-07-01            16.0\n",
       "3 2021-06-01            13.0\n",
       "4 2021-05-01            14.0"
      ]
     },
     "execution_count": 13,
     "metadata": {},
     "output_type": "execute_result"
    }
   ],
   "source": [
    "OffshoreRig = download_convert(seriesid='TOTAL.OGNRPOF.M',timeformat='%Y%m',column1='date',column2='offshore_count')\n",
    "OffshoreRig.head()"
   ]
  },
  {
   "cell_type": "code",
   "execution_count": 14,
   "metadata": {},
   "outputs": [
    {
     "name": "stdout",
     "output_type": "stream",
     "text": [
      "name:      Crude Oil and Natural Gas Rotary Rigs in Operation, Total, Monthly\n",
      "description:      None\n",
      "units:      Number of Rigs\n",
      "source:      None\n",
      "start:      197301\n",
      "end:      202109\n",
      "updated:      2021-10-26T09:57:35-0400\n"
     ]
    },
    {
     "data": {
      "text/html": [
       "<div>\n",
       "<style scoped>\n",
       "    .dataframe tbody tr th:only-of-type {\n",
       "        vertical-align: middle;\n",
       "    }\n",
       "\n",
       "    .dataframe tbody tr th {\n",
       "        vertical-align: top;\n",
       "    }\n",
       "\n",
       "    .dataframe thead th {\n",
       "        text-align: right;\n",
       "    }\n",
       "</style>\n",
       "<table border=\"1\" class=\"dataframe\">\n",
       "  <thead>\n",
       "    <tr style=\"text-align: right;\">\n",
       "      <th></th>\n",
       "      <th>date</th>\n",
       "      <th>totalrig_count</th>\n",
       "    </tr>\n",
       "  </thead>\n",
       "  <tbody>\n",
       "    <tr>\n",
       "      <th>0</th>\n",
       "      <td>2021-09-01</td>\n",
       "      <td>508.0</td>\n",
       "    </tr>\n",
       "    <tr>\n",
       "      <th>1</th>\n",
       "      <td>2021-08-01</td>\n",
       "      <td>501.0</td>\n",
       "    </tr>\n",
       "    <tr>\n",
       "      <th>2</th>\n",
       "      <td>2021-07-01</td>\n",
       "      <td>483.0</td>\n",
       "    </tr>\n",
       "    <tr>\n",
       "      <th>3</th>\n",
       "      <td>2021-06-01</td>\n",
       "      <td>464.0</td>\n",
       "    </tr>\n",
       "    <tr>\n",
       "      <th>4</th>\n",
       "      <td>2021-05-01</td>\n",
       "      <td>453.0</td>\n",
       "    </tr>\n",
       "  </tbody>\n",
       "</table>\n",
       "</div>"
      ],
      "text/plain": [
       "        date  totalrig_count\n",
       "0 2021-09-01           508.0\n",
       "1 2021-08-01           501.0\n",
       "2 2021-07-01           483.0\n",
       "3 2021-06-01           464.0\n",
       "4 2021-05-01           453.0"
      ]
     },
     "execution_count": 14,
     "metadata": {},
     "output_type": "execute_result"
    }
   ],
   "source": [
    "TotalRig = download_convert(seriesid='TOTAL.OGNRPUS.M',timeformat='%Y%m',column1='date',column2='totalrig_count')\n",
    "TotalRig.head()"
   ]
  },
  {
   "cell_type": "markdown",
   "metadata": {},
   "source": [
    "## Oil, gas and Dry Wells Drilled in time"
   ]
  },
  {
   "cell_type": "code",
   "execution_count": 15,
   "metadata": {},
   "outputs": [
    {
     "name": "stdout",
     "output_type": "stream",
     "text": [
      "name:      Crude Oil, Natural Gas, and Dry Wells Drilled, Total, Monthly\n",
      "description:      None\n",
      "units:      Number of Wells\n",
      "source:      None\n",
      "start:      197301\n",
      "end:      201212\n",
      "updated:      2016-04-25T13:57:43-0400\n"
     ]
    },
    {
     "data": {
      "text/html": [
       "<div>\n",
       "<style scoped>\n",
       "    .dataframe tbody tr th:only-of-type {\n",
       "        vertical-align: middle;\n",
       "    }\n",
       "\n",
       "    .dataframe tbody tr th {\n",
       "        vertical-align: top;\n",
       "    }\n",
       "\n",
       "    .dataframe thead th {\n",
       "        text-align: right;\n",
       "    }\n",
       "</style>\n",
       "<table border=\"1\" class=\"dataframe\">\n",
       "  <thead>\n",
       "    <tr style=\"text-align: right;\">\n",
       "      <th></th>\n",
       "      <th>date</th>\n",
       "      <th>totalwell_count</th>\n",
       "    </tr>\n",
       "  </thead>\n",
       "  <tbody>\n",
       "    <tr>\n",
       "      <th>0</th>\n",
       "      <td>2010-12-01</td>\n",
       "      <td>3158.0</td>\n",
       "    </tr>\n",
       "    <tr>\n",
       "      <th>1</th>\n",
       "      <td>2010-11-01</td>\n",
       "      <td>3294.0</td>\n",
       "    </tr>\n",
       "    <tr>\n",
       "      <th>2</th>\n",
       "      <td>2010-10-01</td>\n",
       "      <td>3527.0</td>\n",
       "    </tr>\n",
       "    <tr>\n",
       "      <th>3</th>\n",
       "      <td>2010-09-01</td>\n",
       "      <td>3218.0</td>\n",
       "    </tr>\n",
       "    <tr>\n",
       "      <th>4</th>\n",
       "      <td>2010-08-01</td>\n",
       "      <td>3404.0</td>\n",
       "    </tr>\n",
       "  </tbody>\n",
       "</table>\n",
       "</div>"
      ],
      "text/plain": [
       "        date  totalwell_count\n",
       "0 2010-12-01           3158.0\n",
       "1 2010-11-01           3294.0\n",
       "2 2010-10-01           3527.0\n",
       "3 2010-09-01           3218.0\n",
       "4 2010-08-01           3404.0"
      ]
     },
     "execution_count": 15,
     "metadata": {},
     "output_type": "execute_result"
    }
   ],
   "source": [
    "TotalWells = download_convert(seriesid='TOTAL.OGTWPUS.M',timeformat='%Y%m',column1='date',column2='totalwell_count')\n",
    "TotalWells.head()"
   ]
  },
  {
   "cell_type": "code",
   "execution_count": 16,
   "metadata": {},
   "outputs": [
    {
     "name": "stdout",
     "output_type": "stream",
     "text": [
      "name:      Wells Drilled, Total, Crude Oil, Monthly\n",
      "description:      None\n",
      "units:      Number of Wells\n",
      "source:      None\n",
      "start:      197301\n",
      "end:      201212\n",
      "updated:      2016-04-25T13:57:43-0400\n"
     ]
    },
    {
     "data": {
      "text/html": [
       "<div>\n",
       "<style scoped>\n",
       "    .dataframe tbody tr th:only-of-type {\n",
       "        vertical-align: middle;\n",
       "    }\n",
       "\n",
       "    .dataframe tbody tr th {\n",
       "        vertical-align: top;\n",
       "    }\n",
       "\n",
       "    .dataframe thead th {\n",
       "        text-align: right;\n",
       "    }\n",
       "</style>\n",
       "<table border=\"1\" class=\"dataframe\">\n",
       "  <thead>\n",
       "    <tr style=\"text-align: right;\">\n",
       "      <th></th>\n",
       "      <th>date</th>\n",
       "      <th>oilwell_count</th>\n",
       "    </tr>\n",
       "  </thead>\n",
       "  <tbody>\n",
       "    <tr>\n",
       "      <th>0</th>\n",
       "      <td>2010-12-01</td>\n",
       "      <td>1374.0</td>\n",
       "    </tr>\n",
       "    <tr>\n",
       "      <th>1</th>\n",
       "      <td>2010-11-01</td>\n",
       "      <td>1462.0</td>\n",
       "    </tr>\n",
       "    <tr>\n",
       "      <th>2</th>\n",
       "      <td>2010-10-01</td>\n",
       "      <td>1577.0</td>\n",
       "    </tr>\n",
       "    <tr>\n",
       "      <th>3</th>\n",
       "      <td>2010-09-01</td>\n",
       "      <td>1431.0</td>\n",
       "    </tr>\n",
       "    <tr>\n",
       "      <th>4</th>\n",
       "      <td>2010-08-01</td>\n",
       "      <td>1490.0</td>\n",
       "    </tr>\n",
       "  </tbody>\n",
       "</table>\n",
       "</div>"
      ],
      "text/plain": [
       "        date  oilwell_count\n",
       "0 2010-12-01         1374.0\n",
       "1 2010-11-01         1462.0\n",
       "2 2010-10-01         1577.0\n",
       "3 2010-09-01         1431.0\n",
       "4 2010-08-01         1490.0"
      ]
     },
     "execution_count": 16,
     "metadata": {},
     "output_type": "execute_result"
    }
   ],
   "source": [
    "OilWells = download_convert(seriesid='TOTAL.PATWPUS.M',timeformat='%Y%m',column1='date',column2='oilwell_count')\n",
    "OilWells.head()"
   ]
  },
  {
   "cell_type": "code",
   "execution_count": 17,
   "metadata": {},
   "outputs": [
    {
     "name": "stdout",
     "output_type": "stream",
     "text": [
      "name:      Wells Drilled, Total, Natural Gas, Monthly\n",
      "description:      None\n",
      "units:      Number of Wells\n",
      "source:      None\n",
      "start:      197301\n",
      "end:      201212\n",
      "updated:      2016-04-25T13:57:43-0400\n"
     ]
    },
    {
     "data": {
      "text/html": [
       "<div>\n",
       "<style scoped>\n",
       "    .dataframe tbody tr th:only-of-type {\n",
       "        vertical-align: middle;\n",
       "    }\n",
       "\n",
       "    .dataframe tbody tr th {\n",
       "        vertical-align: top;\n",
       "    }\n",
       "\n",
       "    .dataframe thead th {\n",
       "        text-align: right;\n",
       "    }\n",
       "</style>\n",
       "<table border=\"1\" class=\"dataframe\">\n",
       "  <thead>\n",
       "    <tr style=\"text-align: right;\">\n",
       "      <th></th>\n",
       "      <th>date</th>\n",
       "      <th>gaswell_count</th>\n",
       "    </tr>\n",
       "  </thead>\n",
       "  <tbody>\n",
       "    <tr>\n",
       "      <th>0</th>\n",
       "      <td>2010-12-01</td>\n",
       "      <td>1471.0</td>\n",
       "    </tr>\n",
       "    <tr>\n",
       "      <th>1</th>\n",
       "      <td>2010-11-01</td>\n",
       "      <td>1466.0</td>\n",
       "    </tr>\n",
       "    <tr>\n",
       "      <th>2</th>\n",
       "      <td>2010-10-01</td>\n",
       "      <td>1550.0</td>\n",
       "    </tr>\n",
       "    <tr>\n",
       "      <th>3</th>\n",
       "      <td>2010-09-01</td>\n",
       "      <td>1431.0</td>\n",
       "    </tr>\n",
       "    <tr>\n",
       "      <th>4</th>\n",
       "      <td>2010-08-01</td>\n",
       "      <td>1506.0</td>\n",
       "    </tr>\n",
       "  </tbody>\n",
       "</table>\n",
       "</div>"
      ],
      "text/plain": [
       "        date  gaswell_count\n",
       "0 2010-12-01         1471.0\n",
       "1 2010-11-01         1466.0\n",
       "2 2010-10-01         1550.0\n",
       "3 2010-09-01         1431.0\n",
       "4 2010-08-01         1506.0"
      ]
     },
     "execution_count": 17,
     "metadata": {},
     "output_type": "execute_result"
    }
   ],
   "source": [
    "GasWells = download_convert(seriesid='TOTAL.NGTWPUS.M',timeformat='%Y%m',column1='date',column2='gaswell_count')\n",
    "GasWells.head()"
   ]
  },
  {
   "cell_type": "markdown",
   "metadata": {},
   "source": [
    "## Natural Gas Imports, Exports, consumption, Production and storage"
   ]
  },
  {
   "cell_type": "code",
   "execution_count": 18,
   "metadata": {},
   "outputs": [
    {
     "name": "stdout",
     "output_type": "stream",
     "text": [
      "name:      Natural Gas Imports, Monthly\n",
      "description:      None\n",
      "units:      Billion Cubic Feet\n",
      "source:      None\n",
      "start:      197301\n",
      "end:      202107\n",
      "updated:      2021-10-26T09:57:35-0400\n"
     ]
    },
    {
     "data": {
      "text/html": [
       "<div>\n",
       "<style scoped>\n",
       "    .dataframe tbody tr th:only-of-type {\n",
       "        vertical-align: middle;\n",
       "    }\n",
       "\n",
       "    .dataframe tbody tr th {\n",
       "        vertical-align: top;\n",
       "    }\n",
       "\n",
       "    .dataframe thead th {\n",
       "        text-align: right;\n",
       "    }\n",
       "</style>\n",
       "<table border=\"1\" class=\"dataframe\">\n",
       "  <thead>\n",
       "    <tr style=\"text-align: right;\">\n",
       "      <th></th>\n",
       "      <th>date</th>\n",
       "      <th>gasimports_amount</th>\n",
       "    </tr>\n",
       "  </thead>\n",
       "  <tbody>\n",
       "    <tr>\n",
       "      <th>0</th>\n",
       "      <td>2021-07-01</td>\n",
       "      <td>227.779</td>\n",
       "    </tr>\n",
       "    <tr>\n",
       "      <th>1</th>\n",
       "      <td>2021-06-01</td>\n",
       "      <td>207.859</td>\n",
       "    </tr>\n",
       "    <tr>\n",
       "      <th>2</th>\n",
       "      <td>2021-05-01</td>\n",
       "      <td>204.890</td>\n",
       "    </tr>\n",
       "    <tr>\n",
       "      <th>3</th>\n",
       "      <td>2021-04-01</td>\n",
       "      <td>208.369</td>\n",
       "    </tr>\n",
       "    <tr>\n",
       "      <th>4</th>\n",
       "      <td>2021-03-01</td>\n",
       "      <td>238.724</td>\n",
       "    </tr>\n",
       "  </tbody>\n",
       "</table>\n",
       "</div>"
      ],
      "text/plain": [
       "        date  gasimports_amount\n",
       "0 2021-07-01            227.779\n",
       "1 2021-06-01            207.859\n",
       "2 2021-05-01            204.890\n",
       "3 2021-04-01            208.369\n",
       "4 2021-03-01            238.724"
      ]
     },
     "execution_count": 18,
     "metadata": {},
     "output_type": "execute_result"
    }
   ],
   "source": [
    "GasImports = download_convert(seriesid='TOTAL.NGIMPUS.M',timeformat='%Y%m',column1='date',column2='gasimports_amount')\n",
    "GasImports.head()"
   ]
  },
  {
   "cell_type": "code",
   "execution_count": 19,
   "metadata": {},
   "outputs": [
    {
     "name": "stdout",
     "output_type": "stream",
     "text": [
      "name:      Total Natural Gas Exports, Monthly\n",
      "description:      None\n",
      "units:      Billion Cubic Feet\n",
      "source:      None\n",
      "start:      197301\n",
      "end:      202107\n",
      "updated:      2021-10-26T09:57:35-0400\n"
     ]
    },
    {
     "data": {
      "text/html": [
       "<div>\n",
       "<style scoped>\n",
       "    .dataframe tbody tr th:only-of-type {\n",
       "        vertical-align: middle;\n",
       "    }\n",
       "\n",
       "    .dataframe tbody tr th {\n",
       "        vertical-align: top;\n",
       "    }\n",
       "\n",
       "    .dataframe thead th {\n",
       "        text-align: right;\n",
       "    }\n",
       "</style>\n",
       "<table border=\"1\" class=\"dataframe\">\n",
       "  <thead>\n",
       "    <tr style=\"text-align: right;\">\n",
       "      <th></th>\n",
       "      <th>date</th>\n",
       "      <th>gasexports_amount</th>\n",
       "    </tr>\n",
       "  </thead>\n",
       "  <tbody>\n",
       "    <tr>\n",
       "      <th>0</th>\n",
       "      <td>2021-07-01</td>\n",
       "      <td>565.564</td>\n",
       "    </tr>\n",
       "    <tr>\n",
       "      <th>1</th>\n",
       "      <td>2021-06-01</td>\n",
       "      <td>539.252</td>\n",
       "    </tr>\n",
       "    <tr>\n",
       "      <th>2</th>\n",
       "      <td>2021-05-01</td>\n",
       "      <td>578.132</td>\n",
       "    </tr>\n",
       "    <tr>\n",
       "      <th>3</th>\n",
       "      <td>2021-04-01</td>\n",
       "      <td>564.418</td>\n",
       "    </tr>\n",
       "    <tr>\n",
       "      <th>4</th>\n",
       "      <td>2021-03-01</td>\n",
       "      <td>595.411</td>\n",
       "    </tr>\n",
       "  </tbody>\n",
       "</table>\n",
       "</div>"
      ],
      "text/plain": [
       "        date  gasexports_amount\n",
       "0 2021-07-01            565.564\n",
       "1 2021-06-01            539.252\n",
       "2 2021-05-01            578.132\n",
       "3 2021-04-01            564.418\n",
       "4 2021-03-01            595.411"
      ]
     },
     "execution_count": 19,
     "metadata": {},
     "output_type": "execute_result"
    }
   ],
   "source": [
    "GasExports = download_convert(seriesid='TOTAL.NGEXPUS.M',timeformat='%Y%m',column1='date',column2='gasexports_amount')\n",
    "GasExports.head()"
   ]
  },
  {
   "cell_type": "code",
   "execution_count": 20,
   "metadata": {},
   "outputs": [
    {
     "name": "stdout",
     "output_type": "stream",
     "text": [
      "name:      Natural Gas Consumption, Total, Monthly\n",
      "description:      None\n",
      "units:      Billion Cubic Feet\n",
      "source:      None\n",
      "start:      197301\n",
      "end:      202107\n",
      "updated:      2021-10-26T09:57:35-0400\n"
     ]
    },
    {
     "data": {
      "text/html": [
       "<div>\n",
       "<style scoped>\n",
       "    .dataframe tbody tr th:only-of-type {\n",
       "        vertical-align: middle;\n",
       "    }\n",
       "\n",
       "    .dataframe tbody tr th {\n",
       "        vertical-align: top;\n",
       "    }\n",
       "\n",
       "    .dataframe thead th {\n",
       "        text-align: right;\n",
       "    }\n",
       "</style>\n",
       "<table border=\"1\" class=\"dataframe\">\n",
       "  <thead>\n",
       "    <tr style=\"text-align: right;\">\n",
       "      <th></th>\n",
       "      <th>date</th>\n",
       "      <th>gasconsumption_amount</th>\n",
       "    </tr>\n",
       "  </thead>\n",
       "  <tbody>\n",
       "    <tr>\n",
       "      <th>0</th>\n",
       "      <td>2021-07-01</td>\n",
       "      <td>2381.773</td>\n",
       "    </tr>\n",
       "    <tr>\n",
       "      <th>1</th>\n",
       "      <td>2021-06-01</td>\n",
       "      <td>2213.947</td>\n",
       "    </tr>\n",
       "    <tr>\n",
       "      <th>2</th>\n",
       "      <td>2021-05-01</td>\n",
       "      <td>2093.859</td>\n",
       "    </tr>\n",
       "    <tr>\n",
       "      <th>3</th>\n",
       "      <td>2021-04-01</td>\n",
       "      <td>2237.206</td>\n",
       "    </tr>\n",
       "    <tr>\n",
       "      <th>4</th>\n",
       "      <td>2021-03-01</td>\n",
       "      <td>2606.980</td>\n",
       "    </tr>\n",
       "  </tbody>\n",
       "</table>\n",
       "</div>"
      ],
      "text/plain": [
       "        date  gasconsumption_amount\n",
       "0 2021-07-01               2381.773\n",
       "1 2021-06-01               2213.947\n",
       "2 2021-05-01               2093.859\n",
       "3 2021-04-01               2237.206\n",
       "4 2021-03-01               2606.980"
      ]
     },
     "execution_count": 20,
     "metadata": {},
     "output_type": "execute_result"
    }
   ],
   "source": [
    "GasConsumption = download_convert(seriesid='TOTAL.NGTCPUS.M',timeformat='%Y%m',column1='date',column2='gasconsumption_amount')\n",
    "GasConsumption.head()"
   ]
  },
  {
   "cell_type": "code",
   "execution_count": 21,
   "metadata": {},
   "outputs": [
    {
     "name": "stdout",
     "output_type": "stream",
     "text": [
      "name:      NGPL Production, Monthly\n",
      "description:      None\n",
      "units:      Billion Cubic Feet\n",
      "source:      None\n",
      "start:      197301\n",
      "end:      202107\n",
      "updated:      2021-10-26T09:57:35-0400\n"
     ]
    },
    {
     "data": {
      "text/html": [
       "<div>\n",
       "<style scoped>\n",
       "    .dataframe tbody tr th:only-of-type {\n",
       "        vertical-align: middle;\n",
       "    }\n",
       "\n",
       "    .dataframe tbody tr th {\n",
       "        vertical-align: top;\n",
       "    }\n",
       "\n",
       "    .dataframe thead th {\n",
       "        text-align: right;\n",
       "    }\n",
       "</style>\n",
       "<table border=\"1\" class=\"dataframe\">\n",
       "  <thead>\n",
       "    <tr style=\"text-align: right;\">\n",
       "      <th></th>\n",
       "      <th>date</th>\n",
       "      <th>gasproduction_amount</th>\n",
       "    </tr>\n",
       "  </thead>\n",
       "  <tbody>\n",
       "    <tr>\n",
       "      <th>0</th>\n",
       "      <td>2021-07-01</td>\n",
       "      <td>244.549</td>\n",
       "    </tr>\n",
       "    <tr>\n",
       "      <th>1</th>\n",
       "      <td>2021-06-01</td>\n",
       "      <td>237.703</td>\n",
       "    </tr>\n",
       "    <tr>\n",
       "      <th>2</th>\n",
       "      <td>2021-05-01</td>\n",
       "      <td>244.674</td>\n",
       "    </tr>\n",
       "    <tr>\n",
       "      <th>3</th>\n",
       "      <td>2021-04-01</td>\n",
       "      <td>236.817</td>\n",
       "    </tr>\n",
       "    <tr>\n",
       "      <th>4</th>\n",
       "      <td>2021-03-01</td>\n",
       "      <td>228.828</td>\n",
       "    </tr>\n",
       "  </tbody>\n",
       "</table>\n",
       "</div>"
      ],
      "text/plain": [
       "        date  gasproduction_amount\n",
       "0 2021-07-01               244.549\n",
       "1 2021-06-01               237.703\n",
       "2 2021-05-01               244.674\n",
       "3 2021-04-01               236.817\n",
       "4 2021-03-01               228.828"
      ]
     },
     "execution_count": 21,
     "metadata": {},
     "output_type": "execute_result"
    }
   ],
   "source": [
    "#weekly NG.NGM_EPG0_FGW_NUS_MMCFD.M\n",
    "GasProduction = download_convert(seriesid='TOTAL.NGELPUS.M',timeformat='%Y%m',column1='date',column2='gasproduction_amount')\n",
    "GasProduction.head()"
   ]
  },
  {
   "cell_type": "code",
   "execution_count": 22,
   "metadata": {},
   "outputs": [
    {
     "name": "stdout",
     "output_type": "stream",
     "text": [
      "name:      Natural Gas in Underground Storage, End of Period, Total, Monthly\n",
      "description:      None\n",
      "units:      Billion Cubic Feet\n",
      "source:      None\n",
      "start:      197301\n",
      "end:      202107\n",
      "updated:      2021-10-26T09:57:35-0400\n"
     ]
    },
    {
     "data": {
      "text/html": [
       "<div>\n",
       "<style scoped>\n",
       "    .dataframe tbody tr th:only-of-type {\n",
       "        vertical-align: middle;\n",
       "    }\n",
       "\n",
       "    .dataframe tbody tr th {\n",
       "        vertical-align: top;\n",
       "    }\n",
       "\n",
       "    .dataframe thead th {\n",
       "        text-align: right;\n",
       "    }\n",
       "</style>\n",
       "<table border=\"1\" class=\"dataframe\">\n",
       "  <thead>\n",
       "    <tr style=\"text-align: right;\">\n",
       "      <th></th>\n",
       "      <th>date</th>\n",
       "      <th>gasstorage_amount</th>\n",
       "    </tr>\n",
       "  </thead>\n",
       "  <tbody>\n",
       "    <tr>\n",
       "      <th>0</th>\n",
       "      <td>2021-07-01</td>\n",
       "      <td>7188.304</td>\n",
       "    </tr>\n",
       "    <tr>\n",
       "      <th>1</th>\n",
       "      <td>2021-06-01</td>\n",
       "      <td>7018.683</td>\n",
       "    </tr>\n",
       "    <tr>\n",
       "      <th>2</th>\n",
       "      <td>2021-05-01</td>\n",
       "      <td>6770.915</td>\n",
       "    </tr>\n",
       "    <tr>\n",
       "      <th>3</th>\n",
       "      <td>2021-04-01</td>\n",
       "      <td>6354.239</td>\n",
       "    </tr>\n",
       "    <tr>\n",
       "      <th>4</th>\n",
       "      <td>2021-03-01</td>\n",
       "      <td>6188.654</td>\n",
       "    </tr>\n",
       "  </tbody>\n",
       "</table>\n",
       "</div>"
      ],
      "text/plain": [
       "        date  gasstorage_amount\n",
       "0 2021-07-01           7188.304\n",
       "1 2021-06-01           7018.683\n",
       "2 2021-05-01           6770.915\n",
       "3 2021-04-01           6354.239\n",
       "4 2021-03-01           6188.654"
      ]
     },
     "execution_count": 22,
     "metadata": {},
     "output_type": "execute_result"
    }
   ],
   "source": [
    "GasStorage = download_convert(seriesid='TOTAL.NGUSPUS.M',timeformat='%Y%m',column1='date',column2='gasstorage_amount')\n",
    "GasStorage.head()"
   ]
  },
  {
   "cell_type": "markdown",
   "metadata": {},
   "source": [
    "## Oil Imports, Exports, consumption, Production, storage and storage oil change"
   ]
  },
  {
   "cell_type": "code",
   "execution_count": 23,
   "metadata": {},
   "outputs": [
    {
     "name": "stdout",
     "output_type": "stream",
     "text": [
      "name:      Total Petroleum Imports, Monthly\n",
      "description:      None\n",
      "units:      Thousand Barrels per Day\n",
      "source:      None\n",
      "start:      197301\n",
      "end:      202109\n",
      "updated:      2021-10-26T09:57:35-0400\n",
      "\n",
      "\n",
      "name:      U.S. Imports of Crude Oil and Petroleum Products, Weekly\n",
      "description:      U.S. Imports of Crude Oil and Petroleum Products\n",
      "units:      Thousand Barrels per Day\n",
      "source:      EIA, U.S. Energy Information Administration\n",
      "start:      19910208\n",
      "end:      20211022\n",
      "updated:      2021-10-27T13:11:19-0400\n"
     ]
    }
   ],
   "source": [
    "#'TOTAL.PAIMPUS.M'\n",
    "# 'PET.WTTIMUS2.W'\n",
    "OilImports_a = download_convert(seriesid='TOTAL.PAIMPUS.M',timeformat='%Y%m',column1='date',column2='oilimports_amount_x')\n",
    "print('\\n')\n",
    "OilImports_b = download_convert(seriesid='PET.WTTIMUS2.W',timeformat='%Y%m%d',column1='date',column2='oilimports_amount_y')"
   ]
  },
  {
   "cell_type": "code",
   "execution_count": 24,
   "metadata": {},
   "outputs": [],
   "source": [
    "# For future use (EDA)\n",
    "# OilImports['oilimports_amount'] = OilImports['oilimports_amount_x']\n",
    "# OilImports.loc[OilImports['oilimports_amount'].isnull() == True,'oilimports_amount'] = OilImports['oilimports_amount_y']\n",
    "# OilImports[OilImports['oilimports_amount'].isna() == False][:]"
   ]
  },
  {
   "cell_type": "code",
   "execution_count": 25,
   "metadata": {},
   "outputs": [
    {
     "name": "stdout",
     "output_type": "stream",
     "text": [
      "name:      Total Petroleum Exports, Monthly\n",
      "description:      None\n",
      "units:      Thousand Barrels per Day\n",
      "source:      None\n",
      "start:      197301\n",
      "end:      202109\n",
      "updated:      2021-10-26T09:57:35-0400\n",
      "\n",
      "\n",
      "name:      U.S. Exports of Crude Oil and Petroleum Products, Weekly\n",
      "description:      U.S. Exports of Crude Oil and Petroleum Products\n",
      "units:      Thousand Barrels per Day\n",
      "source:      EIA, U.S. Energy Information Administration\n",
      "start:      19910208\n",
      "end:      20211022\n",
      "updated:      2021-10-27T13:11:19-0400\n"
     ]
    }
   ],
   "source": [
    "#'PET.WTTEXUS2.W'\n",
    "#'TOTAL.PAEXPUS.M'\n",
    "OilExports_a = download_convert(seriesid='TOTAL.PAEXPUS.M',timeformat='%Y%m',column1='date',column2='oilexports_amount_x')\n",
    "print('\\n')\n",
    "OilExports_b = download_convert(seriesid='PET.WTTEXUS2.W',timeformat='%Y%m%d',column1='date',column2='oilexports_amount_y')"
   ]
  },
  {
   "cell_type": "code",
   "execution_count": 26,
   "metadata": {},
   "outputs": [
    {
     "name": "stdout",
     "output_type": "stream",
     "text": [
      "name:      Petroleum Products Supplied/Consumption, United States, Monthly\n",
      "description:      None\n",
      "units:      Thousand Barrels per Day\n",
      "source:      None\n",
      "start:      197301\n",
      "end:      202109\n",
      "updated:      2021-10-26T09:57:35-0400\n",
      "\n",
      "\n",
      "name:      U.S. Product Supplied of Petroleum Products, Weekly\n",
      "description:      U.S. Product Supplied of Petroleum Products\n",
      "units:      Thousand Barrels per Day\n",
      "source:      EIA, U.S. Energy Information Administration\n",
      "start:      19901109\n",
      "end:      20211022\n",
      "updated:      2021-10-27T13:11:19-0400\n"
     ]
    }
   ],
   "source": [
    "#'PET.WRPUPUS2.W'\n",
    "#'TOTAL.PATCPUS.M'\n",
    "OilConsumption_a = download_convert(seriesid='TOTAL.PATCPUS.M',timeformat='%Y%m',column1='date',column2='oilconsumption_amount_x')\n",
    "print('\\n')\n",
    "OilConsumption_b = download_convert(seriesid='PET.WRPUPUS2.W',timeformat='%Y%m%d',column1='date',column2='oilconsumption_amount_y')"
   ]
  },
  {
   "cell_type": "code",
   "execution_count": 27,
   "metadata": {},
   "outputs": [
    {
     "name": "stdout",
     "output_type": "stream",
     "text": [
      "name:      Crude Oil Production, Total, Monthly\n",
      "description:      None\n",
      "units:      Thousand Barrels per Day\n",
      "source:      None\n",
      "start:      197301\n",
      "end:      202109\n",
      "updated:      2021-10-26T09:57:35-0400\n",
      "\n",
      "\n",
      "name:      U.S. Field Production of Crude Oil, Weekly\n",
      "description:      U.S. Field Production of Crude Oil\n",
      "units:      Thousand Barrels per Day\n",
      "source:      EIA, U.S. Energy Information Administration\n",
      "start:      19830107\n",
      "end:      20211022\n",
      "updated:      2021-10-27T13:11:19-0400\n"
     ]
    }
   ],
   "source": [
    "#monthly TOTAL.PAPRPUS.M\n",
    "# weekly PET.WCRFPUS2.W\n",
    "OilProduction_a = download_convert(seriesid='TOTAL.PAPRPUS.M',timeformat='%Y%m',column1='date',column2='oilproduction_amount_x')\n",
    "print('\\n')\n",
    "OilProduction_b = download_convert(seriesid='PET.WCRFPUS2.W',timeformat='%Y%m%d',column1='date',column2='oilproduction_amount_y')"
   ]
  },
  {
   "cell_type": "code",
   "execution_count": 28,
   "metadata": {},
   "outputs": [
    {
     "name": "stdout",
     "output_type": "stream",
     "text": [
      "name:      Crude Oil Stocks, Total, End of Period, Monthly\n",
      "description:      None\n",
      "units:      Million Barrels\n",
      "source:      None\n",
      "start:      197301\n",
      "end:      202109\n",
      "updated:      2021-10-26T09:57:35-0400\n",
      "\n",
      "\n",
      "name:      U.S. Ending Stocks of Crude Oil, Weekly\n",
      "description:      U.S. Ending Stocks of Crude Oil\n",
      "units:      Thousand Barrels\n",
      "source:      EIA, U.S. Energy Information Administration\n",
      "start:      19820820\n",
      "end:      20211022\n",
      "updated:      2021-10-27T13:11:19-0400\n"
     ]
    }
   ],
   "source": [
    "#weekly PET.WTTSTUS1.W\n",
    "#monthly TOTAL.COPSPUS.M\n",
    "OilStorage_a = download_convert(seriesid='TOTAL.COPSPUS.M',timeformat='%Y%m',column1='date',column2='oilstorage_amount_x')\n",
    "print('\\n')\n",
    "OilStorage_b = download_convert(seriesid='PET.WCRSTUS1.W',timeformat='%Y%m%d',column1='date',column2='oilstorage_amount_y')"
   ]
  },
  {
   "cell_type": "code",
   "execution_count": 29,
   "metadata": {},
   "outputs": [
    {
     "name": "stdout",
     "output_type": "stream",
     "text": [
      "name:      U.S. Crude Oil Stock Change, Monthly\n",
      "description:      U.S. Crude Oil Stock Change\n",
      "units:      Thousand Barrels\n",
      "source:      EIA, U.S. Energy Information Administration\n",
      "start:      198101\n",
      "end:      202107\n",
      "updated:      2021-09-30T13:01:56-0400\n"
     ]
    },
    {
     "data": {
      "text/html": [
       "<div>\n",
       "<style scoped>\n",
       "    .dataframe tbody tr th:only-of-type {\n",
       "        vertical-align: middle;\n",
       "    }\n",
       "\n",
       "    .dataframe tbody tr th {\n",
       "        vertical-align: top;\n",
       "    }\n",
       "\n",
       "    .dataframe thead th {\n",
       "        text-align: right;\n",
       "    }\n",
       "</style>\n",
       "<table border=\"1\" class=\"dataframe\">\n",
       "  <thead>\n",
       "    <tr style=\"text-align: right;\">\n",
       "      <th></th>\n",
       "      <th>date</th>\n",
       "      <th>oilstoragechange_amount</th>\n",
       "    </tr>\n",
       "  </thead>\n",
       "  <tbody>\n",
       "    <tr>\n",
       "      <th>0</th>\n",
       "      <td>2021-07-01</td>\n",
       "      <td>-9035.0</td>\n",
       "    </tr>\n",
       "    <tr>\n",
       "      <th>1</th>\n",
       "      <td>2021-06-01</td>\n",
       "      <td>-34924.0</td>\n",
       "    </tr>\n",
       "    <tr>\n",
       "      <th>2</th>\n",
       "      <td>2021-05-01</td>\n",
       "      <td>-18979.0</td>\n",
       "    </tr>\n",
       "    <tr>\n",
       "      <th>3</th>\n",
       "      <td>2021-04-01</td>\n",
       "      <td>-16518.0</td>\n",
       "    </tr>\n",
       "    <tr>\n",
       "      <th>4</th>\n",
       "      <td>2021-03-01</td>\n",
       "      <td>8748.0</td>\n",
       "    </tr>\n",
       "  </tbody>\n",
       "</table>\n",
       "</div>"
      ],
      "text/plain": [
       "        date  oilstoragechange_amount\n",
       "0 2021-07-01                  -9035.0\n",
       "1 2021-06-01                 -34924.0\n",
       "2 2021-05-01                 -18979.0\n",
       "3 2021-04-01                 -16518.0\n",
       "4 2021-03-01                   8748.0"
      ]
     },
     "execution_count": 29,
     "metadata": {},
     "output_type": "execute_result"
    }
   ],
   "source": [
    "#'PET.WTTSTUS1.W'\n",
    "#'PET.MCRSCUS1.M'\n",
    "OilStorageChange = download_convert(seriesid='PET.MCRSCUS1.M',timeformat='%Y%m',column1='date',column2='oilstoragechange_amount')\n",
    "OilStorageChange.head()"
   ]
  },
  {
   "cell_type": "markdown",
   "metadata": {},
   "source": [
    "Days of Supply of Crude Oil"
   ]
  },
  {
   "cell_type": "code",
   "execution_count": 30,
   "metadata": {},
   "outputs": [
    {
     "name": "stdout",
     "output_type": "stream",
     "text": [
      "name:      U.S. Days of Supply of Crude Oil excluding SPR, Weekly\n",
      "description:      U.S. Days of Supply of Crude Oil excluding SPR\n",
      "units:      Number of Days\n",
      "source:      EIA, U.S. Energy Information Administration\n",
      "start:      19820924\n",
      "end:      20211022\n",
      "updated:      2021-10-27T13:11:19-0400\n"
     ]
    },
    {
     "data": {
      "text/html": [
       "<div>\n",
       "<style scoped>\n",
       "    .dataframe tbody tr th:only-of-type {\n",
       "        vertical-align: middle;\n",
       "    }\n",
       "\n",
       "    .dataframe tbody tr th {\n",
       "        vertical-align: top;\n",
       "    }\n",
       "\n",
       "    .dataframe thead th {\n",
       "        text-align: right;\n",
       "    }\n",
       "</style>\n",
       "<table border=\"1\" class=\"dataframe\">\n",
       "  <thead>\n",
       "    <tr style=\"text-align: right;\">\n",
       "      <th></th>\n",
       "      <th>date</th>\n",
       "      <th>oildaysofsupply</th>\n",
       "    </tr>\n",
       "  </thead>\n",
       "  <tbody>\n",
       "    <tr>\n",
       "      <th>0</th>\n",
       "      <td>2021-10-22</td>\n",
       "      <td>28.3</td>\n",
       "    </tr>\n",
       "    <tr>\n",
       "      <th>1</th>\n",
       "      <td>2021-10-15</td>\n",
       "      <td>27.9</td>\n",
       "    </tr>\n",
       "    <tr>\n",
       "      <th>2</th>\n",
       "      <td>2021-10-08</td>\n",
       "      <td>27.7</td>\n",
       "    </tr>\n",
       "    <tr>\n",
       "      <th>3</th>\n",
       "      <td>2021-10-01</td>\n",
       "      <td>27.6</td>\n",
       "    </tr>\n",
       "    <tr>\n",
       "      <th>4</th>\n",
       "      <td>2021-09-24</td>\n",
       "      <td>28.2</td>\n",
       "    </tr>\n",
       "  </tbody>\n",
       "</table>\n",
       "</div>"
      ],
      "text/plain": [
       "        date  oildaysofsupply\n",
       "0 2021-10-22             28.3\n",
       "1 2021-10-15             27.9\n",
       "2 2021-10-08             27.7\n",
       "3 2021-10-01             27.6\n",
       "4 2021-09-24             28.2"
      ]
     },
     "execution_count": 30,
     "metadata": {},
     "output_type": "execute_result"
    }
   ],
   "source": [
    "# PET.W_EPC0_VSD_NUS_DAYS.W\n",
    "OilDaysOfSupply = download_convert(seriesid='PET.W_EPC0_VSD_NUS_DAYS.W',timeformat='%Y%m%d',column1='date',column2='oildaysofsupply')\n",
    "OilDaysOfSupply.head()"
   ]
  },
  {
   "cell_type": "markdown",
   "metadata": {},
   "source": [
    "US Resident Population"
   ]
  },
  {
   "cell_type": "code",
   "execution_count": 31,
   "metadata": {},
   "outputs": [
    {
     "name": "stdout",
     "output_type": "stream",
     "text": [
      "name:      Resident population including Armed Forces, United States\n",
      "description:      Resident population including Armed Forces, United States See http://www.eia.gov/state/seds/seds-technical-notes-complete.cfm?sid=US for technical notes and documentation.\n",
      "units:      Thousand\n",
      "source:      SEDS, EIA, U.S. Energy Information Administration\n",
      "start:      1960\n",
      "end:      2019\n",
      "updated:      2021-06-24T19:29:04-0400\n"
     ]
    },
    {
     "data": {
      "text/html": [
       "<div>\n",
       "<style scoped>\n",
       "    .dataframe tbody tr th:only-of-type {\n",
       "        vertical-align: middle;\n",
       "    }\n",
       "\n",
       "    .dataframe tbody tr th {\n",
       "        vertical-align: top;\n",
       "    }\n",
       "\n",
       "    .dataframe thead th {\n",
       "        text-align: right;\n",
       "    }\n",
       "</style>\n",
       "<table border=\"1\" class=\"dataframe\">\n",
       "  <thead>\n",
       "    <tr style=\"text-align: right;\">\n",
       "      <th></th>\n",
       "      <th>date</th>\n",
       "      <th>uspopulation</th>\n",
       "    </tr>\n",
       "  </thead>\n",
       "  <tbody>\n",
       "    <tr>\n",
       "      <th>0</th>\n",
       "      <td>2019-01-01</td>\n",
       "      <td>328330.0</td>\n",
       "    </tr>\n",
       "    <tr>\n",
       "      <th>1</th>\n",
       "      <td>2018-01-01</td>\n",
       "      <td>326838.0</td>\n",
       "    </tr>\n",
       "    <tr>\n",
       "      <th>2</th>\n",
       "      <td>2017-01-01</td>\n",
       "      <td>325122.0</td>\n",
       "    </tr>\n",
       "    <tr>\n",
       "      <th>3</th>\n",
       "      <td>2016-01-01</td>\n",
       "      <td>323072.0</td>\n",
       "    </tr>\n",
       "    <tr>\n",
       "      <th>4</th>\n",
       "      <td>2015-01-01</td>\n",
       "      <td>320739.0</td>\n",
       "    </tr>\n",
       "  </tbody>\n",
       "</table>\n",
       "</div>"
      ],
      "text/plain": [
       "        date  uspopulation\n",
       "0 2019-01-01      328330.0\n",
       "1 2018-01-01      326838.0\n",
       "2 2017-01-01      325122.0\n",
       "3 2016-01-01      323072.0\n",
       "4 2015-01-01      320739.0"
      ]
     },
     "execution_count": 31,
     "metadata": {},
     "output_type": "execute_result"
    }
   ],
   "source": [
    "USPopulation = download_convert(seriesid='SEDS.TPOPP.US.A',timeformat='%Y',column1='date',column2='uspopulation')\n",
    "USPopulation.head()"
   ]
  },
  {
   "cell_type": "markdown",
   "metadata": {},
   "source": [
    "CO2 Emissions"
   ]
  },
  {
   "cell_type": "code",
   "execution_count": 32,
   "metadata": {},
   "outputs": [
    {
     "name": "stdout",
     "output_type": "stream",
     "text": [
      "name:      Total carbon dioxide emissions from all sectors, petroleum, United States\n",
      "description:      See http://www.eia.gov/environment/emissions/state/analysis/ for technical notes and documentation.\n",
      "units:      million metric tons CO2\n",
      "source:      EIA, U.S. Energy Information Administration\n",
      "start:      1980\n",
      "end:      2018\n",
      "updated:      2021-10-14T16:18:55-0400\n"
     ]
    },
    {
     "data": {
      "text/html": [
       "<div>\n",
       "<style scoped>\n",
       "    .dataframe tbody tr th:only-of-type {\n",
       "        vertical-align: middle;\n",
       "    }\n",
       "\n",
       "    .dataframe tbody tr th {\n",
       "        vertical-align: top;\n",
       "    }\n",
       "\n",
       "    .dataframe thead th {\n",
       "        text-align: right;\n",
       "    }\n",
       "</style>\n",
       "<table border=\"1\" class=\"dataframe\">\n",
       "  <thead>\n",
       "    <tr style=\"text-align: right;\">\n",
       "      <th></th>\n",
       "      <th>date</th>\n",
       "      <th>usemissions</th>\n",
       "    </tr>\n",
       "  </thead>\n",
       "  <tbody>\n",
       "    <tr>\n",
       "      <th>0</th>\n",
       "      <td>2018-01-01</td>\n",
       "      <td>2379.897795</td>\n",
       "    </tr>\n",
       "    <tr>\n",
       "      <th>1</th>\n",
       "      <td>2017-01-01</td>\n",
       "      <td>2336.884160</td>\n",
       "    </tr>\n",
       "    <tr>\n",
       "      <th>2</th>\n",
       "      <td>2016-01-01</td>\n",
       "      <td>2314.860364</td>\n",
       "    </tr>\n",
       "    <tr>\n",
       "      <th>3</th>\n",
       "      <td>2015-01-01</td>\n",
       "      <td>2284.230588</td>\n",
       "    </tr>\n",
       "    <tr>\n",
       "      <th>4</th>\n",
       "      <td>2014-01-01</td>\n",
       "      <td>2244.002699</td>\n",
       "    </tr>\n",
       "  </tbody>\n",
       "</table>\n",
       "</div>"
      ],
      "text/plain": [
       "        date  usemissions\n",
       "0 2018-01-01  2379.897795\n",
       "1 2017-01-01  2336.884160\n",
       "2 2016-01-01  2314.860364\n",
       "3 2015-01-01  2284.230588\n",
       "4 2014-01-01  2244.002699"
      ]
     },
     "execution_count": 32,
     "metadata": {},
     "output_type": "execute_result"
    }
   ],
   "source": [
    "#EMISS.CO2-TOTV-TT-PE-US.A\n",
    "USEmissions = download_convert(seriesid='EMISS.CO2-TOTV-TT-PE-US.A',timeformat='%Y',column1='date',column2='usemissions')\n",
    "USEmissions.head()"
   ]
  },
  {
   "cell_type": "markdown",
   "metadata": {},
   "source": [
    "## Build DataFrame with data obtained from EIA"
   ]
  },
  {
   "cell_type": "code",
   "execution_count": 33,
   "metadata": {},
   "outputs": [],
   "source": [
    "df = pd.merge(left=oil,right=gas, how='left',on='date')"
   ]
  },
  {
   "cell_type": "code",
   "execution_count": 34,
   "metadata": {},
   "outputs": [],
   "source": [
    "df_list = [OilRig,GasRig,TotalRig,OnshoreRig,OffshoreRig,TotalWells, OilWells, GasWells,\n",
    "           OilImports_a,OilImports_b,OilExports_a,OilExports_b,OilProduction_a,OilProduction_b,\n",
    "           OilConsumption_a,OilConsumption_b,OilStorage_a,OilStorage_b, OilStorageChange,OilDaysOfSupply,\n",
    "           GasImports,GasExports,GasProduction,GasConsumption,GasStorage, \n",
    "            USPopulation,USEmissions]"
   ]
  },
  {
   "cell_type": "code",
   "execution_count": 35,
   "metadata": {},
   "outputs": [],
   "source": [
    "for data in range(len(df_list)):    \n",
    "    df = pd.merge(left=df,right=df_list[data],how='outer',on='date')"
   ]
  },
  {
   "cell_type": "code",
   "execution_count": 36,
   "metadata": {},
   "outputs": [
    {
     "name": "stdout",
     "output_type": "stream",
     "text": [
      "<class 'pandas.core.frame.DataFrame'>\n",
      "Int64Index: 9598 entries, 0 to 9597\n",
      "Data columns (total 30 columns):\n",
      " #   Column                   Non-Null Count  Dtype         \n",
      "---  ------                   --------------  -----         \n",
      " 0   date                     9598 non-null   datetime64[ns]\n",
      " 1   oil_price                9038 non-null   float64       \n",
      " 2   gas_price                6222 non-null   float64       \n",
      " 3   oilrig_count             410 non-null    float64       \n",
      " 4   gasrig_count             410 non-null    float64       \n",
      " 5   totalrig_count           585 non-null    float64       \n",
      " 6   onshore_count            585 non-null    float64       \n",
      " 7   offshore_count           585 non-null    float64       \n",
      " 8   totalwell_count          456 non-null    float64       \n",
      " 9   oilwell_count            456 non-null    float64       \n",
      " 10  gaswell_count            456 non-null    float64       \n",
      " 11  oilimports_amount_x      585 non-null    float64       \n",
      " 12  oilimports_amount_y      1603 non-null   float64       \n",
      " 13  oilexports_amount_x      585 non-null    float64       \n",
      " 14  oilexports_amount_y      1603 non-null   float64       \n",
      " 15  oilproduction_amount_x   585 non-null    float64       \n",
      " 16  oilproduction_amount_y   2022 non-null   float64       \n",
      " 17  oilconsumption_amount_x  585 non-null    float64       \n",
      " 18  oilconsumption_amount_y  1615 non-null   float64       \n",
      " 19  oilstorage_amount_x      585 non-null    float64       \n",
      " 20  oilstorage_amount_y      2039 non-null   float64       \n",
      " 21  oilstoragechange_amount  487 non-null    float64       \n",
      " 22  oildaysofsupply          2037 non-null   float64       \n",
      " 23  gasimports_amount        583 non-null    float64       \n",
      " 24  gasexports_amount        583 non-null    float64       \n",
      " 25  gasproduction_amount     583 non-null    float64       \n",
      " 26  gasconsumption_amount    583 non-null    float64       \n",
      " 27  gasstorage_amount        554 non-null    float64       \n",
      " 28  uspopulation             60 non-null     float64       \n",
      " 29  usemissions              39 non-null     float64       \n",
      "dtypes: datetime64[ns](1), float64(29)\n",
      "memory usage: 2.3 MB\n"
     ]
    }
   ],
   "source": [
    "df.info()"
   ]
  },
  {
   "cell_type": "code",
   "execution_count": 46,
   "metadata": {},
   "outputs": [
    {
     "data": {
      "text/html": [
       "<div>\n",
       "<style scoped>\n",
       "    .dataframe tbody tr th:only-of-type {\n",
       "        vertical-align: middle;\n",
       "    }\n",
       "\n",
       "    .dataframe tbody tr th {\n",
       "        vertical-align: top;\n",
       "    }\n",
       "\n",
       "    .dataframe thead th {\n",
       "        text-align: right;\n",
       "    }\n",
       "</style>\n",
       "<table border=\"1\" class=\"dataframe\">\n",
       "  <thead>\n",
       "    <tr style=\"text-align: right;\">\n",
       "      <th></th>\n",
       "      <th>count</th>\n",
       "      <th>mean</th>\n",
       "      <th>min</th>\n",
       "      <th>max</th>\n",
       "      <th>std</th>\n",
       "    </tr>\n",
       "  </thead>\n",
       "  <tbody>\n",
       "    <tr>\n",
       "      <th>oil_price</th>\n",
       "      <td>9038.0</td>\n",
       "      <td>44.52</td>\n",
       "      <td>-36.98</td>\n",
       "      <td>145.31</td>\n",
       "      <td>28.73</td>\n",
       "    </tr>\n",
       "    <tr>\n",
       "      <th>gas_price</th>\n",
       "      <td>6222.0</td>\n",
       "      <td>4.15</td>\n",
       "      <td>0.00</td>\n",
       "      <td>23.86</td>\n",
       "      <td>2.18</td>\n",
       "    </tr>\n",
       "    <tr>\n",
       "      <th>oilrig_count</th>\n",
       "      <td>410.0</td>\n",
       "      <td>497.42</td>\n",
       "      <td>108.00</td>\n",
       "      <td>1596.00</td>\n",
       "      <td>361.41</td>\n",
       "    </tr>\n",
       "    <tr>\n",
       "      <th>gasrig_count</th>\n",
       "      <td>410.0</td>\n",
       "      <td>584.97</td>\n",
       "      <td>70.00</td>\n",
       "      <td>1585.00</td>\n",
       "      <td>388.99</td>\n",
       "    </tr>\n",
       "    <tr>\n",
       "      <th>totalrig_count</th>\n",
       "      <td>585.0</td>\n",
       "      <td>1389.25</td>\n",
       "      <td>250.00</td>\n",
       "      <td>4521.00</td>\n",
       "      <td>746.52</td>\n",
       "    </tr>\n",
       "    <tr>\n",
       "      <th>onshore_count</th>\n",
       "      <td>585.0</td>\n",
       "      <td>1285.06</td>\n",
       "      <td>237.00</td>\n",
       "      <td>4238.00</td>\n",
       "      <td>705.22</td>\n",
       "    </tr>\n",
       "    <tr>\n",
       "      <th>offshore_count</th>\n",
       "      <td>585.0</td>\n",
       "      <td>104.22</td>\n",
       "      <td>6.00</td>\n",
       "      <td>283.00</td>\n",
       "      <td>63.63</td>\n",
       "    </tr>\n",
       "    <tr>\n",
       "      <th>totalwell_count</th>\n",
       "      <td>456.0</td>\n",
       "      <td>3482.35</td>\n",
       "      <td>1268.00</td>\n",
       "      <td>8556.00</td>\n",
       "      <td>1654.50</td>\n",
       "    </tr>\n",
       "    <tr>\n",
       "      <th>oilwell_count</th>\n",
       "      <td>456.0</td>\n",
       "      <td>1363.82</td>\n",
       "      <td>291.00</td>\n",
       "      <td>3945.00</td>\n",
       "      <td>898.65</td>\n",
       "    </tr>\n",
       "    <tr>\n",
       "      <th>gaswell_count</th>\n",
       "      <td>456.0</td>\n",
       "      <td>1259.94</td>\n",
       "      <td>454.00</td>\n",
       "      <td>3200.00</td>\n",
       "      <td>626.67</td>\n",
       "    </tr>\n",
       "    <tr>\n",
       "      <th>oilimports_amount_x</th>\n",
       "      <td>585.0</td>\n",
       "      <td>9149.60</td>\n",
       "      <td>3689.51</td>\n",
       "      <td>14696.61</td>\n",
       "      <td>2476.54</td>\n",
       "    </tr>\n",
       "    <tr>\n",
       "      <th>oilimports_amount_y</th>\n",
       "      <td>1603.0</td>\n",
       "      <td>10420.68</td>\n",
       "      <td>5775.00</td>\n",
       "      <td>15217.00</td>\n",
       "      <td>1854.46</td>\n",
       "    </tr>\n",
       "    <tr>\n",
       "      <th>oilexports_amount_x</th>\n",
       "      <td>585.0</td>\n",
       "      <td>1954.24</td>\n",
       "      <td>155.77</td>\n",
       "      <td>9589.40</td>\n",
       "      <td>2262.03</td>\n",
       "    </tr>\n",
       "    <tr>\n",
       "      <th>oilexports_amount_y</th>\n",
       "      <td>1603.0</td>\n",
       "      <td>2552.01</td>\n",
       "      <td>723.00</td>\n",
       "      <td>10134.00</td>\n",
       "      <td>2368.32</td>\n",
       "    </tr>\n",
       "    <tr>\n",
       "      <th>oilproduction_amount_x</th>\n",
       "      <td>585.0</td>\n",
       "      <td>7604.88</td>\n",
       "      <td>3973.59</td>\n",
       "      <td>12966.12</td>\n",
       "      <td>1775.59</td>\n",
       "    </tr>\n",
       "    <tr>\n",
       "      <th>oilproduction_amount_y</th>\n",
       "      <td>2022.0</td>\n",
       "      <td>7342.01</td>\n",
       "      <td>3813.00</td>\n",
       "      <td>13100.00</td>\n",
       "      <td>1901.09</td>\n",
       "    </tr>\n",
       "    <tr>\n",
       "      <th>oilconsumption_amount_x</th>\n",
       "      <td>585.0</td>\n",
       "      <td>18319.93</td>\n",
       "      <td>14504.70</td>\n",
       "      <td>21666.06</td>\n",
       "      <td>1682.81</td>\n",
       "    </tr>\n",
       "    <tr>\n",
       "      <th>oilconsumption_amount_y</th>\n",
       "      <td>1615.0</td>\n",
       "      <td>19212.41</td>\n",
       "      <td>13797.00</td>\n",
       "      <td>22820.00</td>\n",
       "      <td>1383.45</td>\n",
       "    </tr>\n",
       "    <tr>\n",
       "      <th>oilstorage_amount_x</th>\n",
       "      <td>585.0</td>\n",
       "      <td>840.02</td>\n",
       "      <td>233.04</td>\n",
       "      <td>1230.10</td>\n",
       "      <td>261.02</td>\n",
       "    </tr>\n",
       "    <tr>\n",
       "      <th>oilstorage_amount_y</th>\n",
       "      <td>2039.0</td>\n",
       "      <td>945372.14</td>\n",
       "      <td>607781.00</td>\n",
       "      <td>1227678.00</td>\n",
       "      <td>123517.10</td>\n",
       "    </tr>\n",
       "    <tr>\n",
       "      <th>oilstoragechange_amount</th>\n",
       "      <td>487.0</td>\n",
       "      <td>1206.19</td>\n",
       "      <td>-34924.00</td>\n",
       "      <td>48553.00</td>\n",
       "      <td>11206.98</td>\n",
       "    </tr>\n",
       "    <tr>\n",
       "      <th>oildaysofsupply</th>\n",
       "      <td>2037.0</td>\n",
       "      <td>23.42</td>\n",
       "      <td>16.10</td>\n",
       "      <td>42.00</td>\n",
       "      <td>4.06</td>\n",
       "    </tr>\n",
       "    <tr>\n",
       "      <th>gasimports_amount</th>\n",
       "      <td>583.0</td>\n",
       "      <td>203.04</td>\n",
       "      <td>42.51</td>\n",
       "      <td>426.53</td>\n",
       "      <td>103.02</td>\n",
       "    </tr>\n",
       "    <tr>\n",
       "      <th>gasexports_amount</th>\n",
       "      <td>583.0</td>\n",
       "      <td>71.31</td>\n",
       "      <td>1.61</td>\n",
       "      <td>595.41</td>\n",
       "      <td>113.08</td>\n",
       "    </tr>\n",
       "    <tr>\n",
       "      <th>gasproduction_amount</th>\n",
       "      <td>583.0</td>\n",
       "      <td>91.54</td>\n",
       "      <td>59.00</td>\n",
       "      <td>244.67</td>\n",
       "      <td>40.73</td>\n",
       "    </tr>\n",
       "    <tr>\n",
       "      <th>gasconsumption_amount</th>\n",
       "      <td>583.0</td>\n",
       "      <td>1852.22</td>\n",
       "      <td>939.93</td>\n",
       "      <td>3424.30</td>\n",
       "      <td>473.32</td>\n",
       "    </tr>\n",
       "    <tr>\n",
       "      <th>gasstorage_amount</th>\n",
       "      <td>554.0</td>\n",
       "      <td>6494.04</td>\n",
       "      <td>4446.00</td>\n",
       "      <td>8384.09</td>\n",
       "      <td>829.14</td>\n",
       "    </tr>\n",
       "    <tr>\n",
       "      <th>uspopulation</th>\n",
       "      <td>60.0</td>\n",
       "      <td>253787.63</td>\n",
       "      <td>180671.00</td>\n",
       "      <td>328330.00</td>\n",
       "      <td>44937.79</td>\n",
       "    </tr>\n",
       "    <tr>\n",
       "      <th>usemissions</th>\n",
       "      <td>39.0</td>\n",
       "      <td>2269.59</td>\n",
       "      <td>1978.17</td>\n",
       "      <td>2594.01</td>\n",
       "      <td>162.14</td>\n",
       "    </tr>\n",
       "  </tbody>\n",
       "</table>\n",
       "</div>"
      ],
      "text/plain": [
       "                          count       mean        min         max        std\n",
       "oil_price                9038.0      44.52     -36.98      145.31      28.73\n",
       "gas_price                6222.0       4.15       0.00       23.86       2.18\n",
       "oilrig_count              410.0     497.42     108.00     1596.00     361.41\n",
       "gasrig_count              410.0     584.97      70.00     1585.00     388.99\n",
       "totalrig_count            585.0    1389.25     250.00     4521.00     746.52\n",
       "onshore_count             585.0    1285.06     237.00     4238.00     705.22\n",
       "offshore_count            585.0     104.22       6.00      283.00      63.63\n",
       "totalwell_count           456.0    3482.35    1268.00     8556.00    1654.50\n",
       "oilwell_count             456.0    1363.82     291.00     3945.00     898.65\n",
       "gaswell_count             456.0    1259.94     454.00     3200.00     626.67\n",
       "oilimports_amount_x       585.0    9149.60    3689.51    14696.61    2476.54\n",
       "oilimports_amount_y      1603.0   10420.68    5775.00    15217.00    1854.46\n",
       "oilexports_amount_x       585.0    1954.24     155.77     9589.40    2262.03\n",
       "oilexports_amount_y      1603.0    2552.01     723.00    10134.00    2368.32\n",
       "oilproduction_amount_x    585.0    7604.88    3973.59    12966.12    1775.59\n",
       "oilproduction_amount_y   2022.0    7342.01    3813.00    13100.00    1901.09\n",
       "oilconsumption_amount_x   585.0   18319.93   14504.70    21666.06    1682.81\n",
       "oilconsumption_amount_y  1615.0   19212.41   13797.00    22820.00    1383.45\n",
       "oilstorage_amount_x       585.0     840.02     233.04     1230.10     261.02\n",
       "oilstorage_amount_y      2039.0  945372.14  607781.00  1227678.00  123517.10\n",
       "oilstoragechange_amount   487.0    1206.19  -34924.00    48553.00   11206.98\n",
       "oildaysofsupply          2037.0      23.42      16.10       42.00       4.06\n",
       "gasimports_amount         583.0     203.04      42.51      426.53     103.02\n",
       "gasexports_amount         583.0      71.31       1.61      595.41     113.08\n",
       "gasproduction_amount      583.0      91.54      59.00      244.67      40.73\n",
       "gasconsumption_amount     583.0    1852.22     939.93     3424.30     473.32\n",
       "gasstorage_amount         554.0    6494.04    4446.00     8384.09     829.14\n",
       "uspopulation               60.0  253787.63  180671.00   328330.00   44937.79\n",
       "usemissions                39.0    2269.59    1978.17     2594.01     162.14"
      ]
     },
     "execution_count": 46,
     "metadata": {},
     "output_type": "execute_result"
    }
   ],
   "source": [
    "df.describe().transpose()[['count','mean','min','max','std']].round(2)"
   ]
  },
  {
   "cell_type": "code",
   "execution_count": 38,
   "metadata": {},
   "outputs": [
    {
     "data": {
      "text/plain": [
       "9246    4131.0\n",
       "Name: totalrig_count, dtype: float64"
      ]
     },
     "execution_count": 38,
     "metadata": {},
     "output_type": "execute_result"
    }
   ],
   "source": [
    "df[(df['date'].dt.year == 1981)&(df['date'].dt.month == 8)]['totalrig_count']"
   ]
  },
  {
   "cell_type": "code",
   "execution_count": 39,
   "metadata": {},
   "outputs": [
    {
     "data": {
      "text/html": [
       "<div>\n",
       "<style scoped>\n",
       "    .dataframe tbody tr th:only-of-type {\n",
       "        vertical-align: middle;\n",
       "    }\n",
       "\n",
       "    .dataframe tbody tr th {\n",
       "        vertical-align: top;\n",
       "    }\n",
       "\n",
       "    .dataframe thead th {\n",
       "        text-align: right;\n",
       "    }\n",
       "</style>\n",
       "<table border=\"1\" class=\"dataframe\">\n",
       "  <thead>\n",
       "    <tr style=\"text-align: right;\">\n",
       "      <th></th>\n",
       "      <th>date</th>\n",
       "      <th>oil_price</th>\n",
       "      <th>gas_price</th>\n",
       "      <th>oilrig_count</th>\n",
       "      <th>gasrig_count</th>\n",
       "      <th>totalrig_count</th>\n",
       "      <th>onshore_count</th>\n",
       "      <th>offshore_count</th>\n",
       "      <th>totalwell_count</th>\n",
       "      <th>oilwell_count</th>\n",
       "      <th>...</th>\n",
       "      <th>oilstorage_amount_y</th>\n",
       "      <th>oilstoragechange_amount</th>\n",
       "      <th>oildaysofsupply</th>\n",
       "      <th>gasimports_amount</th>\n",
       "      <th>gasexports_amount</th>\n",
       "      <th>gasproduction_amount</th>\n",
       "      <th>gasconsumption_amount</th>\n",
       "      <th>gasstorage_amount</th>\n",
       "      <th>uspopulation</th>\n",
       "      <th>usemissions</th>\n",
       "    </tr>\n",
       "  </thead>\n",
       "  <tbody>\n",
       "    <tr>\n",
       "      <th>9242</th>\n",
       "      <td>1981-12-01</td>\n",
       "      <td>NaN</td>\n",
       "      <td>NaN</td>\n",
       "      <td>NaN</td>\n",
       "      <td>NaN</td>\n",
       "      <td>4521.0</td>\n",
       "      <td>4238.0</td>\n",
       "      <td>283.0</td>\n",
       "      <td>8029.0</td>\n",
       "      <td>3843.0</td>\n",
       "      <td>...</td>\n",
       "      <td>NaN</td>\n",
       "      <td>5268.0</td>\n",
       "      <td>NaN</td>\n",
       "      <td>92.544</td>\n",
       "      <td>4.539</td>\n",
       "      <td>67.0</td>\n",
       "      <td>2076.436</td>\n",
       "      <td>6569.0</td>\n",
       "      <td>NaN</td>\n",
       "      <td>NaN</td>\n",
       "    </tr>\n",
       "  </tbody>\n",
       "</table>\n",
       "<p>1 rows × 30 columns</p>\n",
       "</div>"
      ],
      "text/plain": [
       "           date  oil_price  gas_price  oilrig_count  gasrig_count  \\\n",
       "9242 1981-12-01        NaN        NaN           NaN           NaN   \n",
       "\n",
       "      totalrig_count  onshore_count  offshore_count  totalwell_count  \\\n",
       "9242          4521.0         4238.0           283.0           8029.0   \n",
       "\n",
       "      oilwell_count  ...  oilstorage_amount_y  oilstoragechange_amount  \\\n",
       "9242         3843.0  ...                  NaN                   5268.0   \n",
       "\n",
       "      oildaysofsupply  gasimports_amount  gasexports_amount  \\\n",
       "9242              NaN             92.544              4.539   \n",
       "\n",
       "      gasproduction_amount  gasconsumption_amount  gasstorage_amount  \\\n",
       "9242                  67.0               2076.436             6569.0   \n",
       "\n",
       "      uspopulation  usemissions  \n",
       "9242           NaN          NaN  \n",
       "\n",
       "[1 rows x 30 columns]"
      ]
     },
     "execution_count": 39,
     "metadata": {},
     "output_type": "execute_result"
    }
   ],
   "source": [
    "df[(df['totalrig_count'] == df['totalrig_count'].max())]"
   ]
  },
  {
   "cell_type": "code",
   "execution_count": 40,
   "metadata": {},
   "outputs": [
    {
     "data": {
      "text/plain": [
       "<matplotlib.legend.Legend at 0x1ffa3ef4640>"
      ]
     },
     "execution_count": 40,
     "metadata": {},
     "output_type": "execute_result"
    },
    {
     "data": {
      "image/png": "[encoded data removed]",
      "text/plain": [
       "<Figure size 1008x432 with 1 Axes>"
      ]
     },
     "metadata": {},
     "output_type": "display_data"
    }
   ],
   "source": [
    "sns.set_style('whitegrid')\n",
    "for rig_count in ['oilwell_count','gaswell_count','totalwell_count']:\n",
    "    df.groupby([df['date'].dt.year,df['date'].dt.month])[rig_count].sum().plot.line(figsize=(14,6))\n",
    "plt.legend() "
   ]
  },
  {
   "cell_type": "code",
   "execution_count": 41,
   "metadata": {},
   "outputs": [
    {
     "data": {
      "text/plain": [
       "<matplotlib.legend.Legend at 0x1ffa676c130>"
      ]
     },
     "execution_count": 41,
     "metadata": {},
     "output_type": "execute_result"
    },
    {
     "data": {
      "image/png": "[encoded data removed]",
      "text/plain": [
       "<Figure size 1008x432 with 1 Axes>"
      ]
     },
     "metadata": {},
     "output_type": "display_data"
    }
   ],
   "source": [
    "for rig_count in ['oilrig_count','gasrig_count','totalrig_count']:\n",
    "    df.groupby([df['date'].dt.year,df['date'].dt.month])[rig_count].sum().plot.line(figsize=(14,6))\n",
    "plt.legend() "
   ]
  },
  {
   "cell_type": "code",
   "execution_count": 42,
   "metadata": {},
   "outputs": [
    {
     "data": {
      "text/plain": [
       "<matplotlib.legend.Legend at 0x1ffa676cc70>"
      ]
     },
     "execution_count": 42,
     "metadata": {},
     "output_type": "execute_result"
    },
    {
     "data": {
      "image/png": "[encoded data removed]",
      "text/plain": [
       "<Figure size 1008x432 with 1 Axes>"
      ]
     },
     "metadata": {},
     "output_type": "display_data"
    }
   ],
   "source": [
    "for feature in ['oilimports_amount_y','oilexports_amount_y','oilproduction_amount_y','oilconsumption_amount_y']:\n",
    "    df.groupby([df['date'].dt.year,df['date'].dt.month])[feature].sum().plot.line(figsize=(14,6))\n",
    "plt.legend() "
   ]
  },
  {
   "cell_type": "code",
   "execution_count": 44,
   "metadata": {},
   "outputs": [],
   "source": [
    "#df.to_csv('Oil&Gas.csv',index=False)"
   ]
  }
 ],
 "metadata": {
  "kernelspec": {
   "display_name": "Python 3 (ipykernel)",
   "language": "python",
   "name": "python3"
  },
  "language_info": {
   "codemirror_mode": {
    "name": "ipython",
    "version": 3
   },
   "file_extension": ".py",
   "mimetype": "text/x-python",
   "name": "python",
   "nbconvert_exporter": "python",
   "pygments_lexer": "ipython3",
   "version": "3.9.6"
  }
 },
 "nbformat": 4,
 "nbformat_minor": 4
}
