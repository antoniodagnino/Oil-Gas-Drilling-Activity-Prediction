{
 "cells": [
  {
   "cell_type": "markdown",
   "id": "ac2009ad",
   "metadata": {},
   "source": [
    "# Drilling Activity Prediction: Data Modeling - ARIMA\n",
    "\n",
    "- Import dataset and resample to monthly data\n",
    "- Use oil dataset to predict oil rig count:\n",
    "    - Find what hyperparameters to be used in the model (p,d,q)\n",
    "    - Train/test split\n",
    "    - Create ARIMA model and fit with data\n",
    "    - Generate Forecast and compare against Test set\n",
    "    - Evaluation Measures\n",
    "    - Refit the model with 100% of data and make REAL Forecasting    \n",
    "    \n",
    "    \n",
    " - Create ARIMA model with Gas dataframe to predict Gas Rig Count"
   ]
  },
  {
   "cell_type": "code",
   "execution_count": 1,
   "id": "ca40b7d3",
   "metadata": {},
   "outputs": [],
   "source": [
    "import numpy as np\n",
    "import pandas as pd\n",
    "import matplotlib.pyplot as plt\n",
    "import seaborn as sns\n",
    "\n",
    "# Load specific forecasting tools\n",
    "from statsmodels.tsa.arima.model import ARIMA,ARIMAResults\n",
    "from statsmodels.tsa.statespace.sarimax import SARIMAX\n",
    "from statsmodels.tsa.seasonal import seasonal_decompose\n",
    "from statsmodels.tools.eval_measures import rmse, mse, meanabs\n",
    "from sklearn.model_selection import TimeSeriesSplit\n",
    "import time\n",
    "from pmdarima import auto_arima\n",
    "from pylab import rcParams\n",
    "\n",
    "# Ignore harmless warnings\n",
    "import warnings\n",
    "warnings.filterwarnings(\"ignore\")\n",
    "\n",
    "# Size of all plots\n",
    "rcParams['figure.figsize'] = 6,6"
   ]
  },
  {
   "cell_type": "code",
   "execution_count": 2,
   "id": "d0d597a0",
   "metadata": {},
   "outputs": [],
   "source": [
    "dfoil = pd.read_csv('dfoil.csv',index_col=0,parse_dates=True)\n",
    "dfoil = dfoil.resample('M').mean()\n",
    "dfoil.index.freq = 'M'\n",
    "\n",
    "\n",
    "dfgas = pd.read_csv('dfgas.csv',index_col=0,parse_dates=True)\n",
    "dfgas = dfgas.resample('M').mean()\n",
    "dfgas.index.freq = 'M'"
   ]
  },
  {
   "cell_type": "markdown",
   "id": "79a1d56b",
   "metadata": {},
   "source": [
    "Before we can apply an ARIMA forecasting model, we need to review the components of one.<br>\n",
    "ARIMA, or Autoregressive Independent Moving Average is actually a combination of 3 models:\n",
    "* <strong>AR(p)</strong> Autoregression - a regression model that utilizes the dependent relationship between a current observation and observations over a previous period.\n",
    "* <strong>I(d)</strong> Integration - uses differencing of observations (subtracting an observation from an observation at the previous time step) in order to make the time series stationary\n",
    "* <strong>MA(q)</strong> Moving Average - a model that uses the dependency between an observation and a residual error from a moving average model applied to lagged observations.\n"
   ]
  },
  {
   "cell_type": "code",
   "execution_count": 3,
   "id": "3665bdee",
   "metadata": {},
   "outputs": [],
   "source": [
    "nobs = 12"
   ]
  },
  {
   "cell_type": "code",
   "execution_count": 4,
   "id": "c37dfe8a",
   "metadata": {},
   "outputs": [
    {
     "name": "stdout",
     "output_type": "stream",
     "text": [
      "Performing stepwise search to minimize aic\n",
      " ARIMA(0,1,0)(1,0,1)[12] intercept   : AIC=2965.143, Time=0.48 sec\n",
      " ARIMA(0,1,0)(0,0,0)[12] intercept   : AIC=2964.110, Time=0.02 sec\n",
      " ARIMA(1,1,0)(1,0,0)[12] intercept   : AIC=2595.587, Time=0.44 sec\n",
      " ARIMA(0,1,1)(0,0,1)[12] intercept   : AIC=inf, Time=0.87 sec\n",
      " ARIMA(0,1,0)(0,0,0)[12]             : AIC=2962.119, Time=0.02 sec\n",
      " ARIMA(1,1,0)(0,0,0)[12] intercept   : AIC=2595.900, Time=0.08 sec\n",
      " ARIMA(1,1,0)(2,0,0)[12] intercept   : AIC=2596.893, Time=1.05 sec\n",
      " ARIMA(1,1,0)(1,0,1)[12] intercept   : AIC=2597.400, Time=1.05 sec\n",
      " ARIMA(1,1,0)(0,0,1)[12] intercept   : AIC=2595.435, Time=0.51 sec\n",
      " ARIMA(1,1,0)(0,0,2)[12] intercept   : AIC=2597.316, Time=1.23 sec\n",
      " ARIMA(1,1,0)(1,0,2)[12] intercept   : AIC=2599.051, Time=1.40 sec\n",
      " ARIMA(0,1,0)(0,0,1)[12] intercept   : AIC=2963.810, Time=0.28 sec\n",
      " ARIMA(2,1,0)(0,0,1)[12] intercept   : AIC=2496.812, Time=0.59 sec\n",
      " ARIMA(2,1,0)(0,0,0)[12] intercept   : AIC=2498.442, Time=0.21 sec\n",
      " ARIMA(2,1,0)(1,0,1)[12] intercept   : AIC=2498.811, Time=1.01 sec\n",
      " ARIMA(2,1,0)(0,0,2)[12] intercept   : AIC=2498.808, Time=1.45 sec\n",
      " ARIMA(2,1,0)(1,0,0)[12] intercept   : AIC=2496.895, Time=0.63 sec\n",
      " ARIMA(2,1,0)(1,0,2)[12] intercept   : AIC=2500.765, Time=3.09 sec\n",
      " ARIMA(3,1,0)(0,0,1)[12] intercept   : AIC=2447.724, Time=0.67 sec\n",
      " ARIMA(3,1,0)(0,0,0)[12] intercept   : AIC=2447.856, Time=0.30 sec\n",
      " ARIMA(3,1,0)(1,0,1)[12] intercept   : AIC=2449.677, Time=1.29 sec\n",
      " ARIMA(3,1,0)(0,0,2)[12] intercept   : AIC=2449.530, Time=1.89 sec\n",
      " ARIMA(3,1,0)(1,0,0)[12] intercept   : AIC=2447.878, Time=0.72 sec\n",
      " ARIMA(3,1,0)(1,0,2)[12] intercept   : AIC=2451.134, Time=2.18 sec\n",
      " ARIMA(4,1,0)(0,0,1)[12] intercept   : AIC=2411.782, Time=0.72 sec\n",
      " ARIMA(4,1,0)(0,0,0)[12] intercept   : AIC=2410.281, Time=0.38 sec\n",
      " ARIMA(4,1,0)(1,0,0)[12] intercept   : AIC=2411.853, Time=0.92 sec\n",
      " ARIMA(4,1,0)(1,0,1)[12] intercept   : AIC=2413.593, Time=1.10 sec\n",
      " ARIMA(5,1,0)(0,0,0)[12] intercept   : AIC=2393.976, Time=0.36 sec\n",
      " ARIMA(5,1,0)(1,0,0)[12] intercept   : AIC=2395.519, Time=0.79 sec\n",
      " ARIMA(5,1,0)(0,0,1)[12] intercept   : AIC=2395.429, Time=0.66 sec\n",
      " ARIMA(5,1,0)(1,0,1)[12] intercept   : AIC=2397.160, Time=1.27 sec\n",
      " ARIMA(6,1,0)(0,0,0)[12] intercept   : AIC=2394.111, Time=0.48 sec\n",
      " ARIMA(5,1,1)(0,0,0)[12] intercept   : AIC=2359.444, Time=0.96 sec\n",
      " ARIMA(5,1,1)(1,0,0)[12] intercept   : AIC=2360.415, Time=1.89 sec\n",
      " ARIMA(5,1,1)(0,0,1)[12] intercept   : AIC=2360.250, Time=1.68 sec\n",
      " ARIMA(5,1,1)(1,0,1)[12] intercept   : AIC=2362.050, Time=3.35 sec\n",
      " ARIMA(4,1,1)(0,0,0)[12] intercept   : AIC=2358.304, Time=0.73 sec\n",
      " ARIMA(4,1,1)(1,0,0)[12] intercept   : AIC=2359.153, Time=1.59 sec\n",
      " ARIMA(4,1,1)(0,0,1)[12] intercept   : AIC=2358.973, Time=1.54 sec\n",
      " ARIMA(4,1,1)(1,0,1)[12] intercept   : AIC=2360.779, Time=2.19 sec\n",
      " ARIMA(3,1,1)(0,0,0)[12] intercept   : AIC=2356.949, Time=0.35 sec\n",
      " ARIMA(3,1,1)(1,0,0)[12] intercept   : AIC=2357.686, Time=1.23 sec\n",
      " ARIMA(3,1,1)(0,0,1)[12] intercept   : AIC=2357.502, Time=0.91 sec\n",
      " ARIMA(3,1,1)(1,0,1)[12] intercept   : AIC=2359.325, Time=1.71 sec\n",
      " ARIMA(2,1,1)(0,0,0)[12] intercept   : AIC=2359.073, Time=0.42 sec\n",
      " ARIMA(3,1,2)(0,0,0)[12] intercept   : AIC=2358.637, Time=0.65 sec\n",
      " ARIMA(2,1,2)(0,0,0)[12] intercept   : AIC=2357.181, Time=0.64 sec\n",
      " ARIMA(4,1,2)(0,0,0)[12] intercept   : AIC=2360.082, Time=0.97 sec\n",
      " ARIMA(3,1,1)(0,0,0)[12]             : AIC=2354.952, Time=0.23 sec\n",
      " ARIMA(3,1,1)(1,0,0)[12]             : AIC=2355.690, Time=0.68 sec\n",
      " ARIMA(3,1,1)(0,0,1)[12]             : AIC=2355.504, Time=0.65 sec\n",
      " ARIMA(3,1,1)(1,0,1)[12]             : AIC=2357.329, Time=0.89 sec\n",
      " ARIMA(2,1,1)(0,0,0)[12]             : AIC=2357.077, Time=0.18 sec\n",
      " ARIMA(3,1,0)(0,0,0)[12]             : AIC=2445.862, Time=0.14 sec\n",
      " ARIMA(4,1,1)(0,0,0)[12]             : AIC=2356.307, Time=0.37 sec\n",
      " ARIMA(3,1,2)(0,0,0)[12]             : AIC=2356.639, Time=0.50 sec\n",
      " ARIMA(2,1,0)(0,0,0)[12]             : AIC=2496.447, Time=0.08 sec\n",
      " ARIMA(2,1,2)(0,0,0)[12]             : AIC=2355.184, Time=0.32 sec\n",
      " ARIMA(4,1,0)(0,0,0)[12]             : AIC=2408.283, Time=0.16 sec\n",
      " ARIMA(4,1,2)(0,0,0)[12]             : AIC=2358.085, Time=0.52 sec\n",
      "\n",
      "Best model:  ARIMA(3,1,1)(0,0,0)[12]          \n",
      "Total fit time: 53.717 seconds\n"
     ]
    }
   ],
   "source": [
    "stepwise_fit = auto_arima(dfoil['oilrig_count'], start_p=0, start_q=0,\n",
    "                          max_p=6, max_q=3, m=nobs,\n",
    "                          seasonal=True,\n",
    "                          d=None, trace=True,\n",
    "                          error_action='ignore',   # we don't want to know if an order does not work\n",
    "                          suppress_warnings=True,  # we don't want convergence warnings\n",
    "                          stepwise=True)           # set to stepwise\n"
   ]
  },
  {
   "cell_type": "markdown",
   "id": "2fc79725",
   "metadata": {},
   "source": [
    "It looks like the order (3,1,1) is recommended for oil df."
   ]
  },
  {
   "cell_type": "markdown",
   "id": "09708753",
   "metadata": {},
   "source": [
    "#### Train/test split\n",
    "\n",
    "- We will evaluate the model forecasting 12 months ahead (1 year)\n",
    "- Train test split. Test df will have 12 data points"
   ]
  },
  {
   "cell_type": "code",
   "execution_count": 5,
   "id": "886e00fb",
   "metadata": {},
   "outputs": [],
   "source": [
    "train = dfoil.iloc[:len(dfoil)-nobs]\n",
    "test = dfoil.iloc[len(dfoil)-nobs:]"
   ]
  },
  {
   "cell_type": "markdown",
   "id": "d76588b6",
   "metadata": {},
   "source": [
    "#### Fit ARIMA model"
   ]
  },
  {
   "cell_type": "code",
   "execution_count": 6,
   "id": "7a7a625a",
   "metadata": {},
   "outputs": [],
   "source": [
    "oil_model = ARIMA(train['oilrig_count'],order=(3,1,1))\n",
    "oil_results = oil_model.fit()"
   ]
  },
  {
   "cell_type": "markdown",
   "id": "267712cf",
   "metadata": {},
   "source": [
    "#### Generate Forecast values and plot results"
   ]
  },
  {
   "cell_type": "code",
   "execution_count": 7,
   "id": "e8b42149",
   "metadata": {},
   "outputs": [],
   "source": [
    "#12 months forecast\n",
    "start=len(train)\n",
    "end=len(train)+len(test)-1\n",
    "oil_predictions = oil_results.predict(start=start, end=end, dynamic=False, typ='levels').rename('Oil Rig Count ARIMA(3,1,1) Predictions')"
   ]
  },
  {
   "cell_type": "code",
   "execution_count": 8,
   "id": "a3236518",
   "metadata": {},
   "outputs": [
    {
     "data": {
      "image/png": "[encoded data removed]",
      "text/plain": [
       "<Figure size 432x432 with 1 Axes>"
      ]
     },
     "metadata": {
      "needs_background": "light"
     },
     "output_type": "display_data"
    }
   ],
   "source": [
    "# Plot predictions against known values\n",
    "title = 'Oil Rig Count Predictions Vs Test Set - ARIMA'\n",
    "ylabel='Oil Rig Count'\n",
    "xlabel=''\n",
    "\n",
    "ax = dfoil['oilrig_count'].loc['2017':].plot(legend=True,title=title)\n",
    "oil_predictions.plot(legend=True)\n",
    "ax.autoscale(axis='x',tight=True)\n",
    "ax.set(xlabel=xlabel, ylabel=ylabel);"
   ]
  },
  {
   "cell_type": "markdown",
   "id": "1865d752",
   "metadata": {},
   "source": [
    "#### Evaluation Metrics"
   ]
  },
  {
   "cell_type": "code",
   "execution_count": 9,
   "id": "b2002404",
   "metadata": {},
   "outputs": [
    {
     "name": "stdout",
     "output_type": "stream",
     "text": [
      "Oil Rig ARIMA(3,1,1) RMSE: 66.322\n",
      "Oil Rig ARIMA(3,1,1) MSE: 4398.668\n",
      "Oil Rig ARIMA(3,1,1) MAE: 55.252\n",
      "\n",
      "Oil Rig Mean Value: 345.055\n",
      "Oil Rig std Value: 54.791\n",
      "Oil Rig Percent Change: 19.221%\n"
     ]
    }
   ],
   "source": [
    "RMSE1 = rmse(dfoil['oilrig_count'].loc[test.index.min():],oil_predictions)\n",
    "MSE1 = mse(dfoil['oilrig_count'].loc[test.index.min():],oil_predictions)\n",
    "MAE1 = meanabs(dfoil['oilrig_count'].loc[test.index.min():],oil_predictions)\n",
    "\n",
    "print(f\"\"\"Oil Rig ARIMA(3,1,1) RMSE: {RMSE1:.3f}\n",
    "Oil Rig ARIMA(3,1,1) MSE: {MSE1:.3f}\n",
    "Oil Rig ARIMA(3,1,1) MAE: {MAE1:.3f}\\n\n",
    "Oil Rig Mean Value: {dfoil['oilrig_count'][-nobs:].mean():.3f}\n",
    "Oil Rig std Value: {dfoil['oilrig_count'][-nobs:].std():.3f}\n",
    "Oil Rig Percent Change: {RMSE1/dfoil['oilrig_count'][-nobs:].mean()*100:.3f}%\"\"\")"
   ]
  },
  {
   "cell_type": "code",
   "execution_count": 10,
   "id": "f0fe5f12",
   "metadata": {},
   "outputs": [
    {
     "name": "stdout",
     "output_type": "stream",
     "text": [
      "TRAIN: 178 TEST: 12\n",
      "TRAIN: 190 TEST: 12\n",
      "TRAIN: 202 TEST: 12\n",
      "TRAIN: 214 TEST: 12\n",
      "TRAIN: 226 TEST: 12\n",
      "TRAIN: 238 TEST: 12\n",
      "TRAIN: 250 TEST: 12\n",
      "TRAIN: 262 TEST: 12\n",
      "TRAIN: 274 TEST: 12\n",
      "TRAIN: 286 TEST: 12\n",
      "\n",
      "10-fold Cross Validation Oil Rig\n",
      "RMSE: 195.867\n",
      "MSE: 77269.604\n",
      "MAE: 170.945\n",
      "\n",
      "Oil Rig Mean Value: 345.055\n",
      "Oil Rig std Value: 54.791\n",
      "Oil Rig Percent Change: 56.764%\n"
     ]
    }
   ],
   "source": [
    "tscv = TimeSeriesSplit(n_splits=10, test_size=12)\n",
    "RMSE_oil = []\n",
    "MSE_oil = []\n",
    "MAE_oil = []\n",
    "for train_index, test_index in tscv.split(dfoil['oilrig_count']):\n",
    "    print(\"TRAIN:\", len(train_index), \"TEST:\", len(test_index))\n",
    "    train, test = dfoil['oilrig_count'][train_index], dfoil['oilrig_count'][test_index]\n",
    "    oil_model = ARIMA(train,order=(3,1,1))\n",
    "    oil_results = oil_model.fit()\n",
    "    start=len(train)\n",
    "    end=len(train)+len(test)-1\n",
    "    oil_predictions = oil_results.predict(start=start, end=end, dynamic=False, typ='levels')   \n",
    "    RMSE_oil.append('{:.3f}'.format(rmse(dfoil.loc[dfoil.index[test_index],'oilrig_count'],oil_predictions)))\n",
    "    MSE_oil.append('{:.3f}'.format(mse(dfoil.loc[dfoil.index[test_index],'oilrig_count'],oil_predictions)))\n",
    "    MAE_oil.append('{:.3f}'.format(meanabs(dfoil.loc[dfoil.index[test_index],'oilrig_count'],oil_predictions)))\n",
    "\n",
    "RMSE_oil = np.array(RMSE_oil).astype('float')\n",
    "MSE_oil = np.array(MSE_oil).astype('float')\n",
    "MAE_oil = np.array(MAE_oil).astype('float')\n",
    "print(f\"\"\"\\n10-fold Cross Validation Oil Rig\n",
    "RMSE: {RMSE_oil.mean():.3f}\n",
    "MSE: {MSE_oil.mean():.3f}\n",
    "MAE: {MAE_oil.mean():.3f}\\n\n",
    "Oil Rig Mean Value: {dfoil['oilrig_count'][-nobs:].mean():.3f}\n",
    "Oil Rig std Value: {dfoil['oilrig_count'][-nobs:].std():.3f}\n",
    "Oil Rig Percent Change: {RMSE_oil.mean()/dfoil['oilrig_count'][-nobs:].mean()*100:.3f}%\"\"\")"
   ]
  },
  {
   "cell_type": "markdown",
   "id": "10434968",
   "metadata": {},
   "source": [
    "#### Fit Model with 100% of Data and forecast Real Future"
   ]
  },
  {
   "cell_type": "code",
   "execution_count": 11,
   "id": "6ce8889e",
   "metadata": {},
   "outputs": [],
   "source": [
    "startTime = time.time()\n",
    "oil_model = ARIMA(dfoil['oilrig_count'],order=(3,1,1))\n",
    "oil_results = oil_model.fit()"
   ]
  },
  {
   "cell_type": "code",
   "execution_count": 12,
   "id": "3d80d758",
   "metadata": {},
   "outputs": [
    {
     "name": "stdout",
     "output_type": "stream",
     "text": [
      "Execution time in seconds: 0.2573118209838867\n"
     ]
    }
   ],
   "source": [
    "start=len(dfoil)\n",
    "end=len(dfoil)+nobs\n",
    "oil_predictions = oil_results.predict(start=start, end=end, dynamic=False, typ='levels').rename('Oil Rig Count ARIMA(3,1,1) Predictions')\n",
    "executionTime = (time.time() - startTime)\n",
    "print('Execution time in seconds: ' + str(executionTime))"
   ]
  },
  {
   "cell_type": "code",
   "execution_count": 13,
   "id": "70322d26",
   "metadata": {},
   "outputs": [
    {
     "data": {
      "image/png": "[encoded data removed]",
      "text/plain": [
       "<Figure size 432x432 with 1 Axes>"
      ]
     },
     "metadata": {
      "needs_background": "light"
     },
     "output_type": "display_data"
    }
   ],
   "source": [
    "# Plot predictions against known values\n",
    "title = 'Oil Rig Count REAL Predictions - ARIMA'\n",
    "ylabel='Oil Rig Count'\n",
    "xlabel=''\n",
    "\n",
    "ax = dfoil['oilrig_count'].loc['2017':].plot(legend=True,title=title)\n",
    "oil_predictions.plot(legend=True)\n",
    "ax.autoscale(axis='x',tight=True)\n",
    "ax.set(xlabel=xlabel, ylabel=ylabel);"
   ]
  },
  {
   "cell_type": "markdown",
   "id": "1260cfb3",
   "metadata": {},
   "source": [
    "#### Create model with Gas Rig Counts"
   ]
  },
  {
   "cell_type": "code",
   "execution_count": 14,
   "id": "0371bf2f",
   "metadata": {},
   "outputs": [
    {
     "name": "stdout",
     "output_type": "stream",
     "text": [
      "Performing stepwise search to minimize aic\n",
      " ARIMA(0,1,0)(1,0,1)[12] intercept   : AIC=2856.211, Time=0.76 sec\n",
      " ARIMA(0,1,0)(0,0,0)[12] intercept   : AIC=2853.367, Time=0.02 sec\n",
      " ARIMA(1,1,0)(1,0,0)[12] intercept   : AIC=2446.106, Time=0.44 sec\n",
      " ARIMA(0,1,1)(0,0,1)[12] intercept   : AIC=2507.177, Time=0.75 sec\n",
      " ARIMA(0,1,0)(0,0,0)[12]             : AIC=2851.947, Time=0.02 sec\n",
      " ARIMA(1,1,0)(0,0,0)[12] intercept   : AIC=2445.238, Time=0.07 sec\n",
      " ARIMA(1,1,0)(0,0,1)[12] intercept   : AIC=2446.116, Time=0.38 sec\n",
      " ARIMA(1,1,0)(1,0,1)[12] intercept   : AIC=inf, Time=1.29 sec\n",
      " ARIMA(2,1,0)(0,0,0)[12] intercept   : AIC=2388.371, Time=0.20 sec\n",
      " ARIMA(2,1,0)(1,0,0)[12] intercept   : AIC=2389.692, Time=0.65 sec\n",
      " ARIMA(2,1,0)(0,0,1)[12] intercept   : AIC=2389.608, Time=0.57 sec\n",
      " ARIMA(2,1,0)(1,0,1)[12] intercept   : AIC=2391.395, Time=1.11 sec\n",
      " ARIMA(3,1,0)(0,0,0)[12] intercept   : AIC=2380.127, Time=0.29 sec\n",
      " ARIMA(3,1,0)(1,0,0)[12] intercept   : AIC=2381.190, Time=0.67 sec\n",
      " ARIMA(3,1,0)(0,0,1)[12] intercept   : AIC=2381.120, Time=0.67 sec\n",
      " ARIMA(3,1,0)(1,0,1)[12] intercept   : AIC=2383.017, Time=0.91 sec\n",
      " ARIMA(4,1,0)(0,0,0)[12] intercept   : AIC=2328.889, Time=0.36 sec\n",
      " ARIMA(4,1,0)(1,0,0)[12] intercept   : AIC=2329.369, Time=1.06 sec\n",
      " ARIMA(4,1,0)(0,0,1)[12] intercept   : AIC=2329.291, Time=0.83 sec\n",
      " ARIMA(4,1,0)(1,0,1)[12] intercept   : AIC=2331.239, Time=1.31 sec\n",
      " ARIMA(5,1,0)(0,0,0)[12] intercept   : AIC=2318.116, Time=0.43 sec\n",
      " ARIMA(5,1,0)(1,0,0)[12] intercept   : AIC=2319.693, Time=1.27 sec\n",
      " ARIMA(5,1,0)(0,0,1)[12] intercept   : AIC=2319.664, Time=0.91 sec\n",
      " ARIMA(5,1,0)(1,0,1)[12] intercept   : AIC=2321.549, Time=2.39 sec\n",
      " ARIMA(6,1,0)(0,0,0)[12] intercept   : AIC=2308.135, Time=0.67 sec\n",
      " ARIMA(6,1,0)(1,0,0)[12] intercept   : AIC=2309.062, Time=1.77 sec\n",
      " ARIMA(6,1,0)(0,0,1)[12] intercept   : AIC=2309.018, Time=1.17 sec\n",
      " ARIMA(6,1,0)(1,0,1)[12] intercept   : AIC=2310.950, Time=2.76 sec\n",
      " ARIMA(6,1,1)(0,0,0)[12] intercept   : AIC=2289.883, Time=1.22 sec\n",
      " ARIMA(6,1,1)(1,0,0)[12] intercept   : AIC=2291.370, Time=2.52 sec\n",
      " ARIMA(6,1,1)(0,0,1)[12] intercept   : AIC=2291.346, Time=2.09 sec\n",
      " ARIMA(6,1,1)(1,0,1)[12] intercept   : AIC=2293.263, Time=3.33 sec\n",
      " ARIMA(5,1,1)(0,0,0)[12] intercept   : AIC=2287.961, Time=0.80 sec\n",
      " ARIMA(5,1,1)(1,0,0)[12] intercept   : AIC=2289.452, Time=2.00 sec\n",
      " ARIMA(5,1,1)(0,0,1)[12] intercept   : AIC=2289.429, Time=1.62 sec\n",
      " ARIMA(5,1,1)(1,0,1)[12] intercept   : AIC=2291.345, Time=2.71 sec\n",
      " ARIMA(4,1,1)(0,0,0)[12] intercept   : AIC=2287.664, Time=0.41 sec\n",
      " ARIMA(4,1,1)(1,0,0)[12] intercept   : AIC=2289.485, Time=1.03 sec\n",
      " ARIMA(4,1,1)(0,0,1)[12] intercept   : AIC=2289.476, Time=1.08 sec\n",
      " ARIMA(4,1,1)(1,0,1)[12] intercept   : AIC=inf, Time=2.72 sec\n",
      " ARIMA(3,1,1)(0,0,0)[12] intercept   : AIC=2301.503, Time=0.42 sec\n",
      " ARIMA(4,1,2)(0,0,0)[12] intercept   : AIC=2287.907, Time=0.73 sec\n",
      " ARIMA(3,1,2)(0,0,0)[12] intercept   : AIC=2299.119, Time=0.54 sec\n",
      " ARIMA(5,1,2)(0,0,0)[12] intercept   : AIC=2289.861, Time=1.15 sec\n",
      " ARIMA(4,1,1)(0,0,0)[12]             : AIC=2285.772, Time=0.26 sec\n",
      " ARIMA(4,1,1)(1,0,0)[12]             : AIC=2287.582, Time=0.62 sec\n",
      " ARIMA(4,1,1)(0,0,1)[12]             : AIC=2287.573, Time=0.56 sec\n",
      " ARIMA(4,1,1)(1,0,1)[12]             : AIC=inf, Time=2.27 sec\n",
      " ARIMA(3,1,1)(0,0,0)[12]             : AIC=2299.560, Time=0.19 sec\n",
      " ARIMA(4,1,0)(0,0,0)[12]             : AIC=2327.075, Time=0.15 sec\n",
      " ARIMA(5,1,1)(0,0,0)[12]             : AIC=2286.094, Time=0.45 sec\n",
      " ARIMA(4,1,2)(0,0,0)[12]             : AIC=2286.050, Time=0.35 sec\n",
      " ARIMA(3,1,0)(0,0,0)[12]             : AIC=2378.179, Time=0.09 sec\n",
      " ARIMA(3,1,2)(0,0,0)[12]             : AIC=2297.288, Time=0.35 sec\n",
      " ARIMA(5,1,0)(0,0,0)[12]             : AIC=2316.228, Time=0.16 sec\n",
      " ARIMA(5,1,2)(0,0,0)[12]             : AIC=2288.001, Time=0.75 sec\n",
      "\n",
      "Best model:  ARIMA(4,1,1)(0,0,0)[12]          \n",
      "Total fit time: 54.366 seconds\n"
     ]
    }
   ],
   "source": [
    "stepwise_fit = auto_arima(dfgas['gasrig_count'], start_p=0, start_q=0,\n",
    "                          max_p=6, max_q=3, m=nobs,\n",
    "                          seasonal=True,\n",
    "                          d=None, trace=True,\n",
    "                          error_action='ignore',   # we don't want to know if an order does not work\n",
    "                          suppress_warnings=True,  # we don't want convergence warnings\n",
    "                          stepwise=True)           # set to stepwise"
   ]
  },
  {
   "cell_type": "code",
   "execution_count": 15,
   "id": "1ef8c318",
   "metadata": {},
   "outputs": [],
   "source": [
    "train = dfgas.iloc[:len(dfgas)-nobs]\n",
    "test = dfgas.iloc[len(dfgas)-nobs:]\n",
    "gas_model = ARIMA(train['gasrig_count'],order=(4,1,1))\n",
    "gas_results = gas_model.fit()"
   ]
  },
  {
   "cell_type": "code",
   "execution_count": 16,
   "id": "31ac159d",
   "metadata": {},
   "outputs": [
    {
     "data": {
      "image/png": "[encoded data removed]",
      "text/plain": [
       "<Figure size 432x432 with 1 Axes>"
      ]
     },
     "metadata": {
      "needs_background": "light"
     },
     "output_type": "display_data"
    }
   ],
   "source": [
    "start=len(train)\n",
    "end=len(train)+len(test)-1\n",
    "gas_predictions = gas_results.predict(start=start, end=end, dynamic=False, typ='levels').rename('Gas Rig Count ARIMA(4,1,1) Predictions')\n",
    "# Plot predictions against known values\n",
    "title = 'Gas Rig Count Predictions Vs Test Set - ARIMA'\n",
    "ylabel='Gas Rig Count'\n",
    "xlabel=''\n",
    "\n",
    "ax = dfgas['gasrig_count'].loc['2017':].plot(legend=True,title=title)\n",
    "gas_predictions.plot(legend=True)\n",
    "ax.autoscale(axis='x',tight=True)\n",
    "ax.set(xlabel=xlabel, ylabel=ylabel);"
   ]
  },
  {
   "cell_type": "code",
   "execution_count": 17,
   "id": "9eb23afd",
   "metadata": {},
   "outputs": [
    {
     "name": "stdout",
     "output_type": "stream",
     "text": [
      "Gas Rig ARIMA(4,1,1) RMSE: 17.085\n",
      "Gas Rig ARIMA(4,1,1) MSE: 291.883\n",
      "Gas Rig ARIMA(4,1,1) MAE: 15.785\n",
      "\n",
      "Gas Rig Mean Value: 94.254\n",
      "Gas Rig std Value: 7.984\n",
      "Gas Rig Percent Change: 18.126%\n"
     ]
    }
   ],
   "source": [
    "RMSE2 = rmse(dfgas['gasrig_count'].loc[test.index.min():],gas_predictions)\n",
    "MSE2 = mse(dfgas['gasrig_count'].loc[test.index.min():],gas_predictions)\n",
    "MAE2 = meanabs(dfgas['gasrig_count'].loc[test.index.min():],gas_predictions)\n",
    "\n",
    "print(f\"\"\"Gas Rig ARIMA(4,1,1) RMSE: {RMSE2:.3f}\n",
    "Gas Rig ARIMA(4,1,1) MSE: {MSE2:.3f}\n",
    "Gas Rig ARIMA(4,1,1) MAE: {MAE2:.3f}\\n\n",
    "Gas Rig Mean Value: {dfgas['gasrig_count'][-nobs:].mean():.3f}\n",
    "Gas Rig std Value: {dfgas['gasrig_count'][-nobs:].std():.3f}\n",
    "Gas Rig Percent Change: {RMSE2/dfgas['gasrig_count'][-nobs:].mean()*100:.3f}%\"\"\")"
   ]
  },
  {
   "cell_type": "code",
   "execution_count": 19,
   "id": "2f40a753",
   "metadata": {},
   "outputs": [
    {
     "name": "stdout",
     "output_type": "stream",
     "text": [
      "TRAIN: 178 TEST: 12\n",
      "TRAIN: 190 TEST: 12\n",
      "TRAIN: 202 TEST: 12\n",
      "TRAIN: 214 TEST: 12\n",
      "TRAIN: 226 TEST: 12\n",
      "TRAIN: 238 TEST: 12\n",
      "TRAIN: 250 TEST: 12\n",
      "TRAIN: 262 TEST: 12\n",
      "TRAIN: 274 TEST: 12\n",
      "TRAIN: 286 TEST: 12\n",
      "\n",
      "10-fold Cross Validation Gas Rig\n",
      "RMSE: 64.389\n",
      "MSE: 8689.194\n",
      "MAE: 57.037\n",
      "\n",
      "Gas Rig Mean Value: 94.254\n",
      "Gas Rig std Value: 7.984\n",
      "Gas Rig Percent Change: 68.314%\n"
     ]
    }
   ],
   "source": [
    "tscv = TimeSeriesSplit(n_splits=10, test_size=12)\n",
    "RMSE_gas = []\n",
    "MSE_gas = []\n",
    "MAE_gas = []\n",
    "for train_index, test_index in tscv.split(dfgas['gasrig_count']):\n",
    "    print(\"TRAIN:\", len(train_index), \"TEST:\", len(test_index))\n",
    "    train, test = dfgas['gasrig_count'][train_index], dfgas['gasrig_count'][test_index]\n",
    "    gas_model = ARIMA(train,order=(3,1,1))\n",
    "    gas_results = gas_model.fit()\n",
    "    start=len(train)\n",
    "    end=len(train)+len(test)-1\n",
    "    gas_predictions = gas_results.predict(start=start, end=end, dynamic=False, typ='levels')   \n",
    "    RMSE_gas.append('{:.3f}'.format(rmse(dfgas.loc[dfgas.index[test_index],'gasrig_count'],gas_predictions)))\n",
    "    MSE_gas.append('{:.3f}'.format(mse(dfgas.loc[dfgas.index[test_index],'gasrig_count'],gas_predictions)))\n",
    "    MAE_gas.append('{:.3f}'.format(meanabs(dfgas.loc[dfgas.index[test_index],'gasrig_count'],gas_predictions)))\n",
    "\n",
    "RMSE_gas = np.array(RMSE_gas).astype('float')\n",
    "MSE_gas = np.array(MSE_gas).astype('float')\n",
    "MAE_gas = np.array(MAE_gas).astype('float')\n",
    "print(f\"\"\"\\n10-fold Cross Validation Gas Rig\n",
    "RMSE: {RMSE_gas.mean():.3f}\n",
    "MSE: {MSE_gas.mean():.3f}\n",
    "MAE: {MAE_gas.mean():.3f}\\n\n",
    "Gas Rig Mean Value: {dfgas['gasrig_count'][-nobs:].mean():.3f}\n",
    "Gas Rig std Value: {dfgas['gasrig_count'][-nobs:].std():.3f}\n",
    "Gas Rig Percent Change: {RMSE_gas.mean()/dfgas['gasrig_count'][-nobs:].mean()*100:.3f}%\"\"\")"
   ]
  },
  {
   "cell_type": "markdown",
   "id": "a6f6c52d",
   "metadata": {},
   "source": [
    "#### Gas Rig Count REAL PREDICTIONS with 100% data"
   ]
  },
  {
   "cell_type": "code",
   "execution_count": 20,
   "id": "149020f8",
   "metadata": {},
   "outputs": [
    {
     "data": {
      "image/png": "[encoded data removed]",
      "text/plain": [
       "<Figure size 432x432 with 1 Axes>"
      ]
     },
     "metadata": {
      "needs_background": "light"
     },
     "output_type": "display_data"
    }
   ],
   "source": [
    "gas_model = ARIMA(dfgas['gasrig_count'],order=(4,1,1))\n",
    "gas_results = gas_model.fit()\n",
    "start=len(dfgas)\n",
    "end=len(dfgas)+nobs\n",
    "gas_predictions = gas_results.predict(start=start, end=end, dynamic=False, typ='levels').rename('Gas Rig Count ARIMA(4,1,1) Predictions')\n",
    "# Plot predictions against known values\n",
    "title = 'Gas Rig Count REAL Predictions - ARIMA'\n",
    "ylabel='Gas Rig Count'\n",
    "xlabel=''\n",
    "\n",
    "ax = dfgas['gasrig_count'].loc['2017':].plot(legend=True,title=title)\n",
    "gas_predictions.plot(legend=True)\n",
    "ax.autoscale(axis='x',tight=True)\n",
    "ax.set(xlabel=xlabel, ylabel=ylabel);"
   ]
  }
 ],
 "metadata": {
  "kernelspec": {
   "display_name": "Python 3 (ipykernel)",
   "language": "python",
   "name": "python3"
  },
  "language_info": {
   "codemirror_mode": {
    "name": "ipython",
    "version": 3
   },
   "file_extension": ".py",
   "mimetype": "text/x-python",
   "name": "python",
   "nbconvert_exporter": "python",
   "pygments_lexer": "ipython3",
   "version": "3.9.6"
  }
 },
 "nbformat": 4,
 "nbformat_minor": 5
}
