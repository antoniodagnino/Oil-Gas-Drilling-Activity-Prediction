{
 "cells": [
  {
   "cell_type": "markdown",
   "id": "a6d894da",
   "metadata": {},
   "source": [
    "# Drilling Activity Prediction: Data Modeling - VAR\n",
    "\n",
    "- Load datasets and resample to monthly frequency\n",
    "- Use oil dataset to make predictions in oil rig count variable:\n",
    "    - Train/test split\n",
    "    - VAR Model Hyperparameter selection\n",
    "    - Fit the model\n",
    "    - Invert Transformation\n",
    "    - Generate forecast values and plot results\n",
    "    - Evaluation Metrics\n",
    "    - Fit the model again but with 100% of the data\n",
    "    - Forecast real future values\n",
    "\n",
    "\n",
    "- Create Model with Gas dataset to make predictions in Gas Rig Counts"
   ]
  },
  {
   "cell_type": "code",
   "execution_count": 1,
   "id": "3ac2f5f3",
   "metadata": {},
   "outputs": [],
   "source": [
    "import numpy as np\n",
    "import pandas as pd\n",
    "import matplotlib.pyplot as plt\n",
    "import seaborn as sns\n",
    "\n",
    "# Load specific forecasting tools\n",
    "from statsmodels.tsa.api import VAR\n",
    "from statsmodels.tsa.stattools import adfuller, grangercausalitytests\n",
    "from statsmodels.tools.eval_measures import rmse, mse, meanabs\n",
    "from sklearn.model_selection import TimeSeriesSplit\n",
    "import time\n",
    "from pylab import rcParams\n",
    "import datetime\n",
    "\n",
    "# Ignore harmless warnings\n",
    "import warnings\n",
    "warnings.filterwarnings(\"ignore\")\n",
    "# Size of all plots\n",
    "rcParams['figure.figsize'] = 6,6"
   ]
  },
  {
   "cell_type": "code",
   "execution_count": 2,
   "id": "e11ea7d9",
   "metadata": {},
   "outputs": [],
   "source": [
    "dfoil = pd.read_csv('dfoil.csv',index_col=0,parse_dates=True)\n",
    "dfoil_transformed = pd.read_csv('dfoil_transformed.csv',index_col=0,parse_dates=True)\n",
    "\n",
    "\n",
    "dfgas = pd.read_csv('dfgas.csv',index_col=0,parse_dates=True)\n",
    "dfgas_transformed = pd.read_csv('dfgas_transformed.csv',index_col=0,parse_dates=True)"
   ]
  },
  {
   "cell_type": "markdown",
   "id": "b0a86a26",
   "metadata": {},
   "source": [
    "A $K$-dimensional VAR model of order $p$, denoted <strong>VAR(p)</strong>, considers each variable $y_K$ in the system.<br>\n",
    "\n",
    "For example, The system of equations for a 2-dimensional VAR(1) model is:\n",
    "\n",
    "&nbsp;&nbsp;&nbsp;&nbsp;$y_{1,t} = c_1 + \\phi_{11,1}y_{1,t-1} + \\phi_{12,1}y_{2,t-1} + \\varepsilon_{1,t}$<br>\n",
    "&nbsp;&nbsp;&nbsp;&nbsp;$y_{2,t} = c_2 + \\phi_{21,1}y_{1,t-1} + \\phi_{22,1}y_{2,t-1} + \\varepsilon_{2,t}$\n",
    "\n",
    "where the coefficient $\\phi_{ii,l}$ captures the influence of the $l$th lag of variable $y_i$ on itself,<br>\n",
    "the coefficient $\\phi_{ij,l}$ captures the influence of the $l$th lag of variable $y_j$ on $y_i$,<br>\n",
    "and $\\varepsilon_{1,t}$ and $\\varepsilon_{2,t}$ are white noise processes that may be correlated.<br>\n",
    "\n",
    "Carrying this further, the system of equations for a 2-dimensional VAR(3) model is:\n",
    "\n",
    "&nbsp;&nbsp;&nbsp;&nbsp;$y_{1,t} = c_1 + \\phi_{11,1}y_{1,t-1} + \\phi_{12,1}y_{2,t-1} + \\phi_{11,2}y_{1,t-2} + \\phi_{12,2}y_{2,t-2} + \\phi_{11,3}y_{1,t-3} + \\phi_{12,3}y_{2,t-3} + \\varepsilon_{1,t}$<br>\n",
    "&nbsp;&nbsp;&nbsp;&nbsp;$y_{2,t} = c_2 + \\phi_{21,1}y_{1,t-1} + \\phi_{22,1}y_{2,t-1} + \\phi_{21,2}y_{1,t-2} + \\phi_{22,2}y_{2,t-2} + \\phi_{21,3}y_{1,t-3} + \\phi_{22,3}y_{2,t-3} + \\varepsilon_{2,t}$<br><br>\n",
    "\n",
    "and the system of equations for a 3-dimensional VAR(2) model is:\n",
    "\n",
    "&nbsp;&nbsp;&nbsp;&nbsp;$y_{1,t} = c_1 + \\phi_{11,1}y_{1,t-1} + \\phi_{12,1}y_{2,t-1} + \\phi_{13,1}y_{3,t-1} + \\phi_{11,2}y_{1,t-2} + \\phi_{12,2}y_{2,t-2} + \\phi_{13,2}y_{3,t-2} + \\varepsilon_{1,t}$<br>\n",
    "&nbsp;&nbsp;&nbsp;&nbsp;$y_{2,t} = c_2 + \\phi_{21,1}y_{1,t-1} + \\phi_{22,1}y_{2,t-1} + \\phi_{23,1}y_{3,t-1} + \\phi_{21,2}y_{1,t-2} + \\phi_{22,2}y_{2,t-2} + \\phi_{23,2}y_{3,t-2} + \\varepsilon_{2,t}$<br>\n",
    "&nbsp;&nbsp;&nbsp;&nbsp;$y_{3,t} = c_3 + \\phi_{31,1}y_{1,t-1} + \\phi_{32,1}y_{2,t-1} + \\phi_{33,1}y_{3,t-1} + \\phi_{31,2}y_{1,t-2} + \\phi_{32,2}y_{2,t-2} + \\phi_{33,2}y_{3,t-2} + \\varepsilon_{3,t}$<br><br>"
   ]
  },
  {
   "cell_type": "code",
   "execution_count": 3,
   "id": "b77b6fa6",
   "metadata": {},
   "outputs": [],
   "source": [
    "\"\"\"\n",
    "This cell is used only to Test model in different points in time\n",
    "\"\"\"\n",
    "# dfoil = dfoil[:'2016']\n",
    "# dfoil_transformed = dfoil_transformed[:'2016']\n",
    "# dfgas = dfgas[:'2016']\n",
    "# dfgas_transformed = dfgas[:'2016']\n",
    "freq_time = 'M'\n",
    "dfoil = dfoil.resample('M').mean()\n",
    "dfoil.index.freq = 'M'\n",
    "dfoil_transformed = dfoil_transformed.resample('M').mean()\n",
    "dfoil_transformed.index.freq = 'M'\n",
    "dfgas = dfgas.resample('M').mean()\n",
    "dfgas.index.freq = 'M'\n",
    "dfgas_transformed = dfgas_transformed.resample('M').mean()\n",
    "dfgas_transformed.index.freq = 'M'"
   ]
  },
  {
   "cell_type": "markdown",
   "id": "bb99a92b",
   "metadata": {},
   "source": [
    "#### Train/test split\n",
    "\n",
    "- We will evaluate the model forecasting 12 months ahead (1 year)\n",
    "- Train test split. Test df will have 12 data points"
   ]
  },
  {
   "cell_type": "code",
   "execution_count": 4,
   "id": "fadf9715",
   "metadata": {},
   "outputs": [],
   "source": [
    "\"\"\"\n",
    "nobs is the variable that will be used to determine the number of months to predict.\n",
    "\"\"\"\n",
    "\n",
    "nobs=12\n",
    "train, test = dfoil_transformed[0:-nobs], dfoil_transformed[-nobs:]"
   ]
  },
  {
   "cell_type": "markdown",
   "id": "a30d0047",
   "metadata": {},
   "source": [
    "#### Fit VAR model and hyperparameter selection"
   ]
  },
  {
   "cell_type": "code",
   "execution_count": 5,
   "id": "0d47e041",
   "metadata": {},
   "outputs": [],
   "source": [
    "oil_model = VAR(train)"
   ]
  },
  {
   "cell_type": "code",
   "execution_count": 6,
   "id": "b4731be9",
   "metadata": {},
   "outputs": [
    {
     "name": "stdout",
     "output_type": "stream",
     "text": [
      "Order = 0\n",
      "AIC:  25.85377895509131\n",
      "BIC:  26.04552677733711\n",
      "\n",
      "Order = 1\n",
      "AIC:  24.625627487008828\n",
      "BIC:  25.13825754739741\n",
      "\n",
      "Order = 2\n",
      "AIC:  24.543052490949258\n",
      "BIC:  25.378205045457985\n",
      "\n",
      "Order = 3\n",
      "AIC:  24.49046824264916\n",
      "BIC:  25.649797644726515\n",
      "\n",
      "Order = 4\n",
      "AIC:  24.44370500807985\n",
      "BIC:  25.928879877434046\n",
      "\n",
      "Order = 5\n",
      "AIC:  24.47985186250436\n",
      "BIC:  26.29255525647847\n",
      "\n",
      "Order = 6\n",
      "AIC:  24.51040237882233\n",
      "BIC:  26.652331966404212\n",
      "\n",
      "Order = 7\n",
      "AIC:  24.560680628038043\n",
      "BIC:  27.033548866554383\n",
      "\n",
      "Order = 8\n",
      "AIC:  24.662155460325025\n",
      "BIC:  27.467689774869942\n",
      "\n",
      "Order = 9\n",
      "AIC:  24.578373424853176\n",
      "BIC:  27.718316390502856\n",
      "\n"
     ]
    }
   ],
   "source": [
    "for i in range(10):\n",
    "    oil_results = oil_model.fit(i,trend='ctt')\n",
    "    print('Order =', i)\n",
    "    print('AIC: ', oil_results.aic)\n",
    "    print('BIC: ', oil_results.bic)\n",
    "    print()"
   ]
  },
  {
   "cell_type": "code",
   "execution_count": 7,
   "id": "b3e1d6e4",
   "metadata": {},
   "outputs": [],
   "source": [
    "\"\"\"\n",
    "Choose best AIC based on test done before (4)\n",
    "\"\"\"\n",
    "\n",
    "oil_results = oil_model.fit(4,trend='ctt')"
   ]
  },
  {
   "cell_type": "code",
   "execution_count": 8,
   "id": "473a7e8b",
   "metadata": {},
   "outputs": [
    {
     "data": {
      "text/plain": [
       "['oilrig_count', 'oil_price', 'oilconsumption', 'oilproduction', 'oilstorage']"
      ]
     },
     "execution_count": 8,
     "metadata": {},
     "output_type": "execute_result"
    }
   ],
   "source": [
    "oil_model.endog_names"
   ]
  },
  {
   "cell_type": "code",
   "execution_count": 9,
   "id": "e9ad768e",
   "metadata": {},
   "outputs": [
    {
     "data": {
      "text/plain": [
       "  Summary of Regression Results   \n",
       "==================================\n",
       "Model:                         VAR\n",
       "Method:                        OLS\n",
       "Date:           Sun, 21, Nov, 2021\n",
       "Time:                     11:00:43\n",
       "--------------------------------------------------------------------\n",
       "No. of Equations:         5.00000    BIC:                    25.9289\n",
       "Nobs:                     282.000    HQIC:                   25.0393\n",
       "Log likelihood:          -5332.27    FPE:                4.13575e+10\n",
       "AIC:                      24.4437    Det(Omega_mle):     2.79448e+10\n",
       "--------------------------------------------------------------------\n",
       "Results for equation oilrig_count\n",
       "====================================================================================\n",
       "                       coefficient       std. error           t-stat            prob\n",
       "------------------------------------------------------------------------------------\n",
       "const                    -0.387508         0.281652           -1.376           0.169\n",
       "trend                     0.007407         0.004572            1.620           0.105\n",
       "trend**2                 -0.000025         0.000015           -1.613           0.107\n",
       "L1.oilrig_count           0.858716         0.066833           12.849           0.000\n",
       "L1.oil_price              0.950114         0.251206            3.782           0.000\n",
       "L1.oilconsumption         0.001623         0.002392            0.679           0.497\n",
       "L1.oilproduction         -0.009210         0.007035           -1.309           0.190\n",
       "L1.oilstorage            -0.000219         0.000122           -1.793           0.073\n",
       "L2.oilrig_count          -0.329181         0.086739           -3.795           0.000\n",
       "L2.oil_price              0.755291         0.259553            2.910           0.004\n",
       "L2.oilconsumption        -0.003538         0.002560           -1.382           0.167\n",
       "L2.oilproduction         -0.008588         0.006919           -1.241           0.215\n",
       "L2.oilstorage             0.000151         0.000124            1.219           0.223\n",
       "L3.oilrig_count           0.148563         0.086438            1.719           0.086\n",
       "L3.oil_price              0.447634         0.262889            1.703           0.089\n",
       "L3.oilconsumption         0.000688         0.002556            0.269           0.788\n",
       "L3.oilproduction          0.002938         0.006827            0.430           0.667\n",
       "L3.oilstorage             0.000046         0.000125            0.366           0.714\n",
       "L4.oilrig_count           0.000475         0.062722            0.008           0.994\n",
       "L4.oil_price             -0.011158         0.253895           -0.044           0.965\n",
       "L4.oilconsumption         0.002900         0.002318            1.251           0.211\n",
       "L4.oilproduction         -0.002812         0.006861           -0.410           0.682\n",
       "L4.oilstorage            -0.000063         0.000125           -0.501           0.617\n",
       "====================================================================================\n",
       "\n",
       "Results for equation oil_price\n",
       "====================================================================================\n",
       "                       coefficient       std. error           t-stat            prob\n",
       "------------------------------------------------------------------------------------\n",
       "const                    -0.011037         0.073698           -0.150           0.881\n",
       "trend                     0.000721         0.001196            0.602           0.547\n",
       "trend**2                 -0.000003         0.000004           -0.867           0.386\n",
       "L1.oilrig_count          -0.008947         0.017488           -0.512           0.609\n",
       "L1.oil_price              0.245457         0.065732            3.734           0.000\n",
       "L1.oilconsumption         0.000270         0.000626            0.431           0.666\n",
       "L1.oilproduction         -0.000031         0.001841           -0.017           0.987\n",
       "L1.oilstorage            -0.000008         0.000032           -0.264           0.792\n",
       "L2.oilrig_count          -0.027058         0.022697           -1.192           0.233\n",
       "L2.oil_price              0.088878         0.067916            1.309           0.191\n",
       "L2.oilconsumption        -0.000270         0.000670           -0.403           0.687\n",
       "L2.oilproduction          0.002261         0.001810            1.249           0.212\n",
       "L2.oilstorage             0.000034         0.000032            1.057           0.291\n",
       "L3.oilrig_count           0.015210         0.022618            0.672           0.501\n",
       "L3.oil_price             -0.013675         0.068789           -0.199           0.842\n",
       "L3.oilconsumption        -0.000321         0.000669           -0.479           0.632\n",
       "L3.oilproduction          0.002659         0.001786            1.489           0.137\n",
       "L3.oilstorage            -0.000016         0.000033           -0.475           0.634\n",
       "L4.oilrig_count           0.001755         0.016412            0.107           0.915\n",
       "L4.oil_price              0.005917         0.066435            0.089           0.929\n",
       "L4.oilconsumption        -0.000325         0.000607           -0.536           0.592\n",
       "L4.oilproduction         -0.001987         0.001795           -1.107           0.268\n",
       "L4.oilstorage             0.000016         0.000033            0.502           0.615\n",
       "====================================================================================\n",
       "\n",
       "Results for equation oilconsumption\n",
       "====================================================================================\n",
       "                       coefficient       std. error           t-stat            prob\n",
       "------------------------------------------------------------------------------------\n",
       "const                     4.285288         7.455949            0.575           0.565\n",
       "trend                    -0.058551         0.121038           -0.484           0.629\n",
       "trend**2                  0.000127         0.000407            0.312           0.755\n",
       "L1.oilrig_count           1.682829         1.769211            0.951           0.342\n",
       "L1.oil_price              2.841539         6.649962            0.427           0.669\n",
       "L1.oilconsumption        -0.462268         0.063327           -7.300           0.000\n",
       "L1.oilproduction          0.344959         0.186240            1.852           0.064\n",
       "L1.oilstorage            -0.011982         0.003240           -3.698           0.000\n",
       "L2.oilrig_count          -3.531708         2.296174           -1.538           0.124\n",
       "L2.oil_price              4.903460         6.870931            0.714           0.475\n",
       "L2.oilconsumption        -0.349321         0.067769           -5.155           0.000\n",
       "L2.oilproduction          0.080606         0.183157            0.440           0.660\n",
       "L2.oilstorage            -0.001071         0.003284           -0.326           0.744\n",
       "L3.oilrig_count           2.506909         2.288189            1.096           0.273\n",
       "L3.oil_price             -1.707170         6.959237           -0.245           0.806\n",
       "L3.oilconsumption        -0.193521         0.067654           -2.860           0.004\n",
       "L3.oilproduction         -0.059255         0.180715           -0.328           0.743\n",
       "L3.oilstorage             0.009260         0.003306            2.801           0.005\n",
       "L4.oilrig_count           0.542791         1.660398            0.327           0.744\n",
       "L4.oil_price              7.255037         6.721154            1.079           0.280\n",
       "L4.oilconsumption        -0.093737         0.061370           -1.527           0.127\n",
       "L4.oilproduction         -0.464243         0.181618           -2.556           0.011\n",
       "L4.oilstorage             0.012768         0.003321            3.845           0.000\n",
       "====================================================================================\n",
       "\n",
       "Results for equation oilproduction\n",
       "====================================================================================\n",
       "                       coefficient       std. error           t-stat            prob\n",
       "------------------------------------------------------------------------------------\n",
       "const                    -2.404820         2.511925           -0.957           0.338\n",
       "trend                     0.053292         0.040778            1.307           0.191\n",
       "trend**2                 -0.000128         0.000137           -0.934           0.350\n",
       "L1.oilrig_count           0.928539         0.596051            1.558           0.119\n",
       "L1.oil_price             -0.514054         2.240387           -0.229           0.819\n",
       "L1.oilconsumption         0.036696         0.021335            1.720           0.085\n",
       "L1.oilproduction         -0.174304         0.062745           -2.778           0.005\n",
       "L1.oilstorage            -0.000071         0.001092           -0.065           0.948\n",
       "L2.oilrig_count           0.326274         0.773586            0.422           0.673\n",
       "L2.oil_price             -1.117492         2.314832           -0.483           0.629\n",
       "L2.oilconsumption        -0.018370         0.022832           -0.805           0.421\n",
       "L2.oilproduction         -0.038803         0.061706           -0.629           0.529\n",
       "L2.oilstorage            -0.003543         0.001106           -3.202           0.001\n",
       "L3.oilrig_count          -1.172175         0.770896           -1.521           0.128\n",
       "L3.oil_price             -1.478395         2.344582           -0.631           0.528\n",
       "L3.oilconsumption        -0.020212         0.022793           -0.887           0.375\n",
       "L3.oilproduction          0.159799         0.060883            2.625           0.009\n",
       "L3.oilstorage            -0.002226         0.001114           -1.999           0.046\n",
       "L4.oilrig_count           0.637692         0.559392            1.140           0.254\n",
       "L4.oil_price             -6.262839         2.264371           -2.766           0.006\n",
       "L4.oilconsumption         0.005785         0.020676            0.280           0.780\n",
       "L4.oilproduction         -0.019325         0.061187           -0.316           0.752\n",
       "L4.oilstorage            -0.002505         0.001119           -2.239           0.025\n",
       "====================================================================================\n",
       "\n",
       "Results for equation oilstorage\n",
       "====================================================================================\n",
       "                       coefficient       std. error           t-stat            prob\n",
       "------------------------------------------------------------------------------------\n",
       "const                   -47.920936       146.643740           -0.327           0.744\n",
       "trend                     3.237055         2.380573            1.360           0.174\n",
       "trend**2                 -0.012663         0.008000           -1.583           0.113\n",
       "L1.oilrig_count         -22.596006        34.796885           -0.649           0.516\n",
       "L1.oil_price           -164.119071       130.791586           -1.255           0.210\n",
       "L1.oilconsumption        -3.843109         1.245511           -3.086           0.002\n",
       "L1.oilproduction          0.922703         3.662963            0.252           0.801\n",
       "L1.oilstorage             0.121851         0.063729            1.912           0.056\n",
       "L2.oilrig_count         -34.369706        45.161187           -0.761           0.447\n",
       "L2.oil_price           -134.705388       135.137603           -0.997           0.319\n",
       "L2.oilconsumption        -2.084083         1.332886           -1.564           0.118\n",
       "L2.oilproduction         -2.615032         3.602329           -0.726           0.468\n",
       "L2.oilstorage            -0.107311         0.064592           -1.661           0.097\n",
       "L3.oilrig_count         -28.214238        45.004147           -0.627           0.531\n",
       "L3.oil_price            120.410354       136.874417            0.880           0.379\n",
       "L3.oilconsumption         0.021273         1.330618            0.016           0.987\n",
       "L3.oilproduction          4.451663         3.554311            1.252           0.210\n",
       "L3.oilstorage            -0.017485         0.065015           -0.269           0.788\n",
       "L4.oilrig_count          30.705884        32.656732            0.940           0.347\n",
       "L4.oil_price           -285.253535       132.191781           -2.158           0.031\n",
       "L4.oilconsumption        -1.424366         1.207023           -1.180           0.238\n",
       "L4.oilproduction          3.077314         3.572061            0.861           0.389\n",
       "L4.oilstorage            -0.171073         0.065312           -2.619           0.009\n",
       "====================================================================================\n",
       "\n",
       "Correlation matrix of residuals\n",
       "                  oilrig_count  oil_price  oilconsumption  oilproduction  oilstorage\n",
       "oilrig_count          1.000000   0.276767        0.260161       0.080324   -0.212661\n",
       "oil_price             0.276767   1.000000        0.017443      -0.091995   -0.220097\n",
       "oilconsumption        0.260161   0.017443        1.000000       0.259312   -0.157363\n",
       "oilproduction         0.080324  -0.091995        0.259312       1.000000    0.040058\n",
       "oilstorage           -0.212661  -0.220097       -0.157363       0.040058    1.000000\n",
       "\n"
      ]
     },
     "execution_count": 9,
     "metadata": {},
     "output_type": "execute_result"
    }
   ],
   "source": [
    "oil_results.summary()"
   ]
  },
  {
   "cell_type": "code",
   "execution_count": 10,
   "id": "b419eaeb",
   "metadata": {},
   "outputs": [
    {
     "data": {
      "text/plain": [
       "4"
      ]
     },
     "execution_count": 10,
     "metadata": {},
     "output_type": "execute_result"
    }
   ],
   "source": [
    "lag_order = oil_results.k_ar\n",
    "lag_order"
   ]
  },
  {
   "cell_type": "markdown",
   "id": "1f2f065f",
   "metadata": {},
   "source": [
    "#### Generate Forecast values and plot results\n",
    "\n",
    "- Create forecasts of differenced dataframe\n",
    "- Transform forecast results into dataframe\n",
    "- Add datetime index to forecast dataframe\n",
    "- Invert dataframe transformation\n",
    "- Plot results and compare Forecasted values Vs Test set"
   ]
  },
  {
   "cell_type": "code",
   "execution_count": 11,
   "id": "f2c377b6",
   "metadata": {},
   "outputs": [],
   "source": [
    "\"\"\"\n",
    "y: Grab the last 4 values (lagged values) before the test set starts in format p x k (series).\n",
    "steps: amount of steps you want to forecast\n",
    "\"\"\"\n",
    "\n",
    "z = oil_results.forecast(y=train.values[-lag_order:], steps=nobs)"
   ]
  },
  {
   "cell_type": "code",
   "execution_count": 12,
   "id": "69fb0c56",
   "metadata": {},
   "outputs": [
    {
     "data": {
      "text/plain": [
       "Timestamp('2020-11-30 00:00:00', freq='M')"
      ]
     },
     "execution_count": 12,
     "metadata": {},
     "output_type": "execute_result"
    }
   ],
   "source": [
    "test.index.min()"
   ]
  },
  {
   "cell_type": "code",
   "execution_count": 13,
   "id": "fca09eed",
   "metadata": {},
   "outputs": [],
   "source": [
    "idx = pd.date_range(test.index.min(), periods=nobs, freq='M')\n",
    "dfoil_forecast = pd.DataFrame(z, index=idx, columns=['oilrig_count2d', 'oil_price2d', 'oilconsumption2d', 'oilproduction2d',\n",
    "       'oilstorage2d'])"
   ]
  },
  {
   "cell_type": "code",
   "execution_count": 14,
   "id": "bc61d086",
   "metadata": {},
   "outputs": [],
   "source": [
    "dfoil_forecast['oilrig_count1d'] = (dfoil['oilrig_count'].iloc[-nobs-1]-dfoil['oilrig_count'].iloc[-nobs-2])+dfoil_forecast['oilrig_count2d'].cumsum()\n",
    "dfoil_forecast['oilrig_forecast'] = dfoil['oilrig_count'].iloc[-nobs-1] + dfoil_forecast['oilrig_count1d'].cumsum()"
   ]
  },
  {
   "cell_type": "code",
   "execution_count": 15,
   "id": "1ddd3c94",
   "metadata": {},
   "outputs": [
    {
     "data": {
      "text/plain": [
       "<AxesSubplot:title={'center':'Oil Rig Count Prediction: FORECAST vs TEST Set - VAR Model'}>"
      ]
     },
     "execution_count": 15,
     "metadata": {},
     "output_type": "execute_result"
    },
    {
     "data": {
      "image/png": "[encoded data removed]",
      "text/plain": [
       "<Figure size 432x432 with 1 Axes>"
      ]
     },
     "metadata": {
      "needs_background": "light"
     },
     "output_type": "display_data"
    }
   ],
   "source": [
    "dfoil['oilrig_count'].loc['2017':].plot(legend=True)\n",
    "dfoil_forecast['oilrig_forecast'].plot(legend=True,linewidth=4,title='Oil Rig Count Prediction: FORECAST vs TEST Set - VAR Model')"
   ]
  },
  {
   "cell_type": "markdown",
   "id": "1a8711ef",
   "metadata": {},
   "source": [
    "#### Evaluation Metrics"
   ]
  },
  {
   "cell_type": "code",
   "execution_count": 16,
   "id": "7c2bfea6",
   "metadata": {},
   "outputs": [
    {
     "name": "stdout",
     "output_type": "stream",
     "text": [
      "Oil Rig VAR(4) RMSE: 11.013\n",
      "Oil Rig VAR(4) MSE: 121.297\n",
      "Oil Rig VAR(4) MAE: 9.293\n",
      "\n",
      "Oil Rig Mean Value: 345.055\n",
      "Oil Rig std Value: 54.791\n",
      "Oil Rig Percent Change: 3.192%\n"
     ]
    }
   ],
   "source": [
    "RMSE1 = rmse(dfoil['oilrig_count'].loc[test.index.min():],dfoil_forecast['oilrig_forecast'])\n",
    "MSE1 = mse(dfoil['oilrig_count'].loc[test.index.min():],dfoil_forecast['oilrig_forecast'])\n",
    "MAE1 = meanabs(dfoil['oilrig_count'].loc[test.index.min():],dfoil_forecast['oilrig_forecast'])\n",
    "\n",
    "print(f\"\"\"Oil Rig VAR(4) RMSE: {RMSE1:.3f}\n",
    "Oil Rig VAR(4) MSE: {MSE1:.3f}\n",
    "Oil Rig VAR(4) MAE: {MAE1:.3f}\\n\n",
    "Oil Rig Mean Value: {dfoil['oilrig_count'][-nobs:].mean():.3f}\n",
    "Oil Rig std Value: {dfoil['oilrig_count'][-nobs:].std():.3f}\n",
    "Oil Rig Percent Change: {RMSE1/dfoil['oilrig_count'][-nobs:].mean()*100:.3f}%\"\"\")"
   ]
  },
  {
   "cell_type": "code",
   "execution_count": 17,
   "id": "0035e47f",
   "metadata": {},
   "outputs": [
    {
     "name": "stdout",
     "output_type": "stream",
     "text": [
      "TRAIN: 178 TEST: 12\n",
      "TRAIN: 190 TEST: 12\n",
      "TRAIN: 202 TEST: 12\n",
      "TRAIN: 214 TEST: 12\n",
      "TRAIN: 226 TEST: 12\n",
      "TRAIN: 238 TEST: 12\n",
      "TRAIN: 250 TEST: 12\n",
      "TRAIN: 262 TEST: 12\n",
      "TRAIN: 274 TEST: 12\n",
      "TRAIN: 286 TEST: 12\n",
      "\n",
      "10-fold Cross Validation Oil Rig\n",
      "RMSE: 515.152,\n",
      "MSE: 382589.856\n",
      "MAE: 488.906\n",
      "\n",
      "Oil Rig Mean Value: 345.055\n",
      "Oil Rig std Value: 54.791\n",
      "Oil Rig Percent Change: 149.296%\n"
     ]
    }
   ],
   "source": [
    "tscv = TimeSeriesSplit(n_splits=10, test_size=12)\n",
    "RMSE_oil = []\n",
    "MSE_oil = []\n",
    "MAE_oil = []\n",
    "for train_index, test_index in tscv.split(dfoil_transformed):\n",
    "    print(\"TRAIN:\", len(train_index), \"TEST:\", len(test_index))\n",
    "    train,test = dfoil_transformed.loc[dfoil_transformed.index[train_index],:], dfoil_transformed.loc[dfoil_transformed.index[test_index],:]\n",
    "    oil_model = VAR(train)\n",
    "    oil_results = oil_model.fit(4,trend='ctt')\n",
    "    z = oil_results.forecast(y=train.values[-lag_order:], steps=nobs)\n",
    "    idx = pd.date_range(test.index.min(), periods=nobs, freq='M')\n",
    "    dfoil_forecast = pd.DataFrame(z, index=idx, columns=['oilrig_count2d', 'oil_price2d', 'oilconsumption2d', 'oilproduction2d',\n",
    "           'oilstorage2d'])\n",
    "    dfoil_forecast['oilrig_count1d'] = (dfoil['oilrig_count'].iloc[-nobs-1]-dfoil['oilrig_count'].iloc[-nobs-2])+dfoil_forecast['oilrig_count2d'].cumsum()\n",
    "    dfoil_forecast['oilrig_forecast'] = dfoil['oilrig_count'].iloc[-nobs-1] + dfoil_forecast['oilrig_count1d'].cumsum()\n",
    "    RMSE_oil.append('{:.3f}'.format(rmse(dfoil.loc[dfoil.index[test_index],'oilrig_count'],dfoil_forecast['oilrig_forecast'])))\n",
    "    MSE_oil.append('{:.3f}'.format(mse(dfoil.loc[dfoil.index[test_index],'oilrig_count'],dfoil_forecast['oilrig_forecast'])))\n",
    "    MAE_oil.append('{:.3f}'.format(meanabs(dfoil.loc[dfoil.index[test_index],'oilrig_count'],dfoil_forecast['oilrig_forecast'])))\n",
    "\n",
    "RMSE_oil = np.array(RMSE_oil).astype('float')\n",
    "MSE_oil = np.array(MSE_oil).astype('float')\n",
    "MAE_oil = np.array(MAE_oil).astype('float')\n",
    "print(f\"\"\"\\n10-fold Cross Validation Oil Rig\n",
    "RMSE: {RMSE_oil.mean():.3f},\n",
    "MSE: {MSE_oil.mean():.3f}\n",
    "MAE: {MAE_oil.mean():.3f}\\n\n",
    "Oil Rig Mean Value: {dfoil['oilrig_count'][-nobs:].mean():.3f}\n",
    "Oil Rig std Value: {dfoil['oilrig_count'][-nobs:].std():.3f}\n",
    "Oil Rig Percent Change: {RMSE_oil.mean()/dfoil['oilrig_count'][-nobs:].mean()*100:.3f}%\"\"\")"
   ]
  },
  {
   "cell_type": "markdown",
   "id": "743a8a58",
   "metadata": {},
   "source": [
    "#### Fit Model with 100% of Data and forecast Real Future"
   ]
  },
  {
   "cell_type": "code",
   "execution_count": 18,
   "id": "669a5c17",
   "metadata": {},
   "outputs": [
    {
     "name": "stdout",
     "output_type": "stream",
     "text": [
      "Execution time in seconds: 0.015956401824951172\n"
     ]
    }
   ],
   "source": [
    "startTime = time.time()\n",
    "oil_model = VAR(dfoil_transformed)\n",
    "oil_results = oil_model.fit(4,trend='ctt')\n",
    "z = oil_results.forecast(y=dfoil_transformed.values, steps=nobs)\n",
    "idx = pd.date_range(dfoil_transformed.index.max(), periods=nobs, freq='M')\n",
    "dfoil_forecast = pd.DataFrame(z, index=idx, columns=['oilrig_count2d', 'oil_price2d', 'oilconsumption2d', 'oilproduction2d',\n",
    "       'oilstorage2d'])\n",
    "dfoil_forecast['oilrig_count1d'] = (dfoil['oilrig_count'].iloc[-1]-dfoil['oilrig_count'].iloc[-2])+dfoil_forecast['oilrig_count2d'].cumsum()\n",
    "dfoil_forecast['oilrig_forecast'] = dfoil['oilrig_count'].iloc[-1] + dfoil_forecast['oilrig_count1d'].cumsum()\n",
    "executionTime = (time.time() - startTime)\n",
    "print('Execution time in seconds: ' + str(executionTime))"
   ]
  },
  {
   "cell_type": "code",
   "execution_count": 19,
   "id": "e106fc1b",
   "metadata": {},
   "outputs": [
    {
     "data": {
      "text/plain": [
       "<AxesSubplot:title={'center':'Oil Rig Count Prediction: REAL FORECAST - VAR Model'}>"
      ]
     },
     "execution_count": 19,
     "metadata": {},
     "output_type": "execute_result"
    },
    {
     "data": {
      "image/png": "[encoded data removed]",
      "text/plain": [
       "<Figure size 432x432 with 1 Axes>"
      ]
     },
     "metadata": {
      "needs_background": "light"
     },
     "output_type": "display_data"
    }
   ],
   "source": [
    "dfoil['oilrig_count'].loc['2017':].plot(legend=True)\n",
    "dfoil_forecast['oilrig_forecast'].plot(legend=True,linewidth=3,title='Oil Rig Count Prediction: REAL FORECAST - VAR Model')"
   ]
  },
  {
   "cell_type": "markdown",
   "id": "a402e62b",
   "metadata": {},
   "source": [
    "#### Create model with Gas Rig Counts"
   ]
  },
  {
   "cell_type": "code",
   "execution_count": 20,
   "id": "30d3853c",
   "metadata": {},
   "outputs": [
    {
     "data": {
      "text/plain": [
       "Index(['gasrig_count', 'gas_price', 'gaswell_count', 'gasimports_amount',\n",
       "       'gasconsumption_amount'],\n",
       "      dtype='object')"
      ]
     },
     "execution_count": 20,
     "metadata": {},
     "output_type": "execute_result"
    }
   ],
   "source": [
    "dfgas.columns"
   ]
  },
  {
   "cell_type": "code",
   "execution_count": 21,
   "id": "d0d1b918",
   "metadata": {},
   "outputs": [],
   "source": [
    "train, test = dfgas_transformed[0:-nobs], dfgas_transformed[-nobs:]\n",
    "gas_model = VAR(train)\n",
    "gas_results = gas_model.fit(4,trend='ctt')\n",
    "z2 = gas_results.forecast(y=train.values, steps=nobs)\n",
    "idx2 = pd.date_range(test.index.min(), periods=nobs, freq='M')\n",
    "dfgas_forecast = pd.DataFrame(z2, index=idx2, columns=['gasrig_count2d', 'gas_price2d', 'gaswell_count2d', 'gasimports_amount2d',\n",
    "       'gasconsumption_amount2d'])\n",
    "dfgas_forecast['gasrig_count1d'] = (dfgas['gasrig_count'].iloc[-nobs-1]-dfgas['gasrig_count'].iloc[-nobs-2])+dfgas_forecast['gasrig_count2d'].cumsum()\n",
    "dfgas_forecast['gasrig_forecast'] = dfgas['gasrig_count'].iloc[-nobs-1] + dfgas_forecast['gasrig_count1d'].cumsum()"
   ]
  },
  {
   "cell_type": "code",
   "execution_count": 22,
   "id": "8db201e2",
   "metadata": {},
   "outputs": [
    {
     "data": {
      "image/png": "[encoded data removed]",
      "text/plain": [
       "<Figure size 432x432 with 1 Axes>"
      ]
     },
     "metadata": {
      "needs_background": "light"
     },
     "output_type": "display_data"
    }
   ],
   "source": [
    "dfgas['gasrig_count'].loc['2017':].plot(legend=True)\n",
    "dfgas_forecast['gasrig_forecast'].plot(legend=True,linewidth=4,title='Gas Rig Count Prediction: FORECAST vs TEST Set - VAR Model');"
   ]
  },
  {
   "cell_type": "code",
   "execution_count": 23,
   "id": "0a71e73a",
   "metadata": {},
   "outputs": [
    {
     "name": "stdout",
     "output_type": "stream",
     "text": [
      "Gas Rig VAR(4) RMSE: 11.890\n",
      "Gas Rig VAR(4) MSE: 141.381\n",
      "Gas Rig VAR(4) MAE: 11.385\n",
      "\n",
      "Gas Rig Mean Value: 94.254\n",
      "Gas Rig std Value: 7.984\n",
      "Gas Rig Percent Change: 12.615%\n"
     ]
    }
   ],
   "source": [
    "RMSE2 = rmse(dfgas['gasrig_count'].loc[test.index.min():],dfgas_forecast['gasrig_forecast'])\n",
    "MSE2 = mse(dfgas['gasrig_count'].loc[test.index.min():],dfgas_forecast['gasrig_forecast'])\n",
    "MAE2 = meanabs(dfgas['gasrig_count'].loc[test.index.min():],dfgas_forecast['gasrig_forecast'])\n",
    "\n",
    "print(f\"\"\"Gas Rig VAR(4) RMSE: {RMSE2:.3f}\n",
    "Gas Rig VAR(4) MSE: {MSE2:.3f}\n",
    "Gas Rig VAR(4) MAE: {MAE2:.3f}\\n\n",
    "Gas Rig Mean Value: {dfgas['gasrig_count'][-nobs:].mean():.3f}\n",
    "Gas Rig std Value: {dfgas['gasrig_count'][-nobs:].std():.3f}\n",
    "Gas Rig Percent Change: {(RMSE2/dfgas['gasrig_count'][-nobs:].mean())*100:.3f}%\"\"\")"
   ]
  },
  {
   "cell_type": "code",
   "execution_count": 24,
   "id": "b66a8d5e",
   "metadata": {},
   "outputs": [
    {
     "name": "stdout",
     "output_type": "stream",
     "text": [
      "TRAIN: 178 TEST: 12\n",
      "TRAIN: 190 TEST: 12\n",
      "TRAIN: 202 TEST: 12\n",
      "TRAIN: 214 TEST: 12\n",
      "TRAIN: 226 TEST: 12\n",
      "TRAIN: 238 TEST: 12\n",
      "TRAIN: 250 TEST: 12\n",
      "TRAIN: 262 TEST: 12\n",
      "TRAIN: 274 TEST: 12\n",
      "TRAIN: 286 TEST: 12\n",
      "\n",
      "10-fold Cross Validation Gas Rig\n",
      "RMSE: 190.620,\n",
      "MSE: 66785.434\n",
      "MAE: 187.414\n",
      "\n",
      "Gas Rig Mean Value: 94.254\n",
      "Gas Rig std Value: 7.984\n",
      "Gas Rig Percent Change: 202.240%\n"
     ]
    }
   ],
   "source": [
    "tscv = TimeSeriesSplit(n_splits=10, test_size=12)\n",
    "RMSE_gas = []\n",
    "MSE_gas = []\n",
    "MAE_gas = []\n",
    "for train_index, test_index in tscv.split(dfoil_transformed):\n",
    "    print(\"TRAIN:\", len(train_index), \"TEST:\", len(test_index))\n",
    "    train,test = dfgas_transformed.loc[dfgas_transformed.index[train_index],:], dfgas_transformed.loc[dfgas_transformed.index[test_index],:]\n",
    "    gas_model = VAR(train)\n",
    "    gas_results = gas_model.fit(4,trend='ctt')\n",
    "    z = gas_results.forecast(y=train.values[-lag_order:], steps=nobs)\n",
    "    idx = pd.date_range(test.index.min(), periods=nobs, freq='M')\n",
    "    dfgas_forecast = pd.DataFrame(z, index=idx, columns=['gasrig_count2d', 'gas_price2d', 'gaswell_count2d', 'gasimports_amount2d',\n",
    "       'gasconsumption_amount2d'])\n",
    "    dfgas_forecast['gasrig_count1d'] = (dfgas['gasrig_count'].iloc[-nobs-1]-dfgas['gasrig_count'].iloc[-nobs-2])+dfgas_forecast['gasrig_count2d'].cumsum()\n",
    "    dfgas_forecast['gasrig_forecast'] = dfgas['gasrig_count'].iloc[-nobs-1] + dfgas_forecast['gasrig_count1d'].cumsum()\n",
    "    RMSE_gas.append('{:.3f}'.format(rmse(dfgas.loc[dfgas.index[test_index],'gasrig_count'],dfgas_forecast['gasrig_forecast'])))\n",
    "    MSE_gas.append('{:.3f}'.format(mse(dfgas.loc[dfgas.index[test_index],'gasrig_count'],dfgas_forecast['gasrig_forecast'])))\n",
    "    MAE_gas.append('{:.3f}'.format(meanabs(dfgas.loc[dfgas.index[test_index],'gasrig_count'],dfgas_forecast['gasrig_forecast'])))\n",
    "\n",
    "RMSE_gas = np.array(RMSE_gas).astype('float')\n",
    "MSE_gas = np.array(MSE_gas).astype('float')\n",
    "MAE_gas = np.array(MAE_gas).astype('float')\n",
    "print(f\"\"\"\\n10-fold Cross Validation Gas Rig\n",
    "RMSE: {RMSE_gas.mean():.3f},\n",
    "MSE: {MSE_gas.mean():.3f}\n",
    "MAE: {MAE_gas.mean():.3f}\\n\n",
    "Gas Rig Mean Value: {dfgas['gasrig_count'][-nobs:].mean():.3f}\n",
    "Gas Rig std Value: {dfgas['gasrig_count'][-nobs:].std():.3f}\n",
    "Gas Rig Percent Change: {RMSE_gas.mean()/dfgas['gasrig_count'][-nobs:].mean()*100:.3f}%\"\"\")"
   ]
  },
  {
   "cell_type": "markdown",
   "id": "ea0ea120",
   "metadata": {},
   "source": [
    "RE-Fit model with 100% of data for TRUE Forecasting"
   ]
  },
  {
   "cell_type": "code",
   "execution_count": 25,
   "id": "3dabb447",
   "metadata": {},
   "outputs": [],
   "source": [
    "gas_model = VAR(dfgas_transformed)\n",
    "gas_results = gas_model.fit(4,trend='ctt')\n",
    "z = gas_results.forecast(y=dfgas_transformed.values, steps=nobs)\n",
    "idx = pd.date_range(dfgas_transformed.index.max(), periods=nobs, freq='M')\n",
    "dfgas_forecast = pd.DataFrame(z, index=idx, columns=['gasrig_count2d', 'gas_price2d', 'gaswell_count2d', 'gasimports_amount2d',\n",
    "       'gasconsumption_amount2d'])\n",
    "dfgas_forecast['gasrig_count1d'] = (dfgas['gasrig_count'].iloc[-1]-dfgas['gasrig_count'].iloc[-2])+dfgas_forecast['gasrig_count2d'].cumsum()\n",
    "dfgas_forecast['gasrig_forecast'] = dfgas['gasrig_count'].iloc[-1] + dfgas_forecast['gasrig_count1d'].cumsum()"
   ]
  },
  {
   "cell_type": "code",
   "execution_count": 26,
   "id": "336bdb82",
   "metadata": {},
   "outputs": [
    {
     "data": {
      "image/png": "[encoded data removed]",
      "text/plain": [
       "<Figure size 432x432 with 1 Axes>"
      ]
     },
     "metadata": {
      "needs_background": "light"
     },
     "output_type": "display_data"
    }
   ],
   "source": [
    "dfgas['gasrig_count'].loc['2017':].plot(legend=True)\n",
    "dfgas_forecast['gasrig_forecast'].plot(legend=True,linewidth=4,title='Gas Rig Count Prediction: REAL FORECAST - VAR Model');"
   ]
  }
 ],
 "metadata": {
  "kernelspec": {
   "display_name": "Python 3 (ipykernel)",
   "language": "python",
   "name": "python3"
  },
  "language_info": {
   "codemirror_mode": {
    "name": "ipython",
    "version": 3
   },
   "file_extension": ".py",
   "mimetype": "text/x-python",
   "name": "python",
   "nbconvert_exporter": "python",
   "pygments_lexer": "ipython3",
   "version": "3.9.6"
  }
 },
 "nbformat": 4,
 "nbformat_minor": 5
}
